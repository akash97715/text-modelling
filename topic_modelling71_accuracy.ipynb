{
  "nbformat": 4,
  "nbformat_minor": 0,
  "metadata": {
    "colab": {
      "name": "topic_modelling71%accuracy.ipynb",
      "provenance": [],
      "include_colab_link": true
    },
    "kernelspec": {
      "name": "python3",
      "display_name": "Python 3"
    }
  },
  "cells": [
    {
      "cell_type": "markdown",
      "metadata": {
        "id": "view-in-github",
        "colab_type": "text"
      },
      "source": [
        "<a href=\"https://colab.research.google.com/github/akash97715/text-modelling/blob/master/topic_modelling71_accuracy.ipynb\" target=\"_parent\"><img src=\"https://colab.research.google.com/assets/colab-badge.svg\" alt=\"Open In Colab\"/></a>"
      ]
    },
    {
      "cell_type": "code",
      "metadata": {
        "id": "bzpovSZBidsQ",
        "colab_type": "code",
        "colab": {
          "base_uri": "https://localhost:8080/",
          "height": 365
        },
        "outputId": "9a0bc9b8-dd54-49e9-89a4-afacd3a3f594"
      },
      "source": [
        "pip install pyss3"
      ],
      "execution_count": 1,
      "outputs": [
        {
          "output_type": "stream",
          "text": [
            "Collecting pyss3\n",
            "\u001b[?25l  Downloading https://files.pythonhosted.org/packages/1c/e4/045aadca22752b64d3011c8a07f3a2267804f2ce178795691a7b5015c530/pyss3-0.3.9-py3-none-any.whl (1.9MB)\n",
            "\u001b[K     |████████████████████████████████| 1.9MB 2.8MB/s \n",
            "\u001b[?25hRequirement already satisfied: scikit-learn[alldeps]>=0.20 in /usr/local/lib/python3.6/dist-packages (from pyss3) (0.21.3)\n",
            "Requirement already satisfied: matplotlib in /usr/local/lib/python3.6/dist-packages (from pyss3) (3.1.2)\n",
            "Requirement already satisfied: tqdm>=4.8.4 in /usr/local/lib/python3.6/dist-packages (from pyss3) (4.28.1)\n",
            "Requirement already satisfied: six in /usr/local/lib/python3.6/dist-packages (from pyss3) (1.12.0)\n",
            "Requirement already satisfied: cython in /usr/local/lib/python3.6/dist-packages (from pyss3) (0.29.14)\n",
            "Requirement already satisfied: joblib>=0.11 in /usr/local/lib/python3.6/dist-packages (from scikit-learn[alldeps]>=0.20->pyss3) (0.14.1)\n",
            "Requirement already satisfied: numpy>=1.11.0 in /usr/local/lib/python3.6/dist-packages (from scikit-learn[alldeps]>=0.20->pyss3) (1.17.4)\n",
            "Requirement already satisfied: scipy>=0.17.0 in /usr/local/lib/python3.6/dist-packages (from scikit-learn[alldeps]>=0.20->pyss3) (1.3.3)\n",
            "Requirement already satisfied: pyparsing!=2.0.4,!=2.1.2,!=2.1.6,>=2.0.1 in /usr/local/lib/python3.6/dist-packages (from matplotlib->pyss3) (2.4.5)\n",
            "Requirement already satisfied: python-dateutil>=2.1 in /usr/local/lib/python3.6/dist-packages (from matplotlib->pyss3) (2.6.1)\n",
            "Requirement already satisfied: kiwisolver>=1.0.1 in /usr/local/lib/python3.6/dist-packages (from matplotlib->pyss3) (1.1.0)\n",
            "Requirement already satisfied: cycler>=0.10 in /usr/local/lib/python3.6/dist-packages (from matplotlib->pyss3) (0.10.0)\n",
            "Requirement already satisfied: setuptools in /usr/local/lib/python3.6/dist-packages (from kiwisolver>=1.0.1->matplotlib->pyss3) (42.0.2)\n",
            "Installing collected packages: pyss3\n",
            "Successfully installed pyss3-0.3.9\n"
          ],
          "name": "stdout"
        }
      ]
    },
    {
      "cell_type": "code",
      "metadata": {
        "id": "DZtGPY2Gi0fn",
        "colab_type": "code",
        "colab": {
          "base_uri": "https://localhost:8080/",
          "height": 292
        },
        "outputId": "c0862066-fde2-496a-eb68-3ab57e36607b"
      },
      "source": [
        "pip install --upgrade pyss3"
      ],
      "execution_count": 2,
      "outputs": [
        {
          "output_type": "stream",
          "text": [
            "Requirement already up-to-date: pyss3 in /usr/local/lib/python3.6/dist-packages (0.3.9)\n",
            "Requirement already satisfied, skipping upgrade: matplotlib in /usr/local/lib/python3.6/dist-packages (from pyss3) (3.1.2)\n",
            "Requirement already satisfied, skipping upgrade: six in /usr/local/lib/python3.6/dist-packages (from pyss3) (1.12.0)\n",
            "Requirement already satisfied, skipping upgrade: cython in /usr/local/lib/python3.6/dist-packages (from pyss3) (0.29.14)\n",
            "Requirement already satisfied, skipping upgrade: scikit-learn[alldeps]>=0.20 in /usr/local/lib/python3.6/dist-packages (from pyss3) (0.21.3)\n",
            "Requirement already satisfied, skipping upgrade: tqdm>=4.8.4 in /usr/local/lib/python3.6/dist-packages (from pyss3) (4.28.1)\n",
            "Requirement already satisfied, skipping upgrade: python-dateutil>=2.1 in /usr/local/lib/python3.6/dist-packages (from matplotlib->pyss3) (2.6.1)\n",
            "Requirement already satisfied, skipping upgrade: pyparsing!=2.0.4,!=2.1.2,!=2.1.6,>=2.0.1 in /usr/local/lib/python3.6/dist-packages (from matplotlib->pyss3) (2.4.5)\n",
            "Requirement already satisfied, skipping upgrade: kiwisolver>=1.0.1 in /usr/local/lib/python3.6/dist-packages (from matplotlib->pyss3) (1.1.0)\n",
            "Requirement already satisfied, skipping upgrade: numpy>=1.11 in /usr/local/lib/python3.6/dist-packages (from matplotlib->pyss3) (1.17.4)\n",
            "Requirement already satisfied, skipping upgrade: cycler>=0.10 in /usr/local/lib/python3.6/dist-packages (from matplotlib->pyss3) (0.10.0)\n",
            "Requirement already satisfied, skipping upgrade: joblib>=0.11 in /usr/local/lib/python3.6/dist-packages (from scikit-learn[alldeps]>=0.20->pyss3) (0.14.1)\n",
            "Requirement already satisfied, skipping upgrade: scipy>=0.17.0 in /usr/local/lib/python3.6/dist-packages (from scikit-learn[alldeps]>=0.20->pyss3) (1.3.3)\n",
            "Requirement already satisfied, skipping upgrade: setuptools in /usr/local/lib/python3.6/dist-packages (from kiwisolver>=1.0.1->matplotlib->pyss3) (42.0.2)\n"
          ],
          "name": "stdout"
        }
      ]
    },
    {
      "cell_type": "code",
      "metadata": {
        "id": "dSGjs3eNj_D2",
        "colab_type": "code",
        "colab": {
          "base_uri": "https://localhost:8080/",
          "height": 145
        },
        "outputId": "eeb0a694-e686-4f34-bf29-b72f920b122f"
      },
      "source": [
        "!git clone https://github.com/sergioburdisso/pyss3"
      ],
      "execution_count": 5,
      "outputs": [
        {
          "output_type": "stream",
          "text": [
            "Cloning into 'pyss3'...\n",
            "remote: Enumerating objects: 287, done.\u001b[K\n",
            "remote: Counting objects: 100% (287/287), done.\u001b[K\n",
            "remote: Compressing objects: 100% (208/208), done.\u001b[K\n",
            "remote: Total 709 (delta 168), reused 185 (delta 78), pack-reused 422\u001b[K\n",
            "Receiving objects: 100% (709/709), 41.32 MiB | 24.81 MiB/s, done.\n",
            "Resolving deltas: 100% (399/399), done.\n"
          ],
          "name": "stdout"
        }
      ]
    },
    {
      "cell_type": "code",
      "metadata": {
        "id": "H5P4dh0hkmSH",
        "colab_type": "code",
        "colab": {
          "base_uri": "https://localhost:8080/",
          "height": 35
        },
        "outputId": "02f1b52b-5bcc-4319-bf7e-451a70272b96"
      },
      "source": [
        "cd pyss3"
      ],
      "execution_count": 6,
      "outputs": [
        {
          "output_type": "stream",
          "text": [
            "/content/pyss3\n"
          ],
          "name": "stdout"
        }
      ]
    },
    {
      "cell_type": "code",
      "metadata": {
        "id": "6jTkxBB5kqzS",
        "colab_type": "code",
        "colab": {
          "base_uri": "https://localhost:8080/",
          "height": 274
        },
        "outputId": "329f92f0-a867-4de4-a721-effe670fd8c8"
      },
      "source": [
        "pip install -r requirements.txt"
      ],
      "execution_count": 7,
      "outputs": [
        {
          "output_type": "stream",
          "text": [
            "Requirement already satisfied: six in /usr/local/lib/python3.6/dist-packages (from -r requirements.txt (line 1)) (1.12.0)\n",
            "Requirement already satisfied: cython in /usr/local/lib/python3.6/dist-packages (from -r requirements.txt (line 2)) (0.29.14)\n",
            "Requirement already satisfied: scikit-learn[alldeps]>=0.20 in /usr/local/lib/python3.6/dist-packages (from -r requirements.txt (line 3)) (0.21.3)\n",
            "Requirement already satisfied: tqdm>=4.8.4 in /usr/local/lib/python3.6/dist-packages (from -r requirements.txt (line 4)) (4.28.1)\n",
            "Requirement already satisfied: matplotlib in /usr/local/lib/python3.6/dist-packages (from -r requirements.txt (line 5)) (3.1.2)\n",
            "Requirement already satisfied: numpy>=1.11.0 in /usr/local/lib/python3.6/dist-packages (from scikit-learn[alldeps]>=0.20->-r requirements.txt (line 3)) (1.17.4)\n",
            "Requirement already satisfied: scipy>=0.17.0 in /usr/local/lib/python3.6/dist-packages (from scikit-learn[alldeps]>=0.20->-r requirements.txt (line 3)) (1.3.3)\n",
            "Requirement already satisfied: joblib>=0.11 in /usr/local/lib/python3.6/dist-packages (from scikit-learn[alldeps]>=0.20->-r requirements.txt (line 3)) (0.14.1)\n",
            "Requirement already satisfied: kiwisolver>=1.0.1 in /usr/local/lib/python3.6/dist-packages (from matplotlib->-r requirements.txt (line 5)) (1.1.0)\n",
            "Requirement already satisfied: python-dateutil>=2.1 in /usr/local/lib/python3.6/dist-packages (from matplotlib->-r requirements.txt (line 5)) (2.6.1)\n",
            "Requirement already satisfied: pyparsing!=2.0.4,!=2.1.2,!=2.1.6,>=2.0.1 in /usr/local/lib/python3.6/dist-packages (from matplotlib->-r requirements.txt (line 5)) (2.4.5)\n",
            "Requirement already satisfied: cycler>=0.10 in /usr/local/lib/python3.6/dist-packages (from matplotlib->-r requirements.txt (line 5)) (0.10.0)\n",
            "Requirement already satisfied: setuptools in /usr/local/lib/python3.6/dist-packages (from kiwisolver>=1.0.1->matplotlib->-r requirements.txt (line 5)) (42.0.2)\n"
          ],
          "name": "stdout"
        }
      ]
    },
    {
      "cell_type": "code",
      "metadata": {
        "id": "_EGQZsglk7md",
        "colab_type": "code",
        "colab": {
          "base_uri": "https://localhost:8080/",
          "height": 474
        },
        "outputId": "71438c5d-aaab-4478-fe44-0d7d3c8ee999"
      },
      "source": [
        "pip install ."
      ],
      "execution_count": 8,
      "outputs": [
        {
          "output_type": "stream",
          "text": [
            "Processing /content/pyss3\n",
            "Requirement already satisfied: six in /usr/local/lib/python3.6/dist-packages (from pyss3==0.3.9) (1.12.0)\n",
            "Requirement already satisfied: cython in /usr/local/lib/python3.6/dist-packages (from pyss3==0.3.9) (0.29.14)\n",
            "Requirement already satisfied: scikit-learn[alldeps]>=0.20 in /usr/local/lib/python3.6/dist-packages (from pyss3==0.3.9) (0.21.3)\n",
            "Requirement already satisfied: tqdm>=4.8.4 in /usr/local/lib/python3.6/dist-packages (from pyss3==0.3.9) (4.28.1)\n",
            "Requirement already satisfied: matplotlib in /usr/local/lib/python3.6/dist-packages (from pyss3==0.3.9) (3.1.2)\n",
            "Requirement already satisfied: scipy>=0.17.0 in /usr/local/lib/python3.6/dist-packages (from scikit-learn[alldeps]>=0.20->pyss3==0.3.9) (1.3.3)\n",
            "Requirement already satisfied: joblib>=0.11 in /usr/local/lib/python3.6/dist-packages (from scikit-learn[alldeps]>=0.20->pyss3==0.3.9) (0.14.1)\n",
            "Requirement already satisfied: numpy>=1.11.0 in /usr/local/lib/python3.6/dist-packages (from scikit-learn[alldeps]>=0.20->pyss3==0.3.9) (1.17.4)\n",
            "Requirement already satisfied: cycler>=0.10 in /usr/local/lib/python3.6/dist-packages (from matplotlib->pyss3==0.3.9) (0.10.0)\n",
            "Requirement already satisfied: kiwisolver>=1.0.1 in /usr/local/lib/python3.6/dist-packages (from matplotlib->pyss3==0.3.9) (1.1.0)\n",
            "Requirement already satisfied: pyparsing!=2.0.4,!=2.1.2,!=2.1.6,>=2.0.1 in /usr/local/lib/python3.6/dist-packages (from matplotlib->pyss3==0.3.9) (2.4.5)\n",
            "Requirement already satisfied: python-dateutil>=2.1 in /usr/local/lib/python3.6/dist-packages (from matplotlib->pyss3==0.3.9) (2.6.1)\n",
            "Requirement already satisfied: setuptools in /usr/local/lib/python3.6/dist-packages (from kiwisolver>=1.0.1->matplotlib->pyss3==0.3.9) (42.0.2)\n",
            "Building wheels for collected packages: pyss3\n",
            "  Building wheel for pyss3 (setup.py) ... \u001b[?25l\u001b[?25hdone\n",
            "  Created wheel for pyss3: filename=pyss3-0.3.9-cp36-none-any.whl size=1884139 sha256=0469753aaef71c789d53c238a2c83abb19315999c9381e074ee7a2170fa9eb4c\n",
            "  Stored in directory: /tmp/pip-ephem-wheel-cache-u4ll_yxf/wheels/5c/04/16/57fef43838893f423d403bdaddb8ebc026ddb4e5139db12c81\n",
            "Successfully built pyss3\n",
            "Installing collected packages: pyss3\n",
            "  Found existing installation: pyss3 0.3.9\n",
            "    Uninstalling pyss3-0.3.9:\n",
            "      Successfully uninstalled pyss3-0.3.9\n",
            "Successfully installed pyss3-0.3.9\n"
          ],
          "name": "stdout"
        }
      ]
    },
    {
      "cell_type": "code",
      "metadata": {
        "id": "Xk7vGOCclOAO",
        "colab_type": "code",
        "colab": {
          "base_uri": "https://localhost:8080/",
          "height": 72
        },
        "outputId": "4e71fa84-cb4e-4ba2-ca7b-1df6048f3808"
      },
      "source": [
        "ls"
      ],
      "execution_count": 9,
      "outputs": [
        {
          "output_type": "stream",
          "text": [
            "CHANGELOG.md        \u001b[0m\u001b[01;34mdocs\u001b[0m/        \u001b[01;34mpyss3\u001b[0m/                requirements.txt  \u001b[01;34mtests\u001b[0m/\n",
            "CODE_OF_CONDUCT.md  \u001b[01;34mexamples\u001b[0m/    README.md             setup.cfg\n",
            "CONTRIBUTING.md     LICENSE.txt  requirements-dev.txt  setup.py\n"
          ],
          "name": "stdout"
        }
      ]
    },
    {
      "cell_type": "code",
      "metadata": {
        "id": "c_skPWTllh9G",
        "colab_type": "code",
        "colab": {
          "base_uri": "https://localhost:8080/",
          "height": 35
        },
        "outputId": "eb4d10b8-11c2-40ed-fb92-91e8fda71b8b"
      },
      "source": [
        "cd examples"
      ],
      "execution_count": 10,
      "outputs": [
        {
          "output_type": "stream",
          "text": [
            "/content/pyss3/examples\n"
          ],
          "name": "stdout"
        }
      ]
    },
    {
      "cell_type": "code",
      "metadata": {
        "id": "gPaR2YjQll6A",
        "colab_type": "code",
        "colab": {
          "base_uri": "https://localhost:8080/",
          "height": 171
        },
        "outputId": "2743eccd-81b1-4438-cf34-0604648399a1"
      },
      "source": [
        "info"
      ],
      "execution_count": 11,
      "outputs": [
        {
          "output_type": "error",
          "ename": "NameError",
          "evalue": "ignored",
          "traceback": [
            "\u001b[0;31m---------------------------------------------------------------------------\u001b[0m",
            "\u001b[0;31mNameError\u001b[0m                                 Traceback (most recent call last)",
            "\u001b[0;32m<ipython-input-11-886ead46232a>\u001b[0m in \u001b[0;36m<module>\u001b[0;34m()\u001b[0m\n\u001b[0;32m----> 1\u001b[0;31m \u001b[0minfo\u001b[0m\u001b[0;34m\u001b[0m\u001b[0;34m\u001b[0m\u001b[0m\n\u001b[0m",
            "\u001b[0;31mNameError\u001b[0m: name 'info' is not defined"
          ]
        }
      ]
    },
    {
      "cell_type": "code",
      "metadata": {
        "id": "KrgrNVWSlqxa",
        "colab_type": "code",
        "colab": {
          "base_uri": "https://localhost:8080/",
          "height": 54
        },
        "outputId": "ffcceefc-af85-496d-f7c2-9016a49c1b0b"
      },
      "source": [
        "ls"
      ],
      "execution_count": 12,
      "outputs": [
        {
          "output_type": "stream",
          "text": [
            "\u001b[0m\u001b[01;34mdatasets\u001b[0m/           movie_review.py  topic_categorization.ipynb\n",
            "movie_review.ipynb  README.md        topic_categorization.py\n"
          ],
          "name": "stdout"
        }
      ]
    },
    {
      "cell_type": "code",
      "metadata": {
        "id": "2U5NXZurmr9x",
        "colab_type": "code",
        "colab": {}
      },
      "source": [
        "from pyss3 import SS3\n",
        "from pyss3.util import Dataset\n",
        "from pyss3.server import Server\n",
        "\n",
        "from sklearn.metrics import accuracy_score"
      ],
      "execution_count": 0,
      "outputs": []
    },
    {
      "cell_type": "code",
      "metadata": {
        "id": "ANzOIuw3myCP",
        "colab_type": "code",
        "colab": {
          "base_uri": "https://localhost:8080/",
          "height": 581
        },
        "outputId": "4177c0f3-dc55-47e6-aeea-b2112f46b76a"
      },
      "source": [
        "!unzip -u datasets/topic.zip -d datasets/"
      ],
      "execution_count": 14,
      "outputs": [
        {
          "output_type": "stream",
          "text": [
            "Archive:  datasets/topic.zip\n",
            "   creating: datasets/topic/\n",
            "   creating: datasets/topic/live_test/\n",
            "   creating: datasets/topic/live_test/test docs/\n",
            "  inflating: datasets/topic/live_test/test docs/doc_1.txt  \n",
            "  inflating: datasets/topic/live_test/test docs/doc_2.txt  \n",
            "  inflating: datasets/topic/live_test/test docs/doc_3.txt  \n",
            "  inflating: datasets/topic/live_test/test docs/doc_4.txt  \n",
            "  inflating: datasets/topic/live_test/test docs/doc_5.txt  \n",
            "  inflating: datasets/topic/live_test/test docs/doc_6.txt  \n",
            "  inflating: datasets/topic/live_test/test docs/doc_7.txt  \n",
            "  inflating: datasets/topic/live_test/test docs/doc_8.txt  \n",
            "  inflating: datasets/topic/live_test/test docs/doc_9.txt  \n",
            "   creating: datasets/topic/test/\n",
            "  inflating: datasets/topic/test/art&photography.txt  \n",
            "  inflating: datasets/topic/test/beauty&fashion.txt  \n",
            "  inflating: datasets/topic/test/business&finance.txt  \n",
            "  inflating: datasets/topic/test/food.txt  \n",
            "  inflating: datasets/topic/test/health.txt  \n",
            "  inflating: datasets/topic/test/music.txt  \n",
            "  inflating: datasets/topic/test/science&technology.txt  \n",
            "  inflating: datasets/topic/test/sports.txt  \n",
            "   creating: datasets/topic/train/\n",
            "  inflating: datasets/topic/train/art&photography.txt  \n",
            "  inflating: datasets/topic/train/beauty&fashion.txt  \n",
            "  inflating: datasets/topic/train/business&finance.txt  \n",
            "  inflating: datasets/topic/train/food.txt  \n",
            "  inflating: datasets/topic/train/health.txt  \n",
            "  inflating: datasets/topic/train/music.txt  \n",
            "  inflating: datasets/topic/train/science&technology.txt  \n",
            "  inflating: datasets/topic/train/sports.txt  \n"
          ],
          "name": "stdout"
        }
      ]
    },
    {
      "cell_type": "code",
      "metadata": {
        "id": "3HneEyhgm1QJ",
        "colab_type": "code",
        "colab": {}
      },
      "source": [
        "clf = SS3()"
      ],
      "execution_count": 0,
      "outputs": []
    },
    {
      "cell_type": "code",
      "metadata": {
        "id": "5wPZSOhNm5cC",
        "colab_type": "code",
        "colab": {
          "base_uri": "https://localhost:8080/",
          "height": 72
        },
        "outputId": "4d691eed-a6ed-46a8-a1b5-9f9af5e6f4c6"
      },
      "source": [
        "s, l, p, _ = clf.get_hyperparameters()\n",
        "\n",
        "print(\"Smoothness(s):\", s)\n",
        "print(\"Significance(l):\", l)\n",
        "print(\"Sanction(p):\", p)"
      ],
      "execution_count": 16,
      "outputs": [
        {
          "output_type": "stream",
          "text": [
            "Smoothness(s): 0.45\n",
            "Significance(l): 0.5\n",
            "Sanction(p): 1\n"
          ],
          "name": "stdout"
        }
      ]
    },
    {
      "cell_type": "code",
      "metadata": {
        "id": "SNn9IHZlm-Om",
        "colab_type": "code",
        "colab": {
          "base_uri": "https://localhost:8080/",
          "height": 381
        },
        "outputId": "514cffe8-d4a4-42bd-b70a-4e6c1627f700"
      },
      "source": [
        "x_train, y_train = Dataset.load_from_files(\"datasets/topic/train\", folder_label=False)\n",
        "x_test, y_test = Dataset.load_from_files(\"datasets/topic/test\", folder_label=False)"
      ],
      "execution_count": 17,
      "outputs": [
        {
          "output_type": "stream",
          "text": [
            "                                                      "
          ],
          "name": "stderr"
        },
        {
          "output_type": "stream",
          "text": [
            "\u001b[94m[ reading files... ]\u001b[0m\n",
            "\u001b[94m[ 8 categories found ]\u001b[0m\n",
            "\u001b[94m    [ 'beauty&fashion' (28616 documents) ]\u001b[0m\n",
            "\u001b[94m    [ 'food' (35203 documents) ]\u001b[0m\n",
            "\u001b[94m    [ 'business&finance' (18841 documents) ]\u001b[0m\n",
            "\u001b[94m    [ 'art&photography' (33846 documents) ]\u001b[0m\n",
            "\u001b[94m    [ 'health' (32767 documents) ]\u001b[0m\n",
            "\u001b[94m    [ 'sports' (21129 documents) ]\u001b[0m\n",
            "\u001b[94m    [ 'music' (21443 documents) ]\u001b[0m\n",
            "\u001b[94m    [ 'science&technology' (29017 documents) ]\u001b[0m\n",
            "\u001b[94m[ reading files... ]\u001b[0m\n",
            "\u001b[94m[ 8 categories found ]\u001b[0m\n",
            "\u001b[94m    [ 'beauty&fashion' (100 documents) ]\u001b[0m\n",
            "\u001b[94m    [ 'food' (100 documents) ]\u001b[0m\n",
            "\u001b[94m    [ 'business&finance' (100 documents) ]\u001b[0m\n",
            "\u001b[94m    [ 'art&photography' (100 documents) ]\u001b[0m\n",
            "\u001b[94m    [ 'health' (100 documents) ]\u001b[0m\n",
            "\u001b[94m    [ 'sports' (100 documents) ]\u001b[0m\n",
            "\u001b[94m    [ 'music' (100 documents) ]\u001b[0m\n",
            "\u001b[94m    [ 'science&technology' (100 documents) ]\u001b[0m\n"
          ],
          "name": "stdout"
        },
        {
          "output_type": "stream",
          "text": [
            "\r"
          ],
          "name": "stderr"
        }
      ]
    },
    {
      "cell_type": "code",
      "metadata": {
        "id": "UKGCL2tgnGsI",
        "colab_type": "code",
        "colab": {
          "base_uri": "https://localhost:8080/",
          "height": 963
        },
        "outputId": "5ef5793a-46c4-409f-c304-254e6b493a74"
      },
      "source": [
        "clf.fit(x_train, y_train)"
      ],
      "execution_count": 18,
      "outputs": [
        {
          "output_type": "stream",
          "text": [
            "\r Training:   0%|          | 0/8 [00:00<?, ?it/s]"
          ],
          "name": "stderr"
        },
        {
          "output_type": "stream",
          "text": [
            "\u001b[94m [ about to start training ]\u001b[0m\n"
          ],
          "name": "stdout"
        },
        {
          "output_type": "stream",
          "text": [
            " Training: 100%|██████████| 8/8 [00:35<00:00,  4.22s/it]\n"
          ],
          "name": "stderr"
        },
        {
          "output_type": "stream",
          "text": [
            "\u001b[94m [ pruning tries... ]\u001b[0m\n",
            "\u001b[94m [ finished --time: 35.7s ]\u001b[0m\n",
            "\u001b[94m [ about to start updating values... ]\u001b[0m\n",
            "\u001b[94m [ caching lv values ]\u001b[0m\n",
            "\u001b[94m    [ lv values for 0 (art&photography) ]\u001b[0m\n",
            "\u001b[94m    [ lv values for 1 (beauty&fashion) ]\u001b[0m\n",
            "\u001b[94m    [ lv values for 2 (business&finance) ]\u001b[0m\n",
            "\u001b[94m    [ lv values for 3 (food) ]\u001b[0m\n",
            "\u001b[94m    [ lv values for 4 (health) ]\u001b[0m\n",
            "\u001b[94m    [ lv values for 5 (music) ]\u001b[0m\n",
            "\u001b[94m    [ lv values for 6 (science&technology) ]\u001b[0m\n",
            "\u001b[94m    [ lv values for 7 (sports) ]\u001b[0m\n",
            "\u001b[94m [ caching sg values ]\u001b[0m\n",
            "\u001b[94m    [ sg values for 0 (art&photography) ]\u001b[0m\n",
            "\u001b[94m    [ sg values for 1 (beauty&fashion) ]\u001b[0m\n",
            "\u001b[94m    [ sg values for 2 (business&finance) ]\u001b[0m\n",
            "\u001b[94m    [ sg values for 3 (food) ]\u001b[0m\n",
            "\u001b[94m    [ sg values for 4 (health) ]\u001b[0m\n",
            "\u001b[94m    [ sg values for 5 (music) ]\u001b[0m\n",
            "\u001b[94m    [ sg values for 6 (science&technology) ]\u001b[0m\n",
            "\u001b[94m    [ sg values for 7 (sports) ]\u001b[0m\n",
            "\u001b[94m[ caching gv values ]\u001b[0m\n",
            "\u001b[94m    [ gv values for 0 (art&photography) ]\u001b[0m\n",
            "\u001b[94m    [ gv values for 1 (beauty&fashion) ]\u001b[0m\n",
            "\u001b[94m    [ gv values for 2 (business&finance) ]\u001b[0m\n",
            "\u001b[94m    [ gv values for 3 (food) ]\u001b[0m\n",
            "\u001b[94m    [ gv values for 4 (health) ]\u001b[0m\n",
            "\u001b[94m    [ gv values for 5 (music) ]\u001b[0m\n",
            "\u001b[94m    [ gv values for 6 (science&technology) ]\u001b[0m\n",
            "\u001b[94m    [ gv values for 7 (sports) ]\u001b[0m\n",
            "\u001b[94m [ updating max gv values ]\u001b[0m\n",
            "\u001b[94m    [ max gv values for 0 (art&photography) ]\u001b[0m\n",
            "\u001b[94m    [ max gv values for 1 (beauty&fashion) ]\u001b[0m\n",
            "\u001b[94m    [ max gv values for 2 (business&finance) ]\u001b[0m\n",
            "\u001b[94m    [ max gv values for 3 (food) ]\u001b[0m\n",
            "\u001b[94m    [ max gv values for 4 (health) ]\u001b[0m\n",
            "\u001b[94m    [ max gv values for 5 (music) ]\u001b[0m\n",
            "\u001b[94m    [ max gv values for 6 (science&technology) ]\u001b[0m\n",
            "\u001b[94m    [ max gv values for 7 (sports) ]\u001b[0m\n",
            "\u001b[94m [ max gv values have been updated ]\u001b[0m\n",
            "\u001b[94m [ caching confidence values (cvs) ]\u001b[0m\n",
            "\u001b[94m    [ cvs for 0 (art&photography) ]\u001b[0m\n",
            "\u001b[94m    [ cvs for 1 (beauty&fashion) ]\u001b[0m\n",
            "\u001b[94m    [ cvs for 2 (business&finance) ]\u001b[0m\n",
            "\u001b[94m    [ cvs for 3 (food) ]\u001b[0m\n",
            "\u001b[94m    [ cvs for 4 (health) ]\u001b[0m\n",
            "\u001b[94m    [ cvs for 5 (music) ]\u001b[0m\n",
            "\u001b[94m    [ cvs for 6 (science&technology) ]\u001b[0m\n",
            "\u001b[94m    [ cvs for 7 (sports) ]\u001b[0m\n",
            "\u001b[94m [ finished --time: 7.1s ]\u001b[0m\n"
          ],
          "name": "stdout"
        }
      ]
    },
    {
      "cell_type": "code",
      "metadata": {
        "id": "E4gA0TIOnZaA",
        "colab_type": "code",
        "colab": {
          "base_uri": "https://localhost:8080/",
          "height": 108
        },
        "outputId": "d807b1a6-f778-45cc-e23f-6a3c6116a41c"
      },
      "source": [
        "y_pred = clf.predict(x_test)"
      ],
      "execution_count": 19,
      "outputs": [
        {
          "output_type": "stream",
          "text": [
            " Classification:   9%|▉         | 71/800 [00:00<00:01, 705.71it/s]"
          ],
          "name": "stderr"
        },
        {
          "output_type": "stream",
          "text": [
            "\u001b[94m [ default category was automatically set to 'health' (the most probable one) ]\u001b[0m\n",
            "\u001b[94m [ about to start classifying test documents ]\u001b[0m\n"
          ],
          "name": "stdout"
        },
        {
          "output_type": "stream",
          "text": [
            " Classification: 100%|██████████| 800/800 [00:01<00:00, 686.15it/s]"
          ],
          "name": "stderr"
        },
        {
          "output_type": "stream",
          "text": [
            "\u001b[94m [ finished --time: 1.2s ]\u001b[0m\n"
          ],
          "name": "stdout"
        },
        {
          "output_type": "stream",
          "text": [
            "\n"
          ],
          "name": "stderr"
        }
      ]
    },
    {
      "cell_type": "code",
      "metadata": {
        "id": "nCMW7GI_niEN",
        "colab_type": "code",
        "colab": {
          "base_uri": "https://localhost:8080/",
          "height": 35
        },
        "outputId": "a3516b66-b1b4-4913-b509-f4d05e4037bb"
      },
      "source": [
        "print(\"Accuracy:\", accuracy_score(y_pred, y_test))"
      ],
      "execution_count": 20,
      "outputs": [
        {
          "output_type": "stream",
          "text": [
            "Accuracy: 0.70375\n"
          ],
          "name": "stdout"
        }
      ]
    },
    {
      "cell_type": "code",
      "metadata": {
        "id": "5bD3zIA2nKat",
        "colab_type": "code",
        "colab": {
          "base_uri": "https://localhost:8080/",
          "height": 963
        },
        "outputId": "f77ad7c6-b150-423a-d1af-9065030bacad"
      },
      "source": [
        "clf = SS3(name=\"topic_categorization_3grams\")\n",
        "\n",
        "clf.fit(x_train, y_train, n_grams=3)"
      ],
      "execution_count": 21,
      "outputs": [
        {
          "output_type": "stream",
          "text": [
            "\r Training:   0%|          | 0/8 [00:00<?, ?it/s]"
          ],
          "name": "stderr"
        },
        {
          "output_type": "stream",
          "text": [
            "\u001b[94m [ about to start training ]\u001b[0m\n"
          ],
          "name": "stdout"
        },
        {
          "output_type": "stream",
          "text": [
            " Training: 100%|██████████| 8/8 [00:47<00:00,  5.72s/it]\n"
          ],
          "name": "stderr"
        },
        {
          "output_type": "stream",
          "text": [
            "\u001b[94m [ pruning tries... ]\u001b[0m\n",
            "\u001b[94m [ finished --time: 47.7s ]\u001b[0m\n",
            "\u001b[94m [ about to start updating values... ]\u001b[0m\n",
            "\u001b[94m [ caching lv values ]\u001b[0m\n",
            "\u001b[94m    [ lv values for 0 (art&photography) ]\u001b[0m\n",
            "\u001b[94m    [ lv values for 1 (beauty&fashion) ]\u001b[0m\n",
            "\u001b[94m    [ lv values for 2 (business&finance) ]\u001b[0m\n",
            "\u001b[94m    [ lv values for 3 (food) ]\u001b[0m\n",
            "\u001b[94m    [ lv values for 4 (health) ]\u001b[0m\n",
            "\u001b[94m    [ lv values for 5 (music) ]\u001b[0m\n",
            "\u001b[94m    [ lv values for 6 (science&technology) ]\u001b[0m\n",
            "\u001b[94m    [ lv values for 7 (sports) ]\u001b[0m\n",
            "\u001b[94m [ caching sg values ]\u001b[0m\n",
            "\u001b[94m    [ sg values for 0 (art&photography) ]\u001b[0m\n",
            "\u001b[94m    [ sg values for 1 (beauty&fashion) ]\u001b[0m\n",
            "\u001b[94m    [ sg values for 2 (business&finance) ]\u001b[0m\n",
            "\u001b[94m    [ sg values for 3 (food) ]\u001b[0m\n",
            "\u001b[94m    [ sg values for 4 (health) ]\u001b[0m\n",
            "\u001b[94m    [ sg values for 5 (music) ]\u001b[0m\n",
            "\u001b[94m    [ sg values for 6 (science&technology) ]\u001b[0m\n",
            "\u001b[94m    [ sg values for 7 (sports) ]\u001b[0m\n",
            "\u001b[94m[ caching gv values ]\u001b[0m\n",
            "\u001b[94m    [ gv values for 0 (art&photography) ]\u001b[0m\n",
            "\u001b[94m    [ gv values for 1 (beauty&fashion) ]\u001b[0m\n",
            "\u001b[94m    [ gv values for 2 (business&finance) ]\u001b[0m\n",
            "\u001b[94m    [ gv values for 3 (food) ]\u001b[0m\n",
            "\u001b[94m    [ gv values for 4 (health) ]\u001b[0m\n",
            "\u001b[94m    [ gv values for 5 (music) ]\u001b[0m\n",
            "\u001b[94m    [ gv values for 6 (science&technology) ]\u001b[0m\n",
            "\u001b[94m    [ gv values for 7 (sports) ]\u001b[0m\n",
            "\u001b[94m [ updating max gv values ]\u001b[0m\n",
            "\u001b[94m    [ max gv values for 0 (art&photography) ]\u001b[0m\n",
            "\u001b[94m    [ max gv values for 1 (beauty&fashion) ]\u001b[0m\n",
            "\u001b[94m    [ max gv values for 2 (business&finance) ]\u001b[0m\n",
            "\u001b[94m    [ max gv values for 3 (food) ]\u001b[0m\n",
            "\u001b[94m    [ max gv values for 4 (health) ]\u001b[0m\n",
            "\u001b[94m    [ max gv values for 5 (music) ]\u001b[0m\n",
            "\u001b[94m    [ max gv values for 6 (science&technology) ]\u001b[0m\n",
            "\u001b[94m    [ max gv values for 7 (sports) ]\u001b[0m\n",
            "\u001b[94m [ max gv values have been updated ]\u001b[0m\n",
            "\u001b[94m [ caching confidence values (cvs) ]\u001b[0m\n",
            "\u001b[94m    [ cvs for 0 (art&photography) ]\u001b[0m\n",
            "\u001b[94m    [ cvs for 1 (beauty&fashion) ]\u001b[0m\n",
            "\u001b[94m    [ cvs for 2 (business&finance) ]\u001b[0m\n",
            "\u001b[94m    [ cvs for 3 (food) ]\u001b[0m\n",
            "\u001b[94m    [ cvs for 4 (health) ]\u001b[0m\n",
            "\u001b[94m    [ cvs for 5 (music) ]\u001b[0m\n",
            "\u001b[94m    [ cvs for 6 (science&technology) ]\u001b[0m\n",
            "\u001b[94m    [ cvs for 7 (sports) ]\u001b[0m\n",
            "\u001b[94m [ finished --time: 10.3s ]\u001b[0m\n"
          ],
          "name": "stdout"
        }
      ]
    },
    {
      "cell_type": "code",
      "metadata": {
        "id": "rPrgxXvGoA98",
        "colab_type": "code",
        "colab": {
          "base_uri": "https://localhost:8080/",
          "height": 35
        },
        "outputId": "43829a8d-c669-4a31-8e10-5b2faa73e5d7"
      },
      "source": [
        "clf.save_model()"
      ],
      "execution_count": 22,
      "outputs": [
        {
          "output_type": "stream",
          "text": [
            "\u001b[94m[ saving model (ss3_models/topic_categorization_3grams.ss3m)... ]\u001b[0m\u001b[94m[ (2.7s) ]\u001b[0m\n"
          ],
          "name": "stdout"
        }
      ]
    },
    {
      "cell_type": "code",
      "metadata": {
        "id": "Laeqba-koVHg",
        "colab_type": "code",
        "colab": {
          "base_uri": "https://localhost:8080/",
          "height": 126
        },
        "outputId": "4c02d3df-4ac2-49c6-9803-820e77e1195e"
      },
      "source": [
        "y_pred = clf.predict(x_test)\n",
        "print(\"Accuracy:\", accuracy_score(y_pred, y_test))"
      ],
      "execution_count": 23,
      "outputs": [
        {
          "output_type": "stream",
          "text": [
            " Classification:   8%|▊         | 65/800 [00:00<00:01, 642.12it/s]"
          ],
          "name": "stderr"
        },
        {
          "output_type": "stream",
          "text": [
            "\u001b[94m [ default category was automatically set to 'health' (the most probable one) ]\u001b[0m\n",
            "\u001b[94m [ about to start classifying test documents ]\u001b[0m\n"
          ],
          "name": "stdout"
        },
        {
          "output_type": "stream",
          "text": [
            " Classification: 100%|██████████| 800/800 [00:01<00:00, 622.46it/s]"
          ],
          "name": "stderr"
        },
        {
          "output_type": "stream",
          "text": [
            "\u001b[94m [ finished --time: 1.3s ]\u001b[0m\n",
            "Accuracy: 0.71875\n"
          ],
          "name": "stdout"
        },
        {
          "output_type": "stream",
          "text": [
            "\n"
          ],
          "name": "stderr"
        }
      ]
    },
    {
      "cell_type": "code",
      "metadata": {
        "id": "JFYtXIXaoih6",
        "colab_type": "code",
        "colab": {}
      },
      "source": [
        "clf.set_hyperparameters(s=0.32, l=1.24, p=1.1)"
      ],
      "execution_count": 0,
      "outputs": []
    },
    {
      "cell_type": "code",
      "metadata": {
        "id": "yv3JJQGTomtt",
        "colab_type": "code",
        "colab": {
          "base_uri": "https://localhost:8080/",
          "height": 981
        },
        "outputId": "2e6aa98d-2b80-4e7c-bc15-a73a72d1da83"
      },
      "source": [
        "y_pred = clf.predict(x_test)"
      ],
      "execution_count": 25,
      "outputs": [
        {
          "output_type": "stream",
          "text": [
            "\r Classification:   0%|          | 0/800 [00:00<?, ?it/s]"
          ],
          "name": "stderr"
        },
        {
          "output_type": "stream",
          "text": [
            "\u001b[94m [ default category was automatically set to 'health' (the most probable one) ]\u001b[0m\n",
            "\u001b[94m [ about to start classifying test documents ]\u001b[0m\n",
            "\u001b[94m [ about to start updating values... ]\u001b[0m\n",
            "\u001b[94m [ caching lv values ]\u001b[0m\n",
            "\u001b[94m    [ lv values for 0 (art&photography) ]\u001b[0m\n",
            "\u001b[94m    [ lv values for 1 (beauty&fashion) ]\u001b[0m\n",
            "\u001b[94m    [ lv values for 2 (business&finance) ]\u001b[0m\n",
            "\u001b[94m    [ lv values for 3 (food) ]\u001b[0m\n",
            "\u001b[94m    [ lv values for 4 (health) ]\u001b[0m\n",
            "\u001b[94m    [ lv values for 5 (music) ]\u001b[0m\n",
            "\u001b[94m    [ lv values for 6 (science&technology) ]\u001b[0m\n",
            "\u001b[94m    [ lv values for 7 (sports) ]\u001b[0m\n",
            "\u001b[94m [ caching sg values ]\u001b[0m\n",
            "\u001b[94m    [ sg values for 0 (art&photography) ]\u001b[0m\n",
            "\u001b[94m    [ sg values for 1 (beauty&fashion) ]\u001b[0m\n",
            "\u001b[94m    [ sg values for 2 (business&finance) ]\u001b[0m\n",
            "\u001b[94m    [ sg values for 3 (food) ]\u001b[0m\n",
            "\u001b[94m    [ sg values for 4 (health) ]\u001b[0m\n",
            "\u001b[94m    [ sg values for 5 (music) ]\u001b[0m\n",
            "\u001b[94m    [ sg values for 6 (science&technology) ]\u001b[0m\n",
            "\u001b[94m    [ sg values for 7 (sports) ]\u001b[0m\n",
            "\u001b[94m[ caching gv values ]\u001b[0m\n",
            "\u001b[94m    [ gv values for 0 (art&photography) ]\u001b[0m\n",
            "\u001b[94m    [ gv values for 1 (beauty&fashion) ]\u001b[0m\n",
            "\u001b[94m    [ gv values for 2 (business&finance) ]\u001b[0m\n",
            "\u001b[94m    [ gv values for 3 (food) ]\u001b[0m\n",
            "\u001b[94m    [ gv values for 4 (health) ]\u001b[0m\n",
            "\u001b[94m    [ gv values for 5 (music) ]\u001b[0m\n",
            "\u001b[94m    [ gv values for 6 (science&technology) ]\u001b[0m\n",
            "\u001b[94m    [ gv values for 7 (sports) ]\u001b[0m\n",
            "\u001b[94m [ updating max gv values ]\u001b[0m\n",
            "\u001b[94m    [ max gv values for 0 (art&photography) ]\u001b[0m\n",
            "\u001b[94m    [ max gv values for 1 (beauty&fashion) ]\u001b[0m\n",
            "\u001b[94m    [ max gv values for 2 (business&finance) ]\u001b[0m\n",
            "\u001b[94m    [ max gv values for 3 (food) ]\u001b[0m\n",
            "\u001b[94m    [ max gv values for 4 (health) ]\u001b[0m\n",
            "\u001b[94m    [ max gv values for 5 (music) ]\u001b[0m\n",
            "\u001b[94m    [ max gv values for 6 (science&technology) ]\u001b[0m\n",
            "\u001b[94m    [ max gv values for 7 (sports) ]\u001b[0m\n",
            "\u001b[94m [ max gv values have been updated ]\u001b[0m\n",
            "\u001b[94m [ caching confidence values (cvs) ]\u001b[0m\n",
            "\u001b[94m    [ cvs for 0 (art&photography) ]\u001b[0m\n",
            "\u001b[94m    [ cvs for 1 (beauty&fashion) ]\u001b[0m\n",
            "\u001b[94m    [ cvs for 2 (business&finance) ]\u001b[0m\n",
            "\u001b[94m    [ cvs for 3 (food) ]\u001b[0m\n",
            "\u001b[94m    [ cvs for 4 (health) ]\u001b[0m\n",
            "\u001b[94m    [ cvs for 5 (music) ]\u001b[0m\n",
            "\u001b[94m    [ cvs for 6 (science&technology) ]\u001b[0m\n"
          ],
          "name": "stdout"
        },
        {
          "output_type": "stream",
          "text": [
            "\r Classification:   0%|          | 1/800 [00:10<2:14:36, 10.11s/it]"
          ],
          "name": "stderr"
        },
        {
          "output_type": "stream",
          "text": [
            "\u001b[94m    [ cvs for 7 (sports) ]\u001b[0m\n",
            "\u001b[94m [ finished --time: 10.1s ]\u001b[0m\n"
          ],
          "name": "stdout"
        },
        {
          "output_type": "stream",
          "text": [
            " Classification: 100%|██████████| 800/800 [00:11<00:00, 70.78it/s]"
          ],
          "name": "stderr"
        },
        {
          "output_type": "stream",
          "text": [
            "\u001b[94m [ finished --time: 11.3s ]\u001b[0m\n"
          ],
          "name": "stdout"
        },
        {
          "output_type": "stream",
          "text": [
            "\n"
          ],
          "name": "stderr"
        }
      ]
    },
    {
      "cell_type": "code",
      "metadata": {
        "id": "VVlr96iNo25v",
        "colab_type": "code",
        "colab": {
          "base_uri": "https://localhost:8080/",
          "height": 108
        },
        "outputId": "376afbf2-36a6-4b37-dca6-4b6f38a3468b"
      },
      "source": [
        "Server.serve(clf)"
      ],
      "execution_count": 26,
      "outputs": [
        {
          "output_type": "stream",
          "text": [
            "\u001b[94m[ PySS3 server started (listening on port 52133) ]\u001b[0m\n",
            "\u001b[93m* Copy/paste this URL into your browser http://localhost:52133\u001b[0m\n",
            "\u001b[93m* Press Ctrl+C to stop the server\n",
            "\u001b[0m\n",
            "\n"
          ],
          "name": "stdout"
        }
      ]
    },
    {
      "cell_type": "code",
      "metadata": {
        "id": "TQMVvLKNuIuN",
        "colab_type": "code",
        "colab": {
          "base_uri": "https://localhost:8080/",
          "height": 108
        },
        "outputId": "834a0856-6c59-4e7a-9cfe-e2903236c0a0"
      },
      "source": [
        "Server.serve(clf)"
      ],
      "execution_count": 28,
      "outputs": [
        {
          "output_type": "stream",
          "text": [
            "\u001b[94m[ PySS3 server started (listening on port 40909) ]\u001b[0m\n",
            "\u001b[93m* Copy/paste this URL into your browser http://localhost:40909\u001b[0m\n",
            "\u001b[93m* Press Ctrl+C to stop the server\n",
            "\u001b[0m\n",
            "\n"
          ],
          "name": "stdout"
        }
      ]
    },
    {
      "cell_type": "code",
      "metadata": {
        "id": "8yncEkjL2BkH",
        "colab_type": "code",
        "colab": {
          "base_uri": "https://localhost:8080/",
          "height": 171
        },
        "outputId": "50bca8bb-6126-4489-873e-4937b9e5c088"
      },
      "source": [
        "pySS3"
      ],
      "execution_count": 29,
      "outputs": [
        {
          "output_type": "error",
          "ename": "NameError",
          "evalue": "ignored",
          "traceback": [
            "\u001b[0;31m---------------------------------------------------------------------------\u001b[0m",
            "\u001b[0;31mNameError\u001b[0m                                 Traceback (most recent call last)",
            "\u001b[0;32m<ipython-input-29-08b7bff18114>\u001b[0m in \u001b[0;36m<module>\u001b[0;34m()\u001b[0m\n\u001b[0;32m----> 1\u001b[0;31m \u001b[0mpySS3\u001b[0m\u001b[0;34m\u001b[0m\u001b[0;34m\u001b[0m\u001b[0m\n\u001b[0m",
            "\u001b[0;31mNameError\u001b[0m: name 'pySS3' is not defined"
          ]
        }
      ]
    },
    {
      "cell_type": "code",
      "metadata": {
        "id": "qpU7aQz12V4l",
        "colab_type": "code",
        "colab": {
          "base_uri": "https://localhost:8080/",
          "height": 135
        },
        "outputId": "0aeb14ac-9166-446d-83df-0a04f071768c"
      },
      "source": [
        "plot evaluation"
      ],
      "execution_count": 31,
      "outputs": [
        {
          "output_type": "error",
          "ename": "SyntaxError",
          "evalue": "ignored",
          "traceback": [
            "\u001b[0;36m  File \u001b[0;32m\"<ipython-input-31-3ee78b4fc450>\"\u001b[0;36m, line \u001b[0;32m1\u001b[0m\n\u001b[0;31m    plot evaluation\u001b[0m\n\u001b[0m                  ^\u001b[0m\n\u001b[0;31mSyntaxError\u001b[0m\u001b[0;31m:\u001b[0m invalid syntax\n"
          ]
        }
      ]
    },
    {
      "cell_type": "code",
      "metadata": {
        "id": "Maw0hJ_03NNt",
        "colab_type": "code",
        "colab": {
          "base_uri": "https://localhost:8080/",
          "height": 1000
        },
        "outputId": "2da30f38-d472-4d51-9264-fdffa2bc82fb"
      },
      "source": [
        "y_pred"
      ],
      "execution_count": 32,
      "outputs": [
        {
          "output_type": "execute_result",
          "data": {
            "text/plain": [
              "['health',\n",
              " 'beauty&fashion',\n",
              " 'beauty&fashion',\n",
              " 'beauty&fashion',\n",
              " 'beauty&fashion',\n",
              " 'beauty&fashion',\n",
              " 'health',\n",
              " 'beauty&fashion',\n",
              " 'beauty&fashion',\n",
              " 'health',\n",
              " 'health',\n",
              " 'beauty&fashion',\n",
              " 'beauty&fashion',\n",
              " 'science&technology',\n",
              " 'health',\n",
              " 'business&finance',\n",
              " 'beauty&fashion',\n",
              " 'beauty&fashion',\n",
              " 'beauty&fashion',\n",
              " 'beauty&fashion',\n",
              " 'beauty&fashion',\n",
              " 'beauty&fashion',\n",
              " 'beauty&fashion',\n",
              " 'art&photography',\n",
              " 'art&photography',\n",
              " 'art&photography',\n",
              " 'beauty&fashion',\n",
              " 'art&photography',\n",
              " 'beauty&fashion',\n",
              " 'beauty&fashion',\n",
              " 'beauty&fashion',\n",
              " 'art&photography',\n",
              " 'beauty&fashion',\n",
              " 'beauty&fashion',\n",
              " 'beauty&fashion',\n",
              " 'beauty&fashion',\n",
              " 'beauty&fashion',\n",
              " 'beauty&fashion',\n",
              " 'beauty&fashion',\n",
              " 'beauty&fashion',\n",
              " 'music',\n",
              " 'music',\n",
              " 'beauty&fashion',\n",
              " 'beauty&fashion',\n",
              " 'beauty&fashion',\n",
              " 'beauty&fashion',\n",
              " 'beauty&fashion',\n",
              " 'beauty&fashion',\n",
              " 'beauty&fashion',\n",
              " 'beauty&fashion',\n",
              " 'beauty&fashion',\n",
              " 'health',\n",
              " 'beauty&fashion',\n",
              " 'beauty&fashion',\n",
              " 'beauty&fashion',\n",
              " 'beauty&fashion',\n",
              " 'beauty&fashion',\n",
              " 'beauty&fashion',\n",
              " 'beauty&fashion',\n",
              " 'beauty&fashion',\n",
              " 'beauty&fashion',\n",
              " 'health',\n",
              " 'beauty&fashion',\n",
              " 'beauty&fashion',\n",
              " 'art&photography',\n",
              " 'health',\n",
              " 'beauty&fashion',\n",
              " 'beauty&fashion',\n",
              " 'beauty&fashion',\n",
              " 'health',\n",
              " 'beauty&fashion',\n",
              " 'beauty&fashion',\n",
              " 'beauty&fashion',\n",
              " 'beauty&fashion',\n",
              " 'beauty&fashion',\n",
              " 'beauty&fashion',\n",
              " 'beauty&fashion',\n",
              " 'science&technology',\n",
              " 'beauty&fashion',\n",
              " 'beauty&fashion',\n",
              " 'beauty&fashion',\n",
              " 'beauty&fashion',\n",
              " 'business&finance',\n",
              " 'beauty&fashion',\n",
              " 'art&photography',\n",
              " 'art&photography',\n",
              " 'beauty&fashion',\n",
              " 'beauty&fashion',\n",
              " 'beauty&fashion',\n",
              " 'beauty&fashion',\n",
              " 'beauty&fashion',\n",
              " 'art&photography',\n",
              " 'beauty&fashion',\n",
              " 'beauty&fashion',\n",
              " 'beauty&fashion',\n",
              " 'beauty&fashion',\n",
              " 'beauty&fashion',\n",
              " 'beauty&fashion',\n",
              " 'beauty&fashion',\n",
              " 'health',\n",
              " 'food',\n",
              " 'food',\n",
              " 'health',\n",
              " 'health',\n",
              " 'health',\n",
              " 'art&photography',\n",
              " 'food',\n",
              " 'food',\n",
              " 'health',\n",
              " 'food',\n",
              " 'food',\n",
              " 'food',\n",
              " 'health',\n",
              " 'health',\n",
              " 'food',\n",
              " 'music',\n",
              " 'music',\n",
              " 'food',\n",
              " 'science&technology',\n",
              " 'art&photography',\n",
              " 'food',\n",
              " 'art&photography',\n",
              " 'health',\n",
              " 'food',\n",
              " 'health',\n",
              " 'music',\n",
              " 'food',\n",
              " 'food',\n",
              " 'food',\n",
              " 'science&technology',\n",
              " 'health',\n",
              " 'food',\n",
              " 'business&finance',\n",
              " 'food',\n",
              " 'food',\n",
              " 'food',\n",
              " 'music',\n",
              " 'beauty&fashion',\n",
              " 'beauty&fashion',\n",
              " 'food',\n",
              " 'food',\n",
              " 'food',\n",
              " 'food',\n",
              " 'food',\n",
              " 'food',\n",
              " 'food',\n",
              " 'food',\n",
              " 'food',\n",
              " 'food',\n",
              " 'science&technology',\n",
              " 'food',\n",
              " 'food',\n",
              " 'food',\n",
              " 'music',\n",
              " 'food',\n",
              " 'food',\n",
              " 'food',\n",
              " 'food',\n",
              " 'food',\n",
              " 'art&photography',\n",
              " 'art&photography',\n",
              " 'food',\n",
              " 'food',\n",
              " 'health',\n",
              " 'health',\n",
              " 'food',\n",
              " 'food',\n",
              " 'science&technology',\n",
              " 'food',\n",
              " 'food',\n",
              " 'food',\n",
              " 'food',\n",
              " 'food',\n",
              " 'food',\n",
              " 'food',\n",
              " 'food',\n",
              " 'food',\n",
              " 'food',\n",
              " 'art&photography',\n",
              " 'food',\n",
              " 'food',\n",
              " 'art&photography',\n",
              " 'food',\n",
              " 'music',\n",
              " 'music',\n",
              " 'music',\n",
              " 'music',\n",
              " 'food',\n",
              " 'food',\n",
              " 'food',\n",
              " 'health',\n",
              " 'food',\n",
              " 'food',\n",
              " 'food',\n",
              " 'food',\n",
              " 'health',\n",
              " 'art&photography',\n",
              " 'art&photography',\n",
              " 'food',\n",
              " 'food',\n",
              " 'business&finance',\n",
              " 'business&finance',\n",
              " 'business&finance',\n",
              " 'business&finance',\n",
              " 'business&finance',\n",
              " 'business&finance',\n",
              " 'business&finance',\n",
              " 'business&finance',\n",
              " 'sports',\n",
              " 'business&finance',\n",
              " 'science&technology',\n",
              " 'business&finance',\n",
              " 'science&technology',\n",
              " 'business&finance',\n",
              " 'business&finance',\n",
              " 'business&finance',\n",
              " 'business&finance',\n",
              " 'business&finance',\n",
              " 'business&finance',\n",
              " 'business&finance',\n",
              " 'business&finance',\n",
              " 'business&finance',\n",
              " 'science&technology',\n",
              " 'business&finance',\n",
              " 'business&finance',\n",
              " 'business&finance',\n",
              " 'science&technology',\n",
              " 'business&finance',\n",
              " 'business&finance',\n",
              " 'business&finance',\n",
              " 'business&finance',\n",
              " 'business&finance',\n",
              " 'business&finance',\n",
              " 'business&finance',\n",
              " 'business&finance',\n",
              " 'business&finance',\n",
              " 'business&finance',\n",
              " 'business&finance',\n",
              " 'business&finance',\n",
              " 'business&finance',\n",
              " 'business&finance',\n",
              " 'business&finance',\n",
              " 'business&finance',\n",
              " 'business&finance',\n",
              " 'business&finance',\n",
              " 'science&technology',\n",
              " 'business&finance',\n",
              " 'business&finance',\n",
              " 'business&finance',\n",
              " 'business&finance',\n",
              " 'business&finance',\n",
              " 'business&finance',\n",
              " 'business&finance',\n",
              " 'business&finance',\n",
              " 'business&finance',\n",
              " 'business&finance',\n",
              " 'business&finance',\n",
              " 'beauty&fashion',\n",
              " 'business&finance',\n",
              " 'science&technology',\n",
              " 'business&finance',\n",
              " 'science&technology',\n",
              " 'business&finance',\n",
              " 'science&technology',\n",
              " 'science&technology',\n",
              " 'business&finance',\n",
              " 'business&finance',\n",
              " 'science&technology',\n",
              " 'business&finance',\n",
              " 'business&finance',\n",
              " 'business&finance',\n",
              " 'business&finance',\n",
              " 'business&finance',\n",
              " 'health',\n",
              " 'business&finance',\n",
              " 'business&finance',\n",
              " 'business&finance',\n",
              " 'business&finance',\n",
              " 'business&finance',\n",
              " 'business&finance',\n",
              " 'business&finance',\n",
              " 'business&finance',\n",
              " 'business&finance',\n",
              " 'business&finance',\n",
              " 'business&finance',\n",
              " 'science&technology',\n",
              " 'science&technology',\n",
              " 'science&technology',\n",
              " 'science&technology',\n",
              " 'business&finance',\n",
              " 'health',\n",
              " 'art&photography',\n",
              " 'business&finance',\n",
              " 'business&finance',\n",
              " 'business&finance',\n",
              " 'art&photography',\n",
              " 'business&finance',\n",
              " 'business&finance',\n",
              " 'science&technology',\n",
              " 'business&finance',\n",
              " 'beauty&fashion',\n",
              " 'beauty&fashion',\n",
              " 'beauty&fashion',\n",
              " 'beauty&fashion',\n",
              " 'art&photography',\n",
              " 'art&photography',\n",
              " 'art&photography',\n",
              " 'art&photography',\n",
              " 'art&photography',\n",
              " 'art&photography',\n",
              " 'business&finance',\n",
              " 'art&photography',\n",
              " 'art&photography',\n",
              " 'beauty&fashion',\n",
              " 'art&photography',\n",
              " 'art&photography',\n",
              " 'art&photography',\n",
              " 'art&photography',\n",
              " 'art&photography',\n",
              " 'art&photography',\n",
              " 'art&photography',\n",
              " 'art&photography',\n",
              " 'art&photography',\n",
              " 'art&photography',\n",
              " 'art&photography',\n",
              " 'art&photography',\n",
              " 'health',\n",
              " 'art&photography',\n",
              " 'art&photography',\n",
              " 'art&photography',\n",
              " 'science&technology',\n",
              " 'art&photography',\n",
              " 'art&photography',\n",
              " 'art&photography',\n",
              " 'food',\n",
              " 'food',\n",
              " 'art&photography',\n",
              " 'art&photography',\n",
              " 'art&photography',\n",
              " 'art&photography',\n",
              " 'art&photography',\n",
              " 'sports',\n",
              " 'art&photography',\n",
              " 'art&photography',\n",
              " 'art&photography',\n",
              " 'art&photography',\n",
              " 'art&photography',\n",
              " 'art&photography',\n",
              " 'art&photography',\n",
              " 'art&photography',\n",
              " 'art&photography',\n",
              " 'art&photography',\n",
              " 'art&photography',\n",
              " 'beauty&fashion',\n",
              " 'art&photography',\n",
              " 'art&photography',\n",
              " 'art&photography',\n",
              " 'art&photography',\n",
              " 'art&photography',\n",
              " 'art&photography',\n",
              " 'art&photography',\n",
              " 'art&photography',\n",
              " 'art&photography',\n",
              " 'art&photography',\n",
              " 'art&photography',\n",
              " 'art&photography',\n",
              " 'art&photography',\n",
              " 'art&photography',\n",
              " 'art&photography',\n",
              " 'art&photography',\n",
              " 'art&photography',\n",
              " 'art&photography',\n",
              " 'art&photography',\n",
              " 'art&photography',\n",
              " 'art&photography',\n",
              " 'art&photography',\n",
              " 'art&photography',\n",
              " 'science&technology',\n",
              " 'art&photography',\n",
              " 'art&photography',\n",
              " 'art&photography',\n",
              " 'art&photography',\n",
              " 'art&photography',\n",
              " 'art&photography',\n",
              " 'music',\n",
              " 'art&photography',\n",
              " 'art&photography',\n",
              " 'art&photography',\n",
              " 'art&photography',\n",
              " 'beauty&fashion',\n",
              " 'art&photography',\n",
              " 'art&photography',\n",
              " 'art&photography',\n",
              " 'art&photography',\n",
              " 'art&photography',\n",
              " 'art&photography',\n",
              " 'art&photography',\n",
              " 'art&photography',\n",
              " 'art&photography',\n",
              " 'art&photography',\n",
              " 'health',\n",
              " 'health',\n",
              " 'health',\n",
              " 'health',\n",
              " 'health',\n",
              " 'health',\n",
              " 'health',\n",
              " 'health',\n",
              " 'health',\n",
              " 'health',\n",
              " 'health',\n",
              " 'health',\n",
              " 'health',\n",
              " 'health',\n",
              " 'health',\n",
              " 'health',\n",
              " 'health',\n",
              " 'health',\n",
              " 'health',\n",
              " 'health',\n",
              " 'business&finance',\n",
              " 'business&finance',\n",
              " 'health',\n",
              " 'health',\n",
              " 'health',\n",
              " 'science&technology',\n",
              " 'science&technology',\n",
              " 'health',\n",
              " 'health',\n",
              " 'science&technology',\n",
              " 'science&technology',\n",
              " 'science&technology',\n",
              " 'health',\n",
              " 'health',\n",
              " 'health',\n",
              " 'health',\n",
              " 'sports',\n",
              " 'health',\n",
              " 'health',\n",
              " 'health',\n",
              " 'art&photography',\n",
              " 'food',\n",
              " 'food',\n",
              " 'food',\n",
              " 'food',\n",
              " 'health',\n",
              " 'health',\n",
              " 'health',\n",
              " 'beauty&fashion',\n",
              " 'health',\n",
              " 'health',\n",
              " 'health',\n",
              " 'food',\n",
              " 'business&finance',\n",
              " 'business&finance',\n",
              " 'science&technology',\n",
              " 'health',\n",
              " 'health',\n",
              " 'health',\n",
              " 'health',\n",
              " 'health',\n",
              " 'health',\n",
              " 'health',\n",
              " 'health',\n",
              " 'health',\n",
              " 'health',\n",
              " 'health',\n",
              " 'health',\n",
              " 'food',\n",
              " 'science&technology',\n",
              " 'science&technology',\n",
              " 'science&technology',\n",
              " 'science&technology',\n",
              " 'health',\n",
              " 'business&finance',\n",
              " 'health',\n",
              " 'health',\n",
              " 'health',\n",
              " 'health',\n",
              " 'health',\n",
              " 'beauty&fashion',\n",
              " 'beauty&fashion',\n",
              " 'science&technology',\n",
              " 'art&photography',\n",
              " 'health',\n",
              " 'health',\n",
              " 'food',\n",
              " 'music',\n",
              " 'health',\n",
              " 'health',\n",
              " 'health',\n",
              " 'health',\n",
              " 'science&technology',\n",
              " 'health',\n",
              " 'science&technology',\n",
              " 'science&technology',\n",
              " 'science&technology',\n",
              " 'health',\n",
              " 'health',\n",
              " 'beauty&fashion',\n",
              " 'sports',\n",
              " 'sports',\n",
              " 'sports',\n",
              " 'sports',\n",
              " 'sports',\n",
              " 'sports',\n",
              " 'sports',\n",
              " 'sports',\n",
              " 'sports',\n",
              " 'sports',\n",
              " 'sports',\n",
              " 'sports',\n",
              " 'sports',\n",
              " 'sports',\n",
              " 'sports',\n",
              " 'sports',\n",
              " 'sports',\n",
              " 'sports',\n",
              " 'sports',\n",
              " 'sports',\n",
              " 'sports',\n",
              " 'sports',\n",
              " 'sports',\n",
              " 'sports',\n",
              " 'sports',\n",
              " 'sports',\n",
              " 'sports',\n",
              " 'sports',\n",
              " 'sports',\n",
              " 'sports',\n",
              " 'sports',\n",
              " 'sports',\n",
              " 'sports',\n",
              " 'sports',\n",
              " 'sports',\n",
              " 'sports',\n",
              " 'sports',\n",
              " 'art&photography',\n",
              " 'art&photography',\n",
              " 'sports',\n",
              " 'sports',\n",
              " 'sports',\n",
              " 'sports',\n",
              " 'sports',\n",
              " 'sports',\n",
              " 'sports',\n",
              " 'sports',\n",
              " 'science&technology',\n",
              " 'science&technology',\n",
              " 'sports',\n",
              " 'sports',\n",
              " 'sports',\n",
              " 'sports',\n",
              " 'science&technology',\n",
              " 'sports',\n",
              " 'sports',\n",
              " 'health',\n",
              " 'sports',\n",
              " 'sports',\n",
              " 'sports',\n",
              " 'sports',\n",
              " 'sports',\n",
              " 'sports',\n",
              " 'sports',\n",
              " 'sports',\n",
              " 'sports',\n",
              " 'sports',\n",
              " 'sports',\n",
              " 'sports',\n",
              " 'sports',\n",
              " 'sports',\n",
              " 'sports',\n",
              " 'sports',\n",
              " 'sports',\n",
              " 'sports',\n",
              " 'sports',\n",
              " 'sports',\n",
              " 'sports',\n",
              " 'sports',\n",
              " 'science&technology',\n",
              " 'sports',\n",
              " 'science&technology',\n",
              " 'sports',\n",
              " 'sports',\n",
              " 'sports',\n",
              " 'sports',\n",
              " 'sports',\n",
              " 'sports',\n",
              " 'sports',\n",
              " 'sports',\n",
              " 'sports',\n",
              " 'sports',\n",
              " 'sports',\n",
              " 'science&technology',\n",
              " 'sports',\n",
              " 'sports',\n",
              " 'sports',\n",
              " 'health',\n",
              " 'sports',\n",
              " 'sports',\n",
              " 'music',\n",
              " 'music',\n",
              " 'music',\n",
              " 'science&technology',\n",
              " 'art&photography',\n",
              " 'science&technology',\n",
              " 'art&photography',\n",
              " 'art&photography',\n",
              " 'music',\n",
              " 'music',\n",
              " 'music',\n",
              " 'music',\n",
              " 'music',\n",
              " 'music',\n",
              " 'art&photography',\n",
              " 'music',\n",
              " 'music',\n",
              " 'music',\n",
              " 'music',\n",
              " 'music',\n",
              " 'music',\n",
              " 'music',\n",
              " 'music',\n",
              " 'music',\n",
              " 'music',\n",
              " 'music',\n",
              " 'music',\n",
              " 'business&finance',\n",
              " 'business&finance',\n",
              " 'business&finance',\n",
              " 'music',\n",
              " 'music',\n",
              " 'music',\n",
              " 'music',\n",
              " 'music',\n",
              " 'music',\n",
              " 'music',\n",
              " 'music',\n",
              " 'music',\n",
              " 'music',\n",
              " 'music',\n",
              " 'music',\n",
              " 'music',\n",
              " 'music',\n",
              " 'music',\n",
              " 'music',\n",
              " 'music',\n",
              " 'music',\n",
              " 'music',\n",
              " 'music',\n",
              " 'music',\n",
              " 'music',\n",
              " 'music',\n",
              " 'beauty&fashion',\n",
              " 'music',\n",
              " 'music',\n",
              " 'music',\n",
              " 'music',\n",
              " 'music',\n",
              " 'art&photography',\n",
              " 'music',\n",
              " 'music',\n",
              " 'music',\n",
              " 'music',\n",
              " 'art&photography',\n",
              " 'music',\n",
              " 'music',\n",
              " 'music',\n",
              " 'music',\n",
              " 'music',\n",
              " 'music',\n",
              " 'music',\n",
              " 'music',\n",
              " 'music',\n",
              " 'music',\n",
              " 'art&photography',\n",
              " 'music',\n",
              " 'music',\n",
              " 'music',\n",
              " 'music',\n",
              " 'music',\n",
              " 'music',\n",
              " 'music',\n",
              " 'science&technology',\n",
              " 'music',\n",
              " 'music',\n",
              " 'music',\n",
              " 'music',\n",
              " 'music',\n",
              " 'music',\n",
              " 'music',\n",
              " 'music',\n",
              " 'music',\n",
              " 'music',\n",
              " 'music',\n",
              " 'music',\n",
              " 'music',\n",
              " 'music',\n",
              " 'music',\n",
              " 'music',\n",
              " 'science&technology',\n",
              " 'science&technology',\n",
              " 'health',\n",
              " 'science&technology',\n",
              " 'science&technology',\n",
              " 'science&technology',\n",
              " 'science&technology',\n",
              " 'science&technology',\n",
              " 'science&technology',\n",
              " 'health',\n",
              " 'science&technology',\n",
              " 'science&technology',\n",
              " 'science&technology',\n",
              " 'science&technology',\n",
              " 'science&technology',\n",
              " 'science&technology',\n",
              " 'science&technology',\n",
              " 'science&technology',\n",
              " 'science&technology',\n",
              " 'science&technology',\n",
              " 'science&technology',\n",
              " 'art&photography',\n",
              " 'science&technology',\n",
              " 'business&finance',\n",
              " 'science&technology',\n",
              " 'science&technology',\n",
              " 'science&technology',\n",
              " 'business&finance',\n",
              " 'science&technology',\n",
              " 'science&technology',\n",
              " 'science&technology',\n",
              " 'science&technology',\n",
              " 'science&technology',\n",
              " 'science&technology',\n",
              " 'science&technology',\n",
              " 'science&technology',\n",
              " 'science&technology',\n",
              " 'business&finance',\n",
              " 'business&finance',\n",
              " 'science&technology',\n",
              " 'science&technology',\n",
              " 'science&technology',\n",
              " 'science&technology',\n",
              " 'business&finance',\n",
              " 'science&technology',\n",
              " 'science&technology',\n",
              " 'science&technology',\n",
              " 'science&technology',\n",
              " 'science&technology',\n",
              " 'business&finance',\n",
              " 'science&technology',\n",
              " 'science&technology',\n",
              " 'science&technology',\n",
              " 'science&technology',\n",
              " 'business&finance',\n",
              " 'business&finance',\n",
              " 'business&finance',\n",
              " 'business&finance',\n",
              " 'business&finance',\n",
              " 'business&finance',\n",
              " 'science&technology',\n",
              " 'health',\n",
              " 'science&technology',\n",
              " 'science&technology',\n",
              " 'science&technology',\n",
              " 'science&technology',\n",
              " 'art&photography',\n",
              " 'science&technology',\n",
              " 'art&photography',\n",
              " 'art&photography',\n",
              " 'science&technology',\n",
              " 'science&technology',\n",
              " 'science&technology',\n",
              " 'science&technology',\n",
              " 'science&technology',\n",
              " 'science&technology',\n",
              " 'science&technology',\n",
              " 'science&technology',\n",
              " 'science&technology',\n",
              " 'science&technology',\n",
              " 'science&technology',\n",
              " 'business&finance',\n",
              " 'science&technology',\n",
              " 'science&technology',\n",
              " 'science&technology',\n",
              " 'health',\n",
              " 'science&technology',\n",
              " 'science&technology',\n",
              " 'art&photography',\n",
              " 'business&finance',\n",
              " 'science&technology',\n",
              " 'business&finance',\n",
              " 'science&technology',\n",
              " 'science&technology',\n",
              " 'science&technology',\n",
              " 'science&technology',\n",
              " 'business&finance',\n",
              " 'science&technology',\n",
              " 'science&technology',\n",
              " 'science&technology']"
            ]
          },
          "metadata": {
            "tags": []
          },
          "execution_count": 32
        }
      ]
    },
    {
      "cell_type": "code",
      "metadata": {
        "id": "xo-DnC3V3cY8",
        "colab_type": "code",
        "colab": {
          "base_uri": "https://localhost:8080/",
          "height": 1000
        },
        "outputId": "e33a030f-728f-492d-b5c0-b4d6c9705cb2"
      },
      "source": [
        "x_test"
      ],
      "execution_count": 33,
      "outputs": [
        {
          "output_type": "execute_result",
          "data": {
            "text/plain": [
              "['motivation health the paleo way unique diet in the modern world . fashion news motivation health the paleo way unique diet in the modern world . fashion news .\\n',\n",
              " 'fashion diet nnbrr benefits of workout buddy . . . . kate moss fat loss fashion diet nnbrr benefits of workout buddy . . . . kate moss fat loss .\\n',\n",
              " 'thisisess believes that fashion is being cute and trendy and celebrating your personal style . mi africa fashion thisisess believes that fashion is being cute and trendy and celebrating your personal style . mi africa fashion .\\n',\n",
              " 'beauty diet weight loss what motivates you to lose weight . . . kristen fat loss beauty diet weight loss what motivates you to lose weight . . . kristen fat loss .\\n',\n",
              " 'question tuesday . what part of makeup makeup . . cosmetics . question tuesday . what part of makeup makeup . . cosmetics . .\\n',\n",
              " 'yellow two pieces set available now at http . com fashion . sexyoutfit . twopieces . yellow two pieces set available now at http . com fashion . sexyoutfit . twopieces . .\\n',\n",
              " 'top . \\n',\n",
              " 'bottom . fashion . fashionblogger summer style trending . top . \\n',\n",
              " 'bottom . fashion . fashionblogger summer style trending . .\\n',\n",
              " 'health benefits of neem for skin . healthy herb . . fitness . girls . health health talk health benefits of neem for skin . healthy herb . . fitness . girls . health health talk .\\n',\n",
              " 'kate hudson wows cannes filmfestival . lost nnbrr pounds on alkaline diet . katehudson . . . . kate hudson wows cannes filmfestival . lost nnbrr pounds on alkaline diet . katehudson . . . . .\\n',\n",
              " 'with newfound confidence after ny primary . clinton is finally fashion . style . ootd . . with newfound confidence after ny primary . clinton is finally fashion . style . ootd . . .\\n',\n",
              " 'looks we looks welove uptown girl boho chic uptown boho retail fashion . looks we looks welove uptown girl boho chic uptown boho retail fashion . .\\n',\n",
              " 'ifm turns nnbrr . . . education ifm turns nnbrr . . . education .\\n',\n",
              " 'megyn kelly says donald trump is not the cause of her success . thank you very much . . style megyn kelly says donald trump is not the cause of her success . thank you very much . . style .\\n',\n",
              " 'middle east luxury sales fading as oil falls and tourism slows . . style middle east luxury sales fading as oil falls and tourism slows . . style .\\n',\n",
              " 'beauty . brush holders brush set brushes nnbrr insanely cool makeup organizers . . beauty . brush holders brush set brushes nnbrr insanely cool makeup organizers . . .\\n',\n",
              " 'nnbrrs shoes spiegel catalog . spring . summer nnbrr . . . nnbrrs shoes spiegel catalog . spring . summer nnbrr . . . .\\n',\n",
              " 'brown embroidered georgette anarkali suit\\n',\n",
              " 'buy online . . . clothing . shopping . brown embroidered georgette anarkali suit\\n',\n",
              " 'buy online . . . clothing . shopping . .\\n',\n",
              " 'look of the day . . style . lifestyleblogs . look of the day . . style . lifestyleblogs . .\\n',\n",
              " 'this two minute banana parfait is your new go to breakfast . it only looks . style fashion . this two minute banana parfait is your new go to breakfast . it only looks . style fashion . .\\n',\n",
              " 'martes photo . beautiful . photography . love . art . instagram . fashion . picture . nature . martes photo . beautiful . photography . love . art . instagram . fashion . picture . nature . .\\n',\n",
              " 'faces art eklectik arts . art . white . red . colours . snoopy . sculpture . spaces . pure . beauty . lovely . arte . ilustrac . faces art eklectik arts . art . white . red . colours . snoopy . sculpture . spaces . pure . beauty . lovely . arte . ilustrac . .\\n',\n",
              " 'oil painting . art . drawing . kunst . atwork . painting . oilpainting . lovemw . arte . fashion . oil painting . art . drawing . kunst . atwork . painting . oilpainting . lovemw . arte . fashion . .\\n',\n",
              " 'rains but spring is on my head rains . instagood . red . fucsia . color . spring . photooftheday . hair . beauty . haistylist . lips . goodday . cri rains but spring is on my head rains . instagood . red . fucsia . color . spring . photooftheday . hair . beauty . haistylist . lips . goodday . cri .\\n',\n",
              " 'art of love art eklectik arts . art . white . red . colours . snoopy . sculpture . spaces . pure . beauty . lovely . arte . il . art of love art eklectik arts . art . white . red . colours . snoopy . sculpture . spaces . pure . beauty . lovely . arte . il . .\\n',\n",
              " 'some people are really beautiful marivillaverde instagirl . beauty . some people are really beautiful marivillaverde instagirl . beauty . .\\n',\n",
              " 'fashion . competition . giveaway who would you like to travel with to marrakech . see our instagram for details . fashion . competition . giveaway who would you like to travel with to marrakech . see our instagram for details . .\\n',\n",
              " 'fashion goods michael clayton george clooney dvd nnbrr . forsale onsale fashion goods michael clayton george clooney dvd nnbrr . forsale onsale .\\n',\n",
              " 'romain mannequin . model . paris . shooting . photography . studio . mode . fashion . photo . photooftheday . photographer . romain mannequin . model . paris . shooting . photography . studio . mode . fashion . photo . photooftheday . photographer . .\\n',\n",
              " 'fashion lady gaga new alejandro the remixes by lady gaga . deal bargain fashion lady gaga new alejandro the remixes by lady gaga . deal bargain .\\n',\n",
              " 'beauty lady gaga new alejandro the remixes by lady gaga . deals bargains beauty lady gaga new alejandro the remixes by lady gaga . deals bargains .\\n',\n",
              " 'mantra cream helps smooth and repair your skin while providing healthy looking radiant sheen . don you deserve the beauty of mantra . mantra cream helps smooth and repair your skin while providing healthy looking radiant sheen . don you deserve the beauty of mantra . .\\n',\n",
              " 'top beauty sdcc nnbrr exclusive ever afterhigh raven queen . dolls . top beauty sdcc nnbrr exclusive ever afterhigh raven queen . dolls . .\\n',\n",
              " 'beauty fashion womens dresses white rhinestone kim kardashian . hollywood style beauty fashion womens dresses white rhinestone kim kardashian . hollywood style .\\n',\n",
              " 'gucci handbag authentic gucci monogram canvas leather abbey tote bag . fashion . gucci handbag authentic gucci monogram canvas leather abbey tote bag . fashion . .\\n',\n",
              " 'motivation health struggling with weight loss . hypnotherapy may be the . fashion . motivation health struggling with weight loss . hypnotherapy may be the . fashion . .\\n',\n",
              " 'gucci belt gucci plexiglass belt interlocking graphite gray brand new . fashion . gucci belt gucci plexiglass belt interlocking graphite gray brand new . fashion . .\\n',\n",
              " 'we launched the uk nnbrrst digital arts channel thespacearts featuring david bowie . art . culture . music . . we launched the uk nnbrrst digital arts channel thespacearts featuring david bowie . art . culture . music . . .\\n',\n",
              " 'we launched the uk nnbrrst digital arts channel thespacearts featuring david bowie . art . culture . music . . we launched the uk nnbrrst digital arts channel thespacearts featuring david bowie . art . culture . music . . .\\n',\n",
              " 'gucci shoes gucci guccissima gg leather shoes loafers nnbrr . deals fashion . gucci shoes gucci guccissima gg leather shoes loafers nnbrr . deals fashion . .\\n',\n",
              " 'gossip celebrity weight loss few notes on the calorie balance equation . fashion onsale gossip celebrity weight loss few notes on the calorie balance equation . fashion onsale .\\n',\n",
              " 'women bonny . black . adult boots black nnbrr fashion footware . . women bonny . black . adult boots black nnbrr fashion footware . . .\\n',\n",
              " 'this month back in nnbrr uploaded my second ever youtube video take look if you dare . . bbloggers . . cringe this month back in nnbrr uploaded my second ever youtube video take look if you dare . . bbloggers . . cringe .\\n',\n",
              " 'beautiful . luscious . eurasian . beauty london keyes . hapa . halfasian . beautiful . luscious . eurasian . beauty london keyes . hapa . halfasian . .\\n',\n",
              " 'when you turn your iphone on after long beauty . sleep . it will blowup . flashinglights . when you turn your iphone on after long beauty . sleep . it will blowup . flashinglights . .\\n',\n",
              " 'check out nnbrrdprinted . bracelet . goals bracelt . by nataijah parris . . . style . jewelry check out nnbrrdprinted . bracelet . goals bracelt . by nataijah parris . . . style . jewelry .\\n',\n",
              " 'paint splatter black denim jeans cutedope . impeccable . customdenim . denim . . style . paint splatter black denim jeans cutedope . impeccable . customdenim . denim . . style . .\\n',\n",
              " 'are you beautiful . beauty . are you beautiful . beauty . .\\n',\n",
              " 'the fascinating confessions of an nnbrr year old model . . . model . fitness . health . . the fascinating confessions of an nnbrr year old model . . . model . fitness . health . . .\\n',\n",
              " 'justoofficial now on marieclaire it fashion . magazine . marieclaire . justo . style . stillafie . justoofficial now on marieclaire it fashion . magazine . marieclaire . justo . style . stillafie . .\\n',\n",
              " 'bella hadid models street style in cover story for glamour germany\\n',\n",
              " ' photographer . vogue . . look . model . out . bella hadid models street style in cover story for glamour germany\\n',\n",
              " ' photographer . vogue . . look . model . out . .\\n',\n",
              " 'landisun navy blue silk tie set . handkerchief cufflinks nnbrr . . fashion . mensfashion . style . menswear landisun navy blue silk tie set . handkerchief cufflinks nnbrr . . fashion . mensfashion . style . menswear .\\n',\n",
              " 'maxi\\n',\n",
              " ' maxiskirt . maxi . fashion . poser . maxi\\n',\n",
              " ' maxiskirt . maxi . fashion . poser . .\\n',\n",
              " 'bella hadid was exclusief te zien op sydney fashion week . fashion . style bella hadid was exclusief te zien op sydney fashion week . fashion . style .\\n',\n",
              " 'inspire fitness with new gear . fashion . fitness . health . review inspire fitness with new gear . fashion . fitness . health . review .\\n',\n",
              " 'we re looking for beauty sae to join the fab beauty team at ccdpr drop us dm for more information jobs . jobsearch . prjobs we re looking for beauty sae to join the fab beauty team at ccdpr drop us dm for more information jobs . jobsearch . prjobs .\\n',\n",
              " 'secret nnbrr high quality fine art canvas prints . nnbrr nnbrr nnbrr nnbrr inches . . abstract . . . secret nnbrr high quality fine art canvas prints . nnbrr nnbrr nnbrr nnbrr inches . . abstract . . . .\\n',\n",
              " 'when you re looking for creative solution that out of this world . look no further . . when you re looking for creative solution that out of this world . look no further . . .\\n',\n",
              " 'nnbrrp off . \\n',\n",
              " 'new nnbrr men casual shoes spring autumn patchwork men shoes canvas fashion lace up flats plims\\n',\n",
              " 'new nnbrr men casual shoes spring autumn patchwork men shoes canvas fashion lace up flats plims\\n',\n",
              " 'australian fashion week courts asian editors and bloggers to target luxury customers abc online . fashion . luxury australian fashion week courts asian editors and bloggers to target luxury customers abc online . fashion . luxury .\\n',\n",
              " 'yikes . the price of . . . . status . yikes . the price of . . . . status . miami dade medical examiner says fat clots killed woman following brazilian butt lift surgery . . miami dade medical examiner says fat clots killed woman following brazilian butt lift surgery . . .\\n',\n",
              " 'asian beauty cherry photo shoot in la union . philippines bikini . model . beauty . asian beauty cherry photo shoot in la union . philippines bikini . model . beauty . .\\n',\n",
              " 'how to get cut . combination of healthy . . fashion . mensfashion . style . how to get cut . combination of healthy . . fashion . mensfashion . style . .\\n',\n",
              " 'summer is nearly here ve got the perfect pieces for your wardrobe . . . . summer is nearly here ve got the perfect pieces for your wardrobe . . . . .\\n',\n",
              " 'not just models get make overs . uk the fashion awards nnbrr . . awards . models . lifestyle . fun not just models get make overs . uk the fashion awards nnbrr . . awards . models . lifestyle . fun .\\n',\n",
              " 'funky tattered pixie skirt . made to order bohemian by khegreen . via etsy ethical vegan . . funky tattered pixie skirt . made to order bohemian by khegreen . via etsy ethical vegan . . .\\n',\n",
              " 'laughter is the best cosmetic . cosmetics . branchandroot . beauty . nichecosmetics . natural . organic . laughter is the best cosmetic . cosmetics . branchandroot . beauty . nichecosmetics . natural . organic . .\\n',\n",
              " 'oops . redhead . redlips . makeup . fashion . alternativegirls . tattoedgirls . metalhead . vick . . oops . redhead . redlips . makeup . fashion . alternativegirls . tattoedgirls . metalhead . vick . . .\\n',\n",
              " 'cam robinson\\n',\n",
              " 'the undefeated ackermann . tvshow . fashion . movie . socialite . art . family . famille . cam robinson\\n',\n",
              " 'the undefeated ackermann . tvshow . fashion . movie . socialite . art . family . famille . .\\n',\n",
              " 'feel like princess book your perfect prom beauty package with uffordparkspa . feel like princess book your perfect prom beauty package with uffordparkspa . .\\n',\n",
              " 'men mad hatter adult hat green one size fashion accessories . . men mad hatter adult hat green one size fashion accessories . . .\\n',\n",
              " 'aureliebosset thx for following . we your feedback on our . lifestyle app . . . aureliebosset thx for following . we your feedback on our . lifestyle app . . . .\\n',\n",
              " 'could this tank be any sweeter . great style and classic print newarrivals . summer . fashion . could this tank be any sweeter . great style and classic print newarrivals . summer . fashion . .\\n',\n",
              " 'are you fashion photographer . this theme can be handy for word press based website . photography are you fashion photographer . this theme can be handy for word press based website . photography .\\n',\n",
              " 'are you fashion photographer . this theme can be handy for word press based website . photography are you fashion photographer . this theme can be handy for word press based website . photography .\\n',\n",
              " 'take look at the best of hair makeup at cannes film festival . beauty . skincare take look at the best of hair makeup at cannes film festival . beauty . skincare .\\n',\n",
              " 'rt victoriamgreen rt follow to win hanging victoriamgreen beauty bag . competition . giveaway . ends nnbrr . rt victoriamgreen rt follow to win hanging victoriamgreen beauty bag . competition . giveaway . ends nnbrr . .\\n',\n",
              " 'sebdubol thx for following . we your feedback on our fashion lifestyle app . . . sebdubol thx for following . we your feedback on our fashion lifestyle app . . . .\\n',\n",
              " 'women beer gal adult plus costume green plus . nnbrr . fashion costumes . . women beer gal adult plus costume green plus . nnbrr . fashion costumes . . .\\n',\n",
              " 'fashion . beauty fashion photography tomorrowland by ben . fashion . beauty fashion photography tomorrowland by ben . .\\n',\n",
              " 'creative with cardboard . diy studioset . productshoot . fashion . casadekao . photography . studio . creative with cardboard . diy studioset . productshoot . fashion . casadekao . photography . studio . .\\n',\n",
              " '. new blogpost male accessories . accessories . bracelet . menswear . mensstyle . bottegavenetta . luxury . men . fashion . new blogpost male accessories . accessories . bracelet . menswear . mensstyle . bottegavenetta . luxury . men . fashion .\\n',\n",
              " 'best nwt the north face tonnerro packable down jacket men med . mnnbrr . fashion sale best nwt the north face tonnerro packable down jacket men med . mnnbrr . fashion sale .\\n',\n",
              " 'fashion celebrity as am . alicia keys . . nnbrr discs . new cd . . fashion celebrity as am . alicia keys . . nnbrr discs . new cd . . .\\n',\n",
              " 'gucci handbag mnnbrr . gucci brown canvas horsebit hobo handbag purse . fashion . gucci handbag mnnbrr . gucci brown canvas horsebit hobo handbag purse . fashion . .\\n',\n",
              " 'citizen satellite eco drive watch . gets time from space fashion . mensfashion . style . . citizen satellite eco drive watch . gets time from space fashion . mensfashion . style . . .\\n',\n",
              " 'have you ordered your luxury hand body lotion yet . . livepurely . health . holistic . . . have you ordered your luxury hand body lotion yet . . livepurely . health . holistic . . . .\\n',\n",
              " 'men skull with shroud mask standard fashion accessories . . men skull with shroud mask standard fashion accessories . . .\\n',\n",
              " 'hey . found this really awesome etsy listing at . . yoga . . . hey . found this really awesome etsy listing at . . yoga . . . .',\n",
              " 'soft . delicious juicy fried chicken tossed in garlic pepper sauce . mysore food . foodgasm . health . soft . delicious juicy fried chicken tossed in garlic pepper sauce . mysore food . foodgasm . health . .\\n',\n",
              " 'apple oatmeal breakfast cookies soft apple . . healthy . healthyliving . food . health . apple oatmeal breakfast cookies soft apple . . healthy . healthyliving . food . health . .\\n',\n",
              " 'about\\n',\n",
              " ' fitness . gym . exercise . motivation . workout . health . yoga beauty medical . . fruit . vegetable . about\\n',\n",
              " ' fitness . gym . exercise . motivation . workout . health . yoga beauty medical . . fruit . vegetable . .\\n',\n",
              " 'tapas in spain . the ultimate appy crawl . . travel . . ttot tapas in spain . the ultimate appy crawl . . travel . . ttot .\\n',\n",
              " 'only getting few days to taste the authentic cuisine of country . travel food cuisine friends . only getting few days to taste the authentic cuisine of country . travel food cuisine friends . .\\n',\n",
              " 'almond nut food drink . nnbrr . pics . almond nut food drink . nnbrr . pics . .\\n',\n",
              " 'specific tea recipes to cleanse specific things . . healthy . healthyliving . . health . specific tea recipes to cleanse specific things . . healthy . healthyliving . . health . .\\n',\n",
              " 'national school breakfast week . let . . contests education food fun inthe news inspiration sponsored posts national school breakfast week . let . . contests education food fun inthe news inspiration sponsored posts .\\n',\n",
              " 'food . love . career . mother . four major guilt . . health quality of life food . love . career . mother . four major guilt . . health quality of life .\\n',\n",
              " 'we love covering great events like gorgeous . art . music . awards . food . wine travelfoodiestv luxury . travel . nln we love covering great events like gorgeous . art . music . awards . food . wine travelfoodiestv luxury . travel . nln .\\n',\n",
              " 'tracy anderson weight loss . diet . weightlosswomen . weightloss . diet . health . . fit . . tracy anderson weight loss . diet . weightlosswomen . weightloss . diet . health . . fit . . .\\n',\n",
              " 'blog post eat your nuts . fitness . food . health . blog post eat your nuts . fitness . food . health . .\\n',\n",
              " 'primal veggie loaded breakfast casserole recipe . . healthy . healthyliving . food . health . primal veggie loaded breakfast casserole recipe . . healthy . healthyliving . food . health . .\\n',\n",
              " '. posts . instagram . comedy . art . music . food . lnnbrrl . fnnbrrt . design . architecture . fashion . dj . yoga . gym . do . . posts . instagram . comedy . art . music . food . lnnbrrl . fnnbrrt . design . architecture . fashion . dj . yoga . gym . do . .\\n',\n",
              " 'spread the word about our summer fair tomorrow . great day guaranteed corksredfm fun . games . donkeys . music . spread the word about our summer fair tomorrow . great day guaranteed corksredfm fun . games . donkeys . music . .\\n',\n",
              " 'almond butter and raspberry smoothie bowl . nnbrr . . healthy . healthyliving . food . health . almond butter and raspberry smoothie bowl . nnbrr . . healthy . healthyliving . food . health . .\\n',\n",
              " 'heads up to the summer themed bazaar spectrumfairmnl . shopping . tech with . heads up to the summer themed bazaar spectrumfairmnl . shopping . tech with . .\\n',\n",
              " 'rt photo az . food . popular . photography . photo ff image . instagram . rt photo az . food . popular . photography . photo ff image . instagram . .\\n',\n",
              " 'taste the flavours of south africa with this list of local foodie musts . . food . travel . taste the flavours of south africa with this list of local foodie musts . . food . travel . .\\n',\n",
              " 'cake of straberry photographer . fashion . girl . love . music . photography . art . . nature . artist . life . cake of straberry photographer . fashion . girl . love . music . photography . art . . nature . artist . life . .\\n',\n",
              " 'rt . contest win yummy super natural and nutritious protein bars templeproteinbars . food . health . diet . fitness . rt . contest win yummy super natural and nutritious protein bars templeproteinbars . food . health . diet . fitness . .\\n',\n",
              " 'applesauce carrot cake muffins . small . . healthy . healthyliving . . health . applesauce carrot cake muffins . small . . healthy . healthyliving . . health . .\\n',\n",
              " 'rt . contest win yummy super natural and nutritious protein bars templeproteinbars . food . health . diet . fitness . rt . contest win yummy super natural and nutritious protein bars templeproteinbars . food . health . diet . fitness . .\\n',\n",
              " 'nnbrrman nnbrrmic artist . deejays . microphone . presenters . radio tv soundmakers togetherwelead music mic food . nnbrrman nnbrrmic artist . deejays . microphone . presenters . radio tv soundmakers togetherwelead music mic food . .\\n',\n",
              " 'quick food sketch in my moleskine watercolor . journal and of course senneliernnbrr watercolors travel food . quick food sketch in my moleskine watercolor . journal and of course senneliernnbrr watercolors travel food . .\\n',\n",
              " '. reasons why eating spoilt veg isn good . health . reasons why eating spoilt veg isn good . health .\\n',\n",
              " '. can wait to drink more french malbec . . wine . food . travel france travel tuesday . can wait to drink more french malbec . . wine . food . travel france travel tuesday .\\n',\n",
              " '. gas . health foods that cause gas . ha . it normal to pass lot of the stuff . . . gas . health foods that cause gas . ha . it normal to pass lot of the stuff . . .\\n',\n",
              " 'rt . contest win yummy super natural and nutritious protein bars templeproteinbars . food . health . diet . fitness . rt . contest win yummy super natural and nutritious protein bars templeproteinbars . food . health . diet . fitness . .\\n',\n",
              " 'where to eat . stay . shop in new orleans . healthy . healthyliving . . health . where to eat . stay . shop in new orleans . healthy . healthyliving . . health . .\\n',\n",
              " 'browse our topics frize media arts business fashion food health frize media charlesfrize influencer marketing . browse our topics frize media arts business fashion food health frize media charlesfrize influencer marketing . .\\n',\n",
              " 'is this bangkok best ice cream . . . thailand . travel . is this bangkok best ice cream . . . thailand . travel . .\\n',\n",
              " 'singapore guide in this guide you ll . . healthy . healthyliving . . health . singapore guide in this guide you ll . . healthy . healthyliving . . health . .\\n',\n",
              " 'order am chef tee here . . buy now am chef tee food foodie foodlover cuisines movies teespring order am chef tee here . . buy now am chef tee food foodie foodlover cuisines movies teespring .\\n',\n",
              " 'good bye sunday work\\n',\n",
              " ' beautiful . summer . fashion . love . cute . . instalike . tbt . igers . good bye sunday work\\n',\n",
              " ' beautiful . summer . fashion . love . cute . . instalike . tbt . igers . .\\n',\n",
              " 'read our insider tips on places to eat . drink . . healthy . healthyliving . . health . read our insider tips on places to eat . drink . . healthy . healthyliving . . health . .\\n',\n",
              " 'starting to the our trip to edfringe so much to see and do . fringefestival . comedy . music . food starting to the our trip to edfringe so much to see and do . fringefestival . comedy . music . food .\\n',\n",
              " 'here where to eat . shop . and sleep in paris . . healthy . healthyliving . food . health . here where to eat . shop . and sleep in paris . . healthy . healthyliving . food . health . .\\n',\n",
              " 'well . coloring your way through grief . after several people close to her died . grief counselo . . health . food well . coloring your way through grief . after several people close to her died . grief counselo . . health . food .\\n',\n",
              " 'celebrity pseudoscience food health is paltrow wrong about everything . this scientist thinks so . . via thinkprogress celebrity pseudoscience food health is paltrow wrong about everything . this scientist thinks so . . via thinkprogress .\\n',\n",
              " 'the perfect guide for planning visit to . . healthy . healthyliving . food . health . the perfect guide for planning visit to . . healthy . healthyliving . food . health . .\\n',\n",
              " 'mood . brazilian style breakfast anyone . brazilianbreakfast . food . breakfast . travel . mood . brazilian style breakfast anyone . brazilianbreakfast . food . breakfast . travel . .\\n',\n",
              " 'bamboos grow good wine\\n',\n",
              " ' . bambooclub . wine . winelover drinking tooblivion . fancy . health . bamboos grow good wine\\n',\n",
              " ' . bambooclub . wine . winelover drinking tooblivion . fancy . health . .\\n',\n",
              " 'amazon is about to launch in new mnnbrr billion market . via food . tech . business . businessnews . biznews amazon is about to launch in new mnnbrr billion market . via food . tech . business . businessnews . biznews .\\n',\n",
              " 'think of this when you have your next smoothie . food . health . the downside of smoothies . via nytimeswell think of this when you have your next smoothie . food . health . the downside of smoothies . via nytimeswell .\\n',\n",
              " 'less food made in factories and more that grew in dirt . victoria moran . gardening . health less food made in factories and more that grew in dirt . victoria moran . gardening . health .\\n',\n",
              " 'if you love taking pictures . birmingham is the place to take some with your food . . . if you love taking pictures . birmingham is the place to take some with your food . . . .\\n',\n",
              " 'our beer festival has great music on the saturday . beer music sun . no promises on sun . food fun put itinthediary our beer festival has great music on the saturday . beer music sun . no promises on sun . food fun put itinthediary .\\n',\n",
              " 'nope . it not kraftservices on set for movie . it my momma . backyard and . to feed . nope . it not kraftservices on set for movie . it my momma . backyard and . to feed . .\\n',\n",
              " 'come enjoy heavy festnnbrr magichatbtv this saturday . an all day event filled . music . art . beer . food more . come enjoy heavy festnnbrr magichatbtv this saturday . an all day event filled . music . art . beer . food more . .\\n',\n",
              " 'where to eat in san diego . california list . . healthy . healthyliving . food . health . where to eat in san diego . california list . . healthy . healthyliving . food . health . .\\n',\n",
              " 'here are nnbrr amazing rental . kitchen from across north america . food business . . here are nnbrr amazing rental . kitchen from across north america . food business . . .\\n',\n",
              " 'the wall in my kitchen . keeping it real . food as fashion . food . fashion . kitchen . vogue . the wall in my kitchen . keeping it real . food as fashion . food . fashion . kitchen . vogue . .\\n',\n",
              " '. never judge book by its cover . flint . flintinstituteofarts . travel . . museum . tour . art . car infiniti . . never judge book by its cover . flint . flintinstituteofarts . travel . . museum . tour . art . car infiniti . .\\n',\n",
              " '. never judge book by its cover . flint . flintinstituteofarts . travel . . museum . tour . art . . never judge book by its cover . flint . flintinstituteofarts . travel . . museum . tour . art . .\\n',\n",
              " 'homemade gnocchi in sage butter sauce . food . pics . homemade gnocchi in sage butter sauce . food . pics . .\\n',\n",
              " 'beets are an excellent food for athletes can help . energy muscle . recovery . cleaneating . nutrient . health beets are an excellent food for athletes can help . energy muscle . recovery . cleaneating . nutrient . health .\\n',\n",
              " 'beets are an excellent . for athletes can help . energy muscle . recovery . cleaneating . nutrient . health beets are an excellent . for athletes can help . energy muscle . recovery . cleaneating . nutrient . health .\\n',\n",
              " 'rt . contest win yummy super natural and nutritious protein bars templeproteinbars . food . health . diet . fitness . rt . contest win yummy super natural and nutritious protein bars templeproteinbars . food . health . diet . fitness . .\\n',\n",
              " '. good cooks experiment . but great recipes are often . . eat . health . . . . good cooks experiment . but great recipes are often . . eat . health . . . .\\n',\n",
              " 'here are nnbrr reasons why you should never eat pack of instant noodles . . ramen . health . here are nnbrr reasons why you should never eat pack of instant noodles . . ramen . health . .\\n',\n",
              " 'starting the crisis conversation . what does the future . column food tc al gore tech . technology . music starting the crisis conversation . what does the future . column food tc al gore tech . technology . music .\\n',\n",
              " 'executive chef qld nnbrr axel job kitchen . food travel you tube . . executive chef qld nnbrr axel job kitchen . food travel you tube . . .\\n',\n",
              " 'did you know eating indian food can make you healthier . . eat . travel to . . did you know eating indian food can make you healthier . . eat . travel to . . .\\n',\n",
              " 'baked clams . oc . . nnbrr nnbrr . food . pics . baked clams . oc . . nnbrr nnbrr . food . pics . .\\n',\n",
              " 'quick guide to fascinating sydney . australia . . . healthy . healthyliving . . health . quick guide to fascinating sydney . australia . . . healthy . healthyliving . . health . .\\n',\n",
              " 'guide to bologna . where to eat . drink and stay . . healthy . healthyliving . food . health . guide to bologna . where to eat . drink and stay . . healthy . healthyliving . food . health . .\\n',\n",
              " 'ready to start my day . apple . tv . . porn . lover . himbeeren . obst . morning . goodmorning . bowl . less . ready to start my day . apple . tv . . porn . lover . himbeeren . obst . morning . goodmorning . bowl . less . .\\n',\n",
              " 'angus beef burger . steak fries . and spicy remoulade . nnbrrxnnbrr . food . pics . angus beef burger . steak fries . and spicy remoulade . nnbrrxnnbrr . food . pics . .\\n',\n",
              " 'best snack foods in tokyo . japan asia food . travel . ttot best snack foods in tokyo . japan asia food . travel . ttot .\\n',\n",
              " 'how to eat like local in china when you don speak the language . via saveur food . travel how to eat like local in china when you don speak the language . via saveur food . travel .\\n',\n",
              " 'when fast food becomes healthy choice in fast paced society . eating . . healthyliving small doctor health when fast food becomes healthy choice in fast paced society . eating . . healthyliving small doctor health .\\n',\n",
              " 'ruffle your wanderlust for with epicurean delicacies at namah . travel . ruffle your wanderlust for with epicurean delicacies at namah . travel . .\\n',\n",
              " 'love bruge . beautiful place to visit and did mention chocolate . travel food . . love bruge . beautiful place to visit and did mention chocolate . travel food . . .\\n',\n",
              " 'nnbrr things love about granada . spain travel . food . music andalucia . nnbrr things love about granada . spain travel . food . music andalucia . .\\n',\n",
              " 'follow us on our trips on . travel travel tuesday travelblogger . . iechats . ielife . porn europe follow us on our trips on . travel travel tuesday travelblogger . . iechats . ielife . porn europe .\\n',\n",
              " 'where to eat in maui . healthy . healthyliving . food . health . where to eat in maui . healthy . healthyliving . food . health . .\\n',\n",
              " 'live music firday nnbrrth may nnbrrpm the boathouse\\n',\n",
              " 'jazz and swing vocal harmony group\\n',\n",
              " ' . music food boathouse live music firday nnbrrth may nnbrrpm the boathouse\\n',\n",
              " 'jazz and swing vocal harmony group\\n',\n",
              " ' . music food boathouse .\\n',\n",
              " 'thy will be done . lmao . goals . self . time . grow . happiness . girl . progress . gym . health . food . study . smart . love . thy will be done . lmao . goals . self . time . grow . happiness . girl . progress . gym . health . food . study . smart . love . .\\n',\n",
              " 'amsterdam got great pancakes . breakfast . . . healthy . healthyliving . . health . amsterdam got great pancakes . breakfast . . . healthy . healthyliving . . health . .\\n',\n",
              " 'nnbrr things people get wrong about eating for brain health . productivity . health . . nnbrr things people get wrong about eating for brain health . productivity . health . . .\\n',\n",
              " 'vegan . . if insects have consciousness . what then . submitted by . . updikenstuff . . blog . health . vegan . . if insects have consciousness . what then . submitted by . . updikenstuff . . blog . health .\\n',\n",
              " 'vegan . food switching to parttime veganism but the hell should be eating that isn dest . . blog . health . vegan . food switching to parttime veganism but the hell should be eating that isn dest . . blog . health .\\n',\n",
              " 'eat lots of onions . turmeric . red grapes . green tea and acai berries . . health . inflammation\\n',\n",
              " ' . eat lots of onions . turmeric . red grapes . green tea and acai berries . . health . inflammation\\n',\n",
              " ' . .\\n',\n",
              " 'snacking . chatting and chilling in trinidad . via guardian . travel snacking . chatting and chilling in trinidad . via guardian . travel .\\n',\n",
              " 'livingston . jewellery . textiles . . woodworking . millinery . skincare . photography . art . clothing and more . livingston . jewellery . textiles . . woodworking . millinery . skincare . photography . art . clothing and more . .\\n',\n",
              " 'can you deduce the reference . thought she . . healthy . healthyliving . . health . can you deduce the reference . thought she . . healthy . healthyliving . . health . .\\n',\n",
              " 'found this cupcake in paris . . pics . found this cupcake in paris . . pics . .',\n",
              " 'intelligence accounting support . lavora come intelligence accounting support in . . . intelligence accounting support . lavora come intelligence accounting support in . . . .\\n',\n",
              " 'foxnews business . nnbrr tech stocks to buy in may . . music . hcpnnbrr foxnews business . nnbrr tech stocks to buy in may . . music . hcpnnbrr .\\n',\n",
              " 'foxnews business . nnbrr tech stocks to buy in may . . music . hcpnnbrr foxnews business . nnbrr tech stocks to buy in may . . music . hcpnnbrr .\\n',\n",
              " 'invast april monthly revenues strike new nnbrr lows . finance . invast april monthly revenues strike new nnbrr lows . finance . .\\n',\n",
              " 'foxnews business . nnbrr tech stocks to buy in may . . music . hcpnnbrr foxnews business . nnbrr tech stocks to buy in may . . music . hcpnnbrr .\\n',\n",
              " 'goldman sachs group inc . nyse . gs . stock rating and earnings review dow jones nnbrr finance nnbrr index stocks . goldman sachs group inc . nyse . gs . stock rating and earnings review dow jones nnbrr finance nnbrr index stocks . .\\n',\n",
              " 'astrazeneca boosted by good results for biotech asthma drug ftse nnbrr stocks finance azn . gb . astrazeneca boosted by good results for biotech asthma drug ftse nnbrr stocks finance azn . gb . .\\n',\n",
              " 'training by nnbrr nnbrr figure earners guaranteed to help you get more leads . reps more money in your mlm business . . training by nnbrr nnbrr figure earners guaranteed to help you get more leads . reps more money in your mlm business . . .\\n',\n",
              " 'blank . atlanta offers beautiful super bowl weather due to climate change . atlanta . . news . kgglobal rt blank . atlanta offers beautiful super bowl weather due to climate change . atlanta . . news . kgglobal rt .\\n',\n",
              " 'who else wants to recruit nnbrr people . . free video . . mlm leads sales business makemoney money who else wants to recruit nnbrr people . . free video . . mlm leads sales business makemoney money .\\n',\n",
              " 'stem backgrounds rule for new ceos at largest us companies . via qz . stem backgrounds rule for new ceos at largest us companies . via qz . .\\n',\n",
              " 'financial theory video john geanakoplos . finance . nnbrr . . financial theory video john geanakoplos . finance . nnbrr . . .\\n',\n",
              " '. tech amazon restaurant delivery service lands in dallas and new york . launches . . entrepreneurship . . tech amazon restaurant delivery service lands in dallas and new york . launches . . entrepreneurship .\\n',\n",
              " 'sbux starbucks plans to raise mnnbrrm to fund sustainable projects . . stocks . stockmarket goog googl spy sbux starbucks plans to raise mnnbrrm to fund sustainable projects . . stocks . stockmarket goog googl spy .\\n',\n",
              " 'assistant accountant . ashford . nnbrrk nnbrrk . accountancy . jobs . accountancy . . assistant accountant . ashford . nnbrrk nnbrrk . accountancy . jobs . accountancy . . .\\n',\n",
              " 'hopefully the weather hasn dampened your startup . business spirits . your summer could be just around the corner . hopefully the weather hasn dampened your startup . business spirits . your summer could be just around the corner . .\\n',\n",
              " 'nnbrr key tips to starting and running successful . business . nnbrr key tips to starting and running successful . business . .\\n',\n",
              " 'the software that airbnb . kickstarter . and others use to get honest employee feedback . via fastco business . innov the software that airbnb . kickstarter . and others use to get honest employee feedback . via fastco business . innov .\\n',\n",
              " 'the best states and cities for the clean tech economy . via fastco . innovation the best states and cities for the clean tech economy . via fastco . innovation .\\n',\n",
              " 'business asia india sun . empowering india . . it takes around three hours for our sun to send us as much . . business asia india sun . empowering india . . it takes around three hours for our sun to send us as much . . .\\n',\n",
              " 'checklist para social media managers infografia . infographic . . marketing . business . checklist para social media managers infografia . infographic . . marketing . business . .\\n',\n",
              " 'we re looking for new hair stylist to join our team in newcastle whitley bay area . business . beauty . we re looking for new hair stylist to join our team in newcastle whitley bay area . business . beauty . .\\n',\n",
              " 'the struggle is real . . the meddler . writer . lorene scaf . . business . news . tech . the struggle is real . . the meddler . writer . lorene scaf . . business . news . tech . .\\n',\n",
              " 'futures slightly lower after oil rally takes breather . business . futures slightly lower after oil rally takes breather . business . .\\n',\n",
              " 'badcreditloan provide ideal financial backup . london marathon . . badcreditloan provide ideal financial backup . london marathon . . .\\n',\n",
              " 'the nnbrr times your leadership is guaranteed to fail . leadership . . . the nnbrr times your leadership is guaranteed to fail . leadership . . . .\\n',\n",
              " 'garmin adds gps technology to an activity tracker with the vivosmart hr . . . tech garmin adds gps technology to an activity tracker with the vivosmart hr . . . tech .\\n',\n",
              " 'the surprising source of most of your problems . . business . tech the surprising source of most of your problems . . business . tech .\\n',\n",
              " 'inglewood pins hopes for commercial revival on rams . . . inglewood pins hopes for commercial revival on rams . . . .\\n',\n",
              " 'ukraine . business and property registration decentralised . new online services introduced . ukraine . business and property registration decentralised . new online services introduced . .\\n',\n",
              " '. at berkshire we don tell . nnbrr hitters how to swing . warren buffett leadership . business . at berkshire we don tell . nnbrr hitters how to swing . warren buffett leadership . business .\\n',\n",
              " 'nnbrr startup success secrets . mindset and strategies workbook for building succes qui . startup . . zippylab nnbrr startup success secrets . mindset and strategies workbook for building succes qui . startup . . zippylab .\\n',\n",
              " 'milwaukee . wi finance job . payroll specialist nnbrr hours . pay period at aurora health care . jobs hiring milwaukee . wi finance job . payroll specialist nnbrr hours . pay period at aurora health care . jobs hiring .\\n',\n",
              " 'why hillary clinton coal gaffe . . finance . why hillary clinton coal gaffe . . finance . .\\n',\n",
              " 'why follow the herd . plymouth south west business . smallbiz ngo news is out . . stories via effectuscd why follow the herd . plymouth south west business . smallbiz ngo news is out . . stories via effectuscd .\\n',\n",
              " 'design nnbrr all . type of logos . . card . stationary only nnbrr read more at . . design nnbrr all . type of logos . . card . stationary only nnbrr read more at . . .\\n',\n",
              " '. video . my thoughts almost got the best of me today . . business . mindset . entrepreneur . startup . wahm . mlm . video . my thoughts almost got the best of me today . . business . mindset . entrepreneur . startup . wahm . mlm .\\n',\n",
              " 'france govt wants to allow divorce by mutual consent . news . . updates . kgglobal france govt wants to allow divorce by mutual consent . news . . updates . kgglobal .\\n',\n",
              " 'egypt . sisi witnesses new assiut power africa east africa business news . tanzania kenya uganda rwanda burundi egypt . sisi witnesses new assiut power africa east africa business news . tanzania kenya uganda rwanda burundi .\\n',\n",
              " 'apple is top advancer as dow industrials race to nnbrr point gain news . market . business apple is top advancer as dow industrials race to nnbrr point gain news . market . business .\\n',\n",
              " 'repost . another day another hustle by garyvee hustle . work . . . repost . another day another hustle by garyvee hustle . work . . . .\\n',\n",
              " 'business news . taylor wimpey leads ftse nnbrr higher the ftse nnbrr is boosted by taylor wimpey after the houseb . . business news . taylor wimpey leads ftse nnbrr higher the ftse nnbrr is boosted by taylor wimpey after the houseb . . .\\n',\n",
              " 'nnbrr things new managers should do in the first nnbrr months hr . . . nnbrr things new managers should do in the first nnbrr months hr . . . .\\n',\n",
              " 'business inspiration . livewire marketing hinckley . marketing services for print social media . business inspiration . livewire marketing hinckley . marketing services for print social media . .\\n',\n",
              " 'true history . tyranny justice oppression right fake business news socialmedia images picture manger cnn true history . tyranny justice oppression right fake business news socialmedia images picture manger cnn .\\n',\n",
              " 'lets talk fintech register on the most tech savvy pnnbrrp platform . reach out to us for any . options . finance nnbrrgrowth fin techtalknnbrr lets talk fintech register on the most tech savvy pnnbrrp platform . reach out to us for any . options . finance nnbrrgrowth fin techtalknnbrr .\\n',\n",
              " 'billund finance job . business process control senior manager at lego group . lego jobs hiring billund finance job . business process control senior manager at lego group . lego jobs hiring .\\n',\n",
              " 'the ultimate product launch checklist . . business . the ultimate product launch checklist . . business . .\\n',\n",
              " 'must see if growing business . online . limite time . . startup . network . home . sh must see if growing business . online . limite time . . startup . network . home . sh .\\n',\n",
              " 'representing professionals at multiple places at once by . . headshot . representing professionals at multiple places at once by . . headshot . .\\n',\n",
              " 'microsoft and sap love grows stronger in the cloud . business microsoft and sap love grows stronger in the cloud . business .\\n',\n",
              " 'nnbrr traps to avoid if you re woman preparing to be an entrepreneur . law . . . nnbrr traps to avoid if you re woman preparing to be an entrepreneur . law . . . .\\n',\n",
              " 'nnbrr lessons in business by age nnbrr . startup entrepreneur social media mktng seo smm . nnbrr lessons in business by age nnbrr . startup entrepreneur social media mktng seo smm . .\\n',\n",
              " 'nnbrr traps to avoid if you re woman preparing to be an entrepreneur . don say we didn wa . . startup business nnbrr traps to avoid if you re woman preparing to be an entrepreneur . don say we didn wa . . startup business .\\n',\n",
              " 'business entrepreneur college futures slightly lower amid . business entrepreneur college futures slightly lower amid . .\\n',\n",
              " 'you need more time for making new business deals . development growth toronto startup . marketing . you need more time for making new business deals . development growth toronto startup . marketing . .\\n',\n",
              " 'tbt nnbrr great gordon gekko business quotes . media money investor stock bonds . tbt nnbrr great gordon gekko business quotes . media money investor stock bonds . .\\n',\n",
              " 'wowbuckley good luck . relaunch wowbuckley good luck . relaunch .\\n',\n",
              " 'come and say hello to us at buyyorkshire today stand nnbrr . leeds sme business . come and say hello to us at buyyorkshire today stand nnbrr . leeds sme business . .\\n',\n",
              " 'rntatannbrr backs medical response startup murgencynetwork\\n',\n",
              " ' . ndtv\\n',\n",
              " ' ratantata technology . app . growth . business rntatannbrr backs medical response startup murgencynetwork\\n',\n",
              " ' . ndtv\\n',\n",
              " ' ratantata technology . app . growth . business .\\n',\n",
              " 'twitter only had nnbrr employees in january nnbrr . twitter socialmedia . tech . internet . . . twitter only had nnbrr employees in january nnbrr . twitter socialmedia . tech . internet . . . .\\n',\n",
              " 'business square feet . inglewood pins hopes for commercial revival on rams . the return of the te . . via nytimes business square feet . inglewood pins hopes for commercial revival on rams . the return of the te . . via nytimes .\\n',\n",
              " 'frugal business technology business blog posts . . business tech silicon valley . frugal business technology business blog posts . . business tech silicon valley . .\\n',\n",
              " 'phoenix power rising . via youtube\\n',\n",
              " ' money . myers . mlm . online . . mums phoenix power rising . via youtube\\n',\n",
              " ' money . myers . mlm . online . . mums .\\n',\n",
              " 'want to work in boston . ma . view our latest opening . . finance job jobs hiring career arc want to work in boston . ma . view our latest opening . . finance job jobs hiring career arc .\\n',\n",
              " 'secrets for law firms to increase their business growth . \\n',\n",
              " 'for more . . . secrets for law firms to increase their business growth . \\n',\n",
              " 'for more . . . .\\n',\n",
              " 'flighty millennials look to switch out of funds\\n',\n",
              " ' . . newlands chris and aime williams . investment . . flighty millennials look to switch out of funds\\n',\n",
              " ' . . newlands chris and aime williams . investment . . .\\n',\n",
              " 'are these the golden days for gold . gld gold investing minerals . . are these the golden days for gold . gld gold investing minerals . . .\\n',\n",
              " 'ucwr adio early movers . hd . lc . intc . htz more . news . . ucwr adio early movers . hd . lc . intc . htz more . news . . .\\n',\n",
              " 'ucwr adio grads . stop sending the boss gifs . news . finance ucwr adio grads . stop sending the boss gifs . news . finance .\\n',\n",
              " 'take your business with you on the go with our mobile solutions . . . take your business with you on the go with our mobile solutions . . . .\\n',\n",
              " 'life . business . . success thriving entrepreneur ewnradio . life . business . . success thriving entrepreneur ewnradio . .\\n',\n",
              " 'calgary business for sale . learn the secret to getting calgary business . yyc . business calgary business for sale . learn the secret to getting calgary business . yyc . business .\\n',\n",
              " 'can you bring your mother to meeting with hr business . . can you bring your mother to meeting with hr business . . .\\n',\n",
              " 'new nba platform lets fans create their own playoff videos . business . marketing new nba platform lets fans create their own playoff videos . business . marketing .\\n',\n",
              " 'stanford quantifies the privacy stripping power of metadata . . marketing stanford quantifies the privacy stripping power of metadata . . marketing .\\n',\n",
              " 'developer of anonymous tor software dodges fbi leaves us news . market . . . developer of anonymous tor software dodges fbi leaves us news . market . . . .\\n',\n",
              " 'access to digital technology accelerates global gender equality . \\n',\n",
              " 'in every industry . digital techn . . business access to digital technology accelerates global gender equality . \\n',\n",
              " 'in every industry . digital techn . . business .\\n',\n",
              " 'hsbc introduces otc clearing collateral service . . . hsbc introduces otc clearing collateral service . . . .\\n',\n",
              " 'have you been to my site and my etsy store . . creative . altfashion . altmodel . . art have you been to my site and my etsy store . . creative . altfashion . altmodel . . art .\\n',\n",
              " 'don just evaluate your vendor evaluate your account manager . bad account manager can tu . business . . . don just evaluate your vendor evaluate your account manager . bad account manager can tu . business . . . .\\n',\n",
              " 'amred healthcare ltd crowdfund campaign is funding now amredhealthcare business . . amred healthcare ltd crowdfund campaign is funding now amredhealthcare business . . .\\n',\n",
              " 'ten . . cities where foreigners will be buying properties in nnbrr . . ten . . cities where foreigners will be buying properties in nnbrr . . .\\n',\n",
              " 'westinghouse electric chinese trojan horse . . westinghouse electric chinese trojan horse . . .\\n',\n",
              " 'learning as much as you can . . . business . investing . success . learning as much as you can . . . business . investing . success . .\\n',\n",
              " 'business . businessdevelopment . news . money . startup . sales . marketing wall st . is down in early trading by the as . business . businessdevelopment . news . money . startup . sales . marketing wall st . is down in early trading by the as . .\\n',\n",
              " 'are we all women in tech . . . tech are we all women in tech . . . tech .\\n',\n",
              " 'us jobless claims post largest rise in more than year news . market . us jobless claims post largest rise in more than year news . market . .',\n",
              " 'indigo pink black clothing . fashion . beanie . editiorial . modern . girl . fashionista . stylist . . trend . streetwear . pink black clothing . fashion . beanie . editiorial . modern . girl . fashionista . stylist . . trend . streetwear . .\\n',\n",
              " 'art fashion the legend of tarzan swings into action with an epic new trailer . follow grittygramz art fashion the legend of tarzan swings into action with an epic new trailer . follow grittygramz .\\n',\n",
              " 'not polish . king . beautiful . beauty . branco . cute . essie . fashion get instalike . not polish . king . beautiful . beauty . branco . cute . essie . fashion get instalike . .\\n',\n",
              " 'tbt to my first ever runway show . model . fashion . . uk . la . nyc . beardedvillians . tbt to my first ever runway show . model . fashion . . uk . la . nyc . beardedvillians . .\\n',\n",
              " 'man for all seasons . happy bondi travel . photography . interview . man for all seasons . happy bondi travel . photography . interview . .\\n',\n",
              " 'man for all seasons . happy bondi travel . photography . interview . man for all seasons . happy bondi travel . photography . interview . .\\n',\n",
              " 'popular on nnbrrpx . the afternoon by denisnnbrr travel . ttot . . . on nnbrrpx . the afternoon by denisnnbrr travel . ttot . . . .\\n',\n",
              " 'photography . untitled . photo oftheday travel photo . . untitled . photo oftheday travel photo . .\\n',\n",
              " 'travel . . landscape photography . lines colours by daviderussonnbrr . . landscape photography . lines colours by daviderussonnbrr . .\\n',\n",
              " '. hello welcome . by khuramlawrence . street candid people portrait color dubai travel photography humanity . hello welcome . by khuramlawrence . street candid people portrait color dubai travel photography humanity .\\n',\n",
              " 'save europe beauty . . god creation . icle nnbrr nnbrr eu referendum brexit leave eu . save europe beauty . . god creation . icle nnbrr nnbrr eu referendum brexit leave eu . by . robert mcginnis . robert mcginnis . .\\n',\n",
              " 'it coming along nicely . new . website . launch . next . week . pfsstudios . photography . model . fashion . glamour . . it coming along nicely . new . website . launch . next . week . pfsstudios . photography . model . fashion . glamour . . .\\n',\n",
              " 'beautiful new canvas photo . get it today for nnbrrp off . use code . canvas . at checkout . . art painting . nature . beautybeautiful new canvas photo . get it today for nnbrrp off . use code . canvas . at checkout . . art painting . nature . beauty .\\n',\n",
              " 'some older shoots took while back . like them . . fashionsome older shoots took while back . like them . . fashion .\\n',\n",
              " 'make sure you look up . . portraits . . . blessed . travel . ceiling . . make sure you look up . . portraits . . . blessed . travel . ceiling . . .\\n',\n",
              " 'summer day by drranannbrr popular on nnbrrpx . travel . ttot . . . day by drranannbrr popular on nnbrrpx . travel . ttot . . . .\\n',\n",
              " 'humayuns tomb . delhi in pictures . ttot . travel indiapictures photography lpindia . lp . tomb . delhi in pictures . ttot . travel indiapictures photography lpindia . lp . .\\n',\n",
              " 'nnbrr day nature photo challenge day nnbrr . via wordpressdotcom nature . photography england travel . photochallengennbrr day nature photo challenge day nnbrr . via wordpressdotcom nature . photography england travel . photochallenge .\\n',\n",
              " 'life artlife . life long quest photo documentary project newark art travel nyc . . artlife . life long quest photo documentary project newark art travel nyc . . .\\n',\n",
              " 'cherry blossom love by littletreennbrr photography images popular amazing photos pictures beautiful . moment . . blossom love by littletreennbrr photography images popular amazing photos pictures beautiful . moment . . .\\n',\n",
              " 'the tall ones by larsvandegoor photography images popular amazing photos pictures beautiful . moment . photosh . tall ones by larsvandegoor photography images popular amazing photos pictures beautiful . moment . photosh . .\\n',\n",
              " 'chasing light at venice beach by ryanmillier photography images popular amazing photos pictures beautiful . . light at venice beach by ryanmillier photography images popular amazing photos pictures beautiful . . .\\n',\n",
              " 'spillover nnbrr by twwall photography images popular amazing photos pictures beautiful . moment . photoshoot . snap . nnbrr by twwall photography images popular amazing photos pictures beautiful . moment . photoshoot . snap . .\\n',\n",
              " 'tonal rush by alwnnbrr photography images popular amazing photos pictures beautiful . moment . photoshoot . snap . rush by alwnnbrr photography images popular amazing photos pictures beautiful . moment . photoshoot . snap . .\\n',\n",
              " 'mud bath by victorcarpentier photography images popular amazing photos pictures beautiful . moment . photoshoo . bath by victorcarpentier photography images popular amazing photos pictures beautiful . moment . photoshoo . .\\n',\n",
              " 'behind the scenes by paloszorros photography images popular amazing photos pictures beautiful . moment . photo . the scenes by paloszorros photography images popular amazing photos pictures beautiful . moment . photo . .\\n',\n",
              " 'by my phone\\n',\n",
              " ' photography . photo insta tagsnnbrrlikes photos . picture . pictures . pic . pics . by my phone\\n',\n",
              " ' photography . photo insta tagsnnbrrlikes photos . picture . pictures . pic . pics . .\\n',\n",
              " 'freestyle by csolder photography sports . by csolder photography sports . .\\n',\n",
              " 'the united states probe has never reached to mars . . . rt education . learning the united states probe has never reached to mars . . . rt education . learning . . .\\n',\n",
              " 'stunning sunset in malaysia . . . travel . asia . malaysia . borneostunning sunset in malaysia . . . travel . asia . malaysia . borneo .\\n',\n",
              " 'child watches england roll by on the way to france . camera rawphotography travel . photography . child watches england roll by on the way to france . camera rawphotography travel . photography . .\\n',\n",
              " 'it going down tonight . live painting food drinks art art work . it going down tonight . live painting food drinks art art work . .\\n',\n",
              " 'photography tips for the point shoot food blogger . . . bloggertips . tips for the point shoot food blogger . . . bloggertips . .\\n',\n",
              " 'la times food writer . critic jonathan gold tonite . his documentary city of gold go . film . . . la times food writer . critic jonathan gold tonite . his documentary city of gold go . film . . . tonight tomorrow . join us for as after the nnbrr . nnbrrpm city ofgolddoc shows . visit our website for more info . . tonight tomorrow . join us for as after the nnbrr . nnbrrpm city ofgolddoc shows . visit our website for more info . . .\\n',\n",
              " 'have seen this . antoniazzo . . art . beauty . darkages . giotto . middleages . painting . renaissance . romano . romehave seen this . antoniazzo . . art . beauty . darkages . giotto . middleages . painting . renaissance . romano . rome .\\n',\n",
              " 'photography . like father like sons . shot on film . . photo oftheday travel photo . . like father like sons . shot on film . . photo oftheday travel photo . .\\n',\n",
              " 'rt photo az . food . popular . photography . photo ff image . instagram . nnbrrpx . food . popular . photography . photo ff image . instagram . nnbrrpx . .\\n',\n",
              " 'camera . . nnbrr new . canon ef nnbrrmm . do is ii usm lens ultrasonic af motor . . . nnbrr new . canon ef nnbrrmm . do is ii usm lens ultrasonic af motor . .\\n',\n",
              " 'camera photography . nnbrr canon eos nnbrrd dslr . nnbrrdx . body nnbrr lens . nnbrrmm nnbrr nnbrr nnbrr nnbrr . photography . nnbrr canon eos nnbrrd dslr . nnbrrdx . body nnbrr lens . nnbrrmm nnbrr nnbrr nnbrr nnbrr . .\\n',\n",
              " 'camera . . nnbrr new nnbrrk kit for sony fnnbrr . mb nnbrr matte box kit for canon cnnbrr . . . . nnbrr new nnbrrk kit for sony fnnbrr . mb nnbrr matte box kit for canon cnnbrr . . .\\n',\n",
              " 'discover guy denning . artist painter . guydenning . painting . guydenning . guy denning . artist painter . guydenning . painting . guydenning . .\\n',\n",
              " 'buck barbecue by dr nude photography outdoor . model . nude . blonde via . . barbecue by dr nude photography outdoor . model . nude . blonde via . . .\\n',\n",
              " 'our beautiful . ny . city . . city . ny . highline . buildings . home . photographer photography . our beautiful . ny . city . . city . ny . highline . buildings . home . photographer photography . .\\n',\n",
              " 'kylie by adamgnnbrr nude photography model . studio . sexy . topless . blonde . natural via . . by adamgnnbrr nude photography model . studio . sexy . topless . blonde . natural via . . .\\n',\n",
              " 'yaaay just little drawing\\n',\n",
              " 'ana . by mirkotabasevic nude photography red . girl . beauty . light . summer . beautiful . glamour . fashion . female . pret . . by mirkotabasevic nude photography red . girl . beauty . light . summer . beautiful . glamour . fashion . female . pret . .\\n',\n",
              " 'lights out by alexdumas nude photography girl . light . beautiful . black and white . glamour . fashion . woman . body . cute . out by alexdumas nude photography girl . light . beautiful . black and white . glamour . fashion . woman . body . cute . .\\n',\n",
              " 'chichi by creativehive nude photography . via . . by creativehive nude photography . via . . .\\n',\n",
              " 'matt by trey squire nude photography portrait . light . studio . black and white . man . photo . model . face . nude . blac . by trey squire nude photography portrait . light . studio . black and white . man . photo . model . face . nude . blac . .\\n',\n",
              " 'museum day . museum . . familyfun museo botero . la candelaria . museum day . museum . . familyfun museo botero . la candelaria . .\\n',\n",
              " 'matt by trey squire nude photography light . studio . man . body . model . art . nude . black . naked . sensual . male via genius . by trey squire nude photography light . studio . man . body . model . art . nude . black . naked . sensual . male via genius . .\\n',\n",
              " 'sterling silver star of david necklace with cz stone necklace . jewelry . jewish . style . . . . silver star of david necklace with cz stone necklace . jewelry . jewish . style . . . . .\\n',\n",
              " 'beauty of decay by structor photography images popular amazing photos pictures beautiful . moment . photoshoot . of decay by structor photography images popular amazing photos pictures beautiful . moment . photoshoot . .\\n',\n",
              " 'floatingpoints live now in rome . fujifilmitalia fujifilmx us xpro nnbrr . vsco nexus nnbrrp club . photography . events . live now in rome . fujifilmitalia fujifilmx us xpro nnbrr . vsco nexus nnbrrp club . photography . events . .\\n',\n",
              " 'andrea goblin house small hotel by rrojasfx nude photography . via . . goblin house small hotel by rrojasfx nude photography . via . . .\\n',\n",
              " 'tropical flower photography . anthurium flower . hawaiian by tfas . via etsy nature . alexpals bekis beadstropical flower photography . anthurium flower . hawaiian by tfas . via etsy nature . alexpals bekis beads .\\n',\n",
              " 'andrea goblin house small hotel by rrojasfx nude photography . via . . goblin house small hotel by rrojasfx nude photography . via . . .\\n',\n",
              " 'ice babe by blue gene nude photography frozen . girl . color . studio . fashion . ice via . . babe by blue gene nude photography frozen . girl . color . studio . fashion . ice via . . .\\n',\n",
              " 'irons of yesteryear by kaye menner photography quality prints and cards at . . irons of yesteryear by kaye menner photography quality prints and cards at . . .\\n',\n",
              " 'because pokken . gengar . pokemonnnbrr . pokemon . doodle . art . sketch . videogames . because pokken . gengar . pokemonnnbrr . pokemon . doodle . art . sketch . videogames . .\\n',\n",
              " 'working on new project recycled . cardboard . trays . art . craft . love . upcycling . paper . glue . working on new project recycled . cardboard . trays . art . craft . love . upcycling . paper . glue . .\\n',\n",
              " 'please rt vinn wong . japanese painter . vinnwong . painting . abstract . rt vinn wong . japanese painter . vinnwong . painting . abstract . .\\n',\n",
              " 'portrature is hard af portrait . illustration . goodbyeanatomy . is hard af portrait . illustration . goodbyeanatomy . .\\n',\n",
              " 'photography camera art nnbrr . nnbrr bi color free bag nnbrr led panel video light camera studio film . nnbrr\\n',\n",
              " 'bi photography camera art nnbrr . nnbrr bi color free bag nnbrr led panel video light camera studio film . nnbrr\\n',\n",
              " 'photography camera art nnbrr . nnbrrtnnbrr nnbrr axis handheld brushless gimbal self stabilization fpv . nnbrrtnnbrr photography camera art nnbrr . nnbrrtnnbrr nnbrr axis handheld brushless gimbal self stabilization fpv . nnbrrtnnbrr .\\n',\n",
              " 'take my hand around the world . photography travel . my hand around the world . photography travel . .\\n',\n",
              " 'thomas kinkade thomas kinkade mountain majesty nnbrr . nnbrr . gallery wrapped canvas . art home decor thomas kinkade thomas kinkade mountain majesty nnbrr . nnbrr . gallery wrapped canvas . art home decor .\\n',\n",
              " 'lighting bowens generation teasers appear at photography show . bowens delayed generation fl . . . lighting bowens generation teasers appear at photography show . bowens delayed generation fl . . . .\\n',\n",
              " 'abstract digital . art . via twitchabstract digital . art . via twitch .\\n',\n",
              " 'camera photography . nnbrr canon eos nnbrrd mark iii dslr camera with ef nnbrr nnbrrmm . is usm . photography . nnbrr canon eos nnbrrd mark iii dslr camera with ef nnbrr nnbrrmm . is usm . .\\n',\n",
              " 'just uploaded . daily oil nnbrr . to the vangoart marketplace original . art . just uploaded . daily oil nnbrr . to the vangoart marketplace original . art . .\\n',\n",
              " 'truck call . truck . trucks . wtff . phonephotography . camera . miniature . miniatures . art . driving . truck call . truck . trucks . wtff . phonephotography . camera . miniature . miniatures . art . driving . .\\n',\n",
              " 'camera . . nnbrr brand new canon nnbrrds dslr camera body with ef nnbrr nnbrrmm . is us . . . nnbrr brand new canon nnbrrds dslr camera body with ef nnbrr nnbrrmm . is us . .\\n',\n",
              " 'camera photography . nnbrr cooke speed panchro nnbrr . nnbrrmm format movie lens converted to . photography . nnbrr cooke speed panchro nnbrr . nnbrrmm format movie lens converted to . .\\n',\n",
              " 'camera . . nnbrr annbrr . annbrr sony underwater camera housing nnbrr . dsnnbrr flex st . . . nnbrr annbrr . annbrr sony underwater camera housing nnbrr . dsnnbrr flex st . .\\n',\n",
              " 'camera photography . nnbrr sony exnnbrr with accesories . photography . nnbrr sony exnnbrr with accesories . .\\n',\n",
              " 'camera photography . nnbrr sony alpha slt annbrr mk nnbrr . super bundle . everything is mint . . photography . nnbrr sony alpha slt annbrr mk nnbrr . super bundle . everything is mint . . .\\n',\n",
              " 'there is something gorgeous and divine when you connect with nature . saveplanet . digitalhealth . sunday . \\n',\n",
              " 'rt photo az . food . popular . . photo ff image . instagram . nnbrrpx . food . popular . . photo ff image . instagram . nnbrrpx . .\\n',\n",
              " 'love the flowing lines artgallery . art . artist . photography . blindphotographer . artlover . love the flowing lines artgallery . art . artist . photography . blindphotographer . artlover . .\\n',\n",
              " '. monkes tynnbrrflw . lknnbrrwrdnnbrryr artists who have decided to interact with the world . painting . sculpture . architecture . more . monkes tynnbrrflw . lknnbrrwrdnnbrryr artists who have decided to interact with the world . painting . sculpture . architecture . more . .\\n',\n",
              " '. greenlight . grab it on soundcloud . independent art music hip hop rap dj . . greenlight . grab it on soundcloud . independent art music hip hop rap dj . .\\n',\n",
              " 'an apartment house in ditmars steinway . . photography . queens . new york city nyc . picsher . itsinqueensan . apartment house in ditmars steinway . . photography . queens . new york city nyc . picsher . itsinqueens .\\n',\n",
              " 'little spidergwen . work . comic comics sketch . inprogress . ist . . marvel . little spidergwen . work . comic comics sketch . inprogress . ist . . marvel . .\\n',\n",
              " 'woodland series sculpture wall hangings . white on white handmadetweeter . . sculpture . series sculpture wall hangings . white on white handmadetweeter . . sculpture . .\\n',\n",
              " 'gardner museum exhibit showcases renaissance . baroque art abc news . via abcgardner museum exhibit showcases renaissance . baroque art abc news . via abc .\\n',\n",
              " 'stoked on these new . necklaces . necklace . amazing . . local shopofcoppers epic . stoked on these new . necklaces . necklace . amazing . . local shopofcoppers epic . .\\n',\n",
              " 'love my comedy . art fashion watch doncherrysfans vs mikeblacksonfan howdoilook . stopstealingmylook . my comedy . art fashion watch doncherrysfans vs mikeblacksonfan howdoilook . stopstealingmylook . .\\n',\n",
              " 'camera photography . nnbrr olympus pen plnnbrr micro four thirds system camera . nnbrr nnbrrmm zo . photography . nnbrr olympus pen plnnbrr micro four thirds system camera . nnbrr nnbrrmm zo . .\\n',\n",
              " 'camera photography . nnbrr brand new olympus annbrr micro four thirds . photography . nnbrr brand new olympus annbrr micro four thirds . .\\n',\n",
              " 'camera photography . nnbrr olympus om mnnbrr ednnbrr nnbrrmm fnnbrr pro lens kit camera black from . photography . nnbrr olympus om mnnbrr ednnbrr nnbrrmm fnnbrr pro lens kit camera black from . .\\n',\n",
              " 'camera photography . nnbrr olympus stylus tg nnbrr nnbrrmp tough digital camera . zoom . . photography . nnbrr olympus stylus tg nnbrr nnbrrmp tough digital camera . zoom . . .\\n',\n",
              " 'got some new canvases today painting . lovinglife . yeg . art . some new canvases today painting . lovinglife . yeg . art . .\\n',\n",
              " 'design showcase web design by abeshi abedesignoffice design . art . grapihic . gundam . geomery . thankyou . grapihicdes . web design by abeshi abedesignoffice design . art . grapihic . gundam . geomery . thankyou . grapihicdes . .\\n',\n",
              " 'camera . . nnbrr olympus pen pmnnbrr nnbrr mp digital camera red body . . . nnbrr olympus pen pmnnbrr nnbrr mp digital camera red body . .\\n',\n",
              " 'camera . . nnbrr olympus stylus tough tg nnbrr ihs nnbrrmp digital camera . . . . nnbrr olympus stylus tough tg nnbrr ihs nnbrrmp digital camera . . .\\n',\n",
              " 'camera . . nnbrr panasonic lumix nnbrrmm . nnbrr for mnnbrr . micro four third panasonic . . . nnbrr panasonic lumix nnbrrmm . nnbrr for mnnbrr . micro four third panasonic . .',\n",
              " 'health . nnbrr my super healthy favorite . health . nnbrr my super healthy favorite . .\\n',\n",
              " 'eat grapes to help lower obesity risk\\n',\n",
              " ' . health tips health eat grapes to help lower obesity risk\\n',\n",
              " ' . health tips health .\\n',\n",
              " 'founder of spaitgirl shares why she loves visiting dayspas so much wellness . . spa . fitness . founder of spaitgirl shares why she loves visiting dayspas so much wellness . . spa . fitness . .\\n',\n",
              " 'health . nnbrr fitness deals healthy fitness nnbrr fitness exercise weight loss . health . nnbrr fitness deals healthy fitness nnbrr fitness exercise weight loss . .\\n',\n",
              " 'health . nnbrr fitness deals hot over nnbrr male fitness niche . . . health . nnbrr fitness deals hot over nnbrr male fitness niche . . . .\\n',\n",
              " 'health . nnbrr fitness deals the official fitness model . health . nnbrr fitness deals the official fitness model . .\\n',\n",
              " 'health . nnbrr fitness deals point fitness online exercise . health . nnbrr fitness deals point fitness online exercise . .\\n',\n",
              " 'heart . fitness . . diet . heart . fitness . . diet . .\\n',\n",
              " 'health . nnbrr fitness deals new high conversion rates with refunds below nnbrrp top fitnes . health . nnbrr fitness deals new high conversion rates with refunds below nnbrrp top fitnes . .\\n',\n",
              " 'health . nnbrr fitness deals how to read fitness research nnbrrp commission . health . nnbrr fitness deals how to read fitness research nnbrrp commission . .\\n',\n",
              " 'health . nnbrr fitness deals from fat to fitness model . drop fat and build nnbrr . health . nnbrr fitness deals from fat to fitness model . drop fat and build nnbrr . .\\n',\n",
              " 'health . nnbrr fitness deals books on fitness equipment to set up your home . health . nnbrr fitness deals books on fitness equipment to set up your home . .\\n',\n",
              " 'health . nnbrr fitness deals fitnotherapy the inner game of . health . nnbrr fitness deals fitnotherapy the inner game of . .\\n',\n",
              " 'health . nnbrr fitness deals nnbrrp commission . lose man breast fat fast fitness weightlos . health . nnbrr fitness deals nnbrrp commission . lose man breast fat fast fitness weightlos . .\\n',\n",
              " 'nnbrr unknown signs of cancer that women ignore . health nnbrr unknown signs of cancer that women ignore . health .\\n',\n",
              " 'at womens turnaround and activity awareness day psspeople rotundaltd . matters at womens turnaround and activity awareness day psspeople rotundaltd . matters .\\n',\n",
              " 'before bed workout . health fitness trusper tip . yoga . . workout . before bed workout . health fitness trusper tip . yoga . . workout . .\\n',\n",
              " 'men health total fitness guide nnbrr illustrated hardcover at . . men health total fitness guide nnbrr illustrated hardcover at . . .\\n',\n",
              " 'are you struggling . that great . nothing good ever comes from those who quit . fitteam . . are you struggling . that great . nothing good ever comes from those who quit . fitteam . . .\\n',\n",
              " '. andile kobi connect with qi health harmony love respect . . andile kobi connect with qi health harmony love respect . .\\n',\n",
              " 'weight loss programs help people keep the pounds off . but success is still health . weightloss . fitness . wellness . weight loss programs help people keep the pounds off . but success is still health . weightloss . fitness . wellness . .\\n',\n",
              " 'weight loss programs help people keep the weightloss . diet . . wellness . fitness . . weight loss programs help people keep the weightloss . diet . . wellness . fitness . . .\\n',\n",
              " 'weight loss programs help people keep the pounds off . but success is still rare health . weightloss . fitness . . weight loss programs help people keep the pounds off . but success is still rare health . weightloss . fitness . . .\\n',\n",
              " 'penis operation highlights past . future of organ transplants . penis operation highlights past . future of organ transplants . .\\n',\n",
              " 'health . penis operation highlights past . future of organ transplants . chicago . ap . add one remark . . . health . penis operation highlights past . future of organ transplants . chicago . ap . add one remark . . . .\\n',\n",
              " '. we are providing best thai massage in dubai . we are dedicated to your . and relaxa . . we are providing best thai massage in dubai . we are dedicated to your . and relaxa . .\\n',\n",
              " 'live healthy life with palixo health . an effective health records managing app . palixo healthrecords health . live healthy life with palixo health . an effective health records managing app . palixo healthrecords health . .\\n',\n",
              " 'walleskannbrrsantos academic ebooks . science tech technology health fitness fit . book . books kindle reading walleskannbrrsantos academic ebooks . science tech technology health fitness fit . book . books kindle reading .\\n',\n",
              " 'uranium caused cancer inspires graduate of fort lewis college . nonukes . . security . edu . med uranium caused cancer inspires graduate of fort lewis college . nonukes . . security . edu . med .\\n',\n",
              " 'motivations . expectations . and experiences of labiaplasty . qualitative study . gender . health . motivations . expectations . and experiences of labiaplasty . qualitative study . gender . health . .\\n',\n",
              " 'exercise . prescription for better health and longer life . cate cameron urbanpolinginc health . prevention exercise . prescription for better health and longer life . cate cameron urbanpolinginc health . prevention .\\n',\n",
              " 'almost half of all heart attacks are . silent . new study says . . cnn health almost half of all heart attacks are . silent . new study says . . cnn health .\\n',\n",
              " 'download the free ksfl app today for top tips fitness . health related nutrition . . download the free ksfl app today for top tips fitness . health related nutrition . . .\\n',\n",
              " 'nnbrr yoga poses for better sleep . if your kids love doing yoga . . yoga . fitness . . . nnbrr yoga poses for better sleep . if your kids love doing yoga . . yoga . fitness . . . .\\n',\n",
              " 'it our multi port festival this thursday . sport health . it our multi port festival this thursday . sport health . .\\n',\n",
              " 'labiaplasty surgery prompted by derogatory comments . research finds . gender . . . labiaplasty surgery prompted by derogatory comments . research finds . gender . . . .\\n',\n",
              " 'all praises to the most high . health wealth wisdom thankful beat daoddz daily tweet all praises to the most high . health wealth wisdom thankful beat daoddz daily tweet .\\n',\n",
              " '. image . bought thing . did some stuff . fruitbased . abs . . fruits . kaylaitsinesbbg . fruitarian . bodybuildin . . image . bought thing . did some stuff . fruitbased . abs . . fruits . kaylaitsinesbbg . fruitarian . bodybuildin . .\\n',\n",
              " 'sunshine and passion passionibiza\\n',\n",
              " 'feeling the love for this coffee walnut cake shake ibiza . . . sunshine and passion passionibiza\\n',\n",
              " 'feeling the love for this coffee walnut cake shake ibiza . . . .\\n',\n",
              " 'eat lots of onions . turmeric . red grapes . green tea and acai berries . food . health . inflammation\\n',\n",
              " ' . eat lots of onions . turmeric . red grapes . green tea and acai berries . food . health . inflammation\\n',\n",
              " ' . .\\n',\n",
              " 'how to remove stucked chewing gum from hairs . beauty . fitness . girls . health health talk how to remove stucked chewing gum from hairs . beauty . fitness . girls . health health talk .\\n',\n",
              " 'sitting is killing us . it time to take stand . health . prevention urbanpolinginc sitting is killing us . it time to take stand . health . prevention urbanpolinginc .\\n',\n",
              " 'harborsmusic good morning . thanks for the follow . it is an honor . now following you . check out . tips . lifestyle coach harborsmusic good morning . thanks for the follow . it is an honor . now following you . check out . tips . lifestyle coach .\\n',\n",
              " 'paleo diet what does it mean . fat free diet food list . unlike most diet . weightloss . . paleo diet what does it mean . fat free diet food list . unlike most diet . weightloss . . .\\n',\n",
              " 'amazon canada webber naturals saw palmetto extract softgel . nnbrrmg by webber naturals nnbrr . . health beauty amazon canada webber naturals saw palmetto extract softgel . nnbrrmg by webber naturals nnbrr . . health beauty .\\n',\n",
              " 'daynnbrr psalm nnbrr . nnbrr mind . body . spirit . . fitness . daynnbrr psalm nnbrr . nnbrr mind . body . spirit . . fitness . .\\n',\n",
              " 'the harm in blindly going gluten free the atlantic health news . the harm in blindly going gluten free the atlantic health news . .\\n',\n",
              " 'learn how to make the right kind of . goals for successful nnbrr . listen . . podcast . success learn how to make the right kind of . goals for successful nnbrr . listen . . podcast . success .\\n',\n",
              " 'learn how to make the right kind of health goals for successful nnbrr . listen . . podcast . success learn how to make the right kind of health goals for successful nnbrr . listen . . podcast . success .\\n',\n",
              " 'want one . the only handheld wet . steam vacuum . this is . . . . want one . the only handheld wet . steam vacuum . this is . . . . .\\n',\n",
              " 'helping children handle stress . mindfulness . . anxiety . helping children handle stress . mindfulness . . anxiety . .\\n',\n",
              " 'health solution lose weight with low carb vegetarian diet and exercises . . fashion style health solution lose weight with low carb vegetarian diet and exercises . . fashion style .\\n',\n",
              " 'respect yourself . nnbrrmuscle life bettering fitness health stay strong nnbrrmuscle . respect yourself . nnbrrmuscle life bettering fitness health stay strong nnbrrmuscle . .\\n',\n",
              " 'health magic mushroom ingredient may ease severe depression . study suggests . health magic mushroom ingredient may ease severe depression . study suggests . .\\n',\n",
              " 'how to use carnitine and its benefits . beauty . fitness . girls . health health talk how to use carnitine and its benefits . beauty . fitness . girls . health health talk .\\n',\n",
              " 'motivation health the paleo way unique diet in the modern world . fashion news motivation health the paleo way unique diet in the modern world . fashion news .\\n',\n",
              " 'travel doesn have to mean uny eating . . . wellness travel doesn have to mean uny eating . . . wellness .\\n',\n",
              " 'nnbrr . vintage blast the first two stage pre workout supplement non habit forming . sustained . health amazon nnbrr . vintage blast the first two stage pre workout supplement non habit forming . sustained . health amazon .\\n',\n",
              " 'nnbrr is that type of age quotes . life . sayings . education . meme . funny . . fitness . nnbrr is that type of age quotes . life . sayings . education . meme . funny . . fitness . .\\n',\n",
              " 'nnbrr tricks to help you make health and fitness priority thebraindriver tdcs . biohacking . . . nnbrr tricks to help you make health and fitness priority thebraindriver tdcs . biohacking . . . .\\n',\n",
              " 'health benefits of neem for skin . healthy herb . beauty . fitness . girls . . health talk health benefits of neem for skin . healthy herb . beauty . fitness . girls . . health talk .\\n',\n",
              " 'who doesn want great nnbrr pack . check out our top . weightloss . health . diet . fitness . . who doesn want great nnbrr pack . check out our top . weightloss . health . diet . fitness . . .\\n',\n",
              " 'can you deduce the reference . thought she . . . yliving . food . . . can you deduce the reference . thought she . . . yliving . food . . . .\\n',\n",
              " 'father age and lifestyle could impact of children . . public father age and lifestyle could impact of children . . public .\\n',\n",
              " 'scinet it . rt lifepath eu . johan mackenbach on educational disparities in life and health expectancy in europe . scinet it . rt lifepath eu . johan mackenbach on educational disparities in life and health expectancy in europe . .\\n',\n",
              " 'nnbrr keys to seeing god work the miraculous via spirit hacker . suffered with . health miracles . nnbrr keys to seeing god work the miraculous via spirit hacker . suffered with . health miracles . .\\n',\n",
              " 'aia and hok partner to advance design and health research . aec dbia . aia and hok partner to advance design and health research . aec dbia . .\\n',\n",
              " 'more children accidently poisoned by essential oils . health medical science poison research more children accidently poisoned by essential oils . health medical science poison research .\\n',\n",
              " 'starting in nnbrr making africa open data matter . talking education . . water in giraffe nnbrr . ict nnbrrdnnbrr starting in nnbrr making africa open data matter . talking education . . water in giraffe nnbrr . ict nnbrrdnnbrr .\\n',\n",
              " 'cancer crukcambridge . rt wtevents . . . research . cancer crukcambridge . rt wtevents . . . research .\\n',\n",
              " 'news train nhs staff to plug doctor gaps . bosses say . health news train nhs staff to plug doctor gaps . bosses say . health .\\n',\n",
              " '. \\n',\n",
              " 'we are providing best thai massage in dubai . we are dedicated to your health and relax . . \\n',\n",
              " 'we are providing best thai massage in dubai . we are dedicated to your health and relax . .\\n',\n",
              " 'motivation health struggling with weight loss . hypnotherapy may be the . fashion . motivation health struggling with weight loss . hypnotherapy may be the . fashion . .\\n',\n",
              " 'the fascinating confessions of an nnbrr year old model . . fashion . model . fitness . . beauty the fascinating confessions of an nnbrr year old model . . fashion . model . fitness . . beauty .\\n',\n",
              " '. schulichmeddent dental research . improving health care through discovery . . . schulichmeddent dental research . improving health care through discovery . . .\\n',\n",
              " 'smoothness . photo by matev dream love hope health peace art . smoothness . photo by matev dream love hope health peace art . .\\n',\n",
              " 'healthnnbrrconnecnnbrr hey first name . thanks for following me . look for tweets on health . fitness and mindhacks for staying on target . healthnnbrrconnecnnbrr hey first name . thanks for following me . look for tweets on health . fitness and mindhacks for staying on target . .\\n',\n",
              " 'just finished week nnbrr day nnbrr of cnnbrrk with cnnbrrkfree . zenlabsfitness . everymomentcounts . run . running . health . fitness week nnbrr done . just finished week nnbrr day nnbrr of cnnbrrk with cnnbrrkfree . zenlabsfitness . everymomentcounts . run . running . health . fitness week nnbrr done . .\\n',\n",
              " '. believe in moderation . like kale and like vodka too . gwynethpaltrow . . . believe in moderation . like kale and like vodka too . gwynethpaltrow . . .\\n',\n",
              " 'narrow band of green light could improve migraines . medicine . . narrow band of green light could improve migraines . medicine . . .\\n',\n",
              " 'rt quotes wish people were as concerned about cv disease as ebola . . . health rt quotes wish people were as concerned about cv disease as ebola . . . health .\\n',\n",
              " 'inspire fitness with new gear . fashion . fitness . health . review inspire fitness with new gear . fashion . fitness . health . review .\\n',\n",
              " 'rt quotes don let stated side effects scare you . . . health rt quotes don let stated side effects scare you . . . health .\\n',\n",
              " 'rt quotes alzheimer and dementia are caused by small artery disease . . . health rt quotes alzheimer and dementia are caused by small artery disease . . . health .\\n',\n",
              " 'specialised health equipment lying idle . nnbrryrs . at naguru hospital . polymerase chain reaction machine that does dna viral load testing . specialised health equipment lying idle . nnbrryrs . at naguru hospital . polymerase chain reaction machine that does dna viral load testing . .\\n',\n",
              " 'realistic goal body . we need more images like this . beautiful . weightloss . diet . fitness . health . realistic goal body . we need more images like this . beautiful . weightloss . diet . fitness . health . .\\n',\n",
              " 'remember that saying . quitters never win . \\n',\n",
              " 'you ve got this . don give up . moms . . makethetime . remember that saying . quitters never win . \\n',\n",
              " 'you ve got this . don give up . moms . . makethetime . .\\n',\n",
              " 'health department fires hospital officials for fraud and misconduct in various hospitals . . therealrorisang health department fires hospital officials for fraud and misconduct in various hospitals . . therealrorisang .\\n',\n",
              " 'all natural breakfast smoothie . message . natural . thenonchef . drink . all natural breakfast smoothie . message . natural . thenonchef . drink . .\\n',\n",
              " 'have you ordered your luxury hand body lotion yet . . livepurely . health . holistic . beauty . have you ordered your luxury hand body lotion yet . . livepurely . health . holistic . beauty . .',\n",
              " ' . omg shiz this book was the bomb . . sports . .\\n',\n",
              " 'rt arysports web . moments which you surely can forget . pakistan sports . . rt arysports web . moments which you surely can forget . pakistan sports . . .\\n',\n",
              " '. superbowl made in usa authentic champion michael jordan chicago bulls nba jersey sz nnbrr . nba . nfl . . superbowl made in usa authentic champion michael jordan chicago bulls nba jersey sz nnbrr . nba . nfl .\\n',\n",
              " 'sports . superbowl mitchell and ness philadelphia nnbrrrs bryant jersey sz nnbrr . nba . nfl . sports . superbowl mitchell and ness philadelphia nnbrrrs bryant jersey sz nnbrr . nba . nfl .\\n',\n",
              " '. superbowl vtg nnbrr majestic los angeles lakers . nnbrr kobe bryant men nnbrrxl shooting shirt nba . nba . nfl . . superbowl vtg nnbrr majestic los angeles lakers . nnbrr kobe bryant men nnbrrxl shooting shirt nba . nba . nfl .\\n',\n",
              " 'sports . superbowl miami heat nba basketball camp nnbrrp polyester jersey xl . nba . nfl . sports . superbowl miami heat nba basketball camp nnbrrp polyester jersey xl . nba . nfl .\\n',\n",
              " 'sports . superbowl dallas cowboys super bowl champions vi shirt . nfl . welovesports . sports . superbowl dallas cowboys super bowl champions vi shirt . nfl . welovesports .\\n',\n",
              " 'kinesio your body with kt care\\n',\n",
              " ' ktcare . sports . fitness lebanon basketball hiking . riding . gym . pregnant . . kinesio your body with kt care\\n',\n",
              " ' ktcare . sports . fitness lebanon basketball hiking . riding . gym . pregnant . . .\\n',\n",
              " 'sports running jogging gym black armband case cover holder for iphone nnbrr . nnbrrs nnbrr . . . sports running jogging gym black armband case cover holder for iphone nnbrr . nnbrrs nnbrr . . . .\\n',\n",
              " 'international players criticize labor conditions in qatar . sports international players criticize labor conditions in qatar . sports .\\n',\n",
              " '. sports . jess varnish determined to ride for team gb at rio de janeiro olympics as cyclist questions decisio . . . sports . jess varnish determined to ride for team gb at rio de janeiro olympics as cyclist questions decisio . . .\\n',\n",
              " 'sports transfer news live as manchester united eye zlatan ibrahimovic and liverpool close in on new keeper . . . sports transfer news live as manchester united eye zlatan ibrahimovic and liverpool close in on new keeper . . . .\\n',\n",
              " 'sports . nnbrr unlike stars fading from european firmament . via . . sports . nnbrr unlike stars fading from european firmament . via . . .\\n',\n",
              " 'costa and mata left out of spain squad . diego costa . juan mata and fernando torres are left out of ho . . sports costa and mata left out of spain squad . diego costa . juan mata and fernando torres are left out of ho . . sports .\\n',\n",
              " 'bmx super nice sport design throw pillow . sport . . interiordesign . edchat . highschool bmx super nice sport design throw pillow . sport . . interiordesign . edchat . highschool .\\n',\n",
              " 'miami dolphins nnbrr xxxl nnbrr miami dolphins throwback pouncey aqua elite . sports . miami dolphins nnbrr xxxl nnbrr miami dolphins throwback pouncey aqua elite . sports . .\\n',\n",
              " 'nnbrr leaf pure autograph pennbrr phil esposito auto boston bruins hockey . sports . nnbrr leaf pure autograph pennbrr phil esposito auto boston bruins hockey . sports . .\\n',\n",
              " 'sports goods nnbrr brand chicago white sox clean up hat team . onsale . sports goods nnbrr brand chicago white sox clean up hat team . onsale . .\\n',\n",
              " 'arsenal ladies nnbrr nnbrr chelsea ladies . sports arsenal ladies nnbrr nnbrr chelsea ladies . sports .\\n',\n",
              " 'nhl bd philadelphia flyers nnbrr exclusive bobble heads voracek giroux . hockey sports . nhl bd philadelphia flyers nnbrr exclusive bobble heads voracek giroux . hockey sports . .\\n',\n",
              " 'brand new release . if you don believe me lessons learned from listening nnbrr the greats sports . legends . brand new release . if you don believe me lessons learned from listening nnbrr the greats sports . legends . .\\n',\n",
              " 'thunder steven adams apologizes for monkeys comment sports . thunder steven adams apologizes for monkeys comment sports . .\\n',\n",
              " 'thunder steven adams apologizes for monkeys comment . . thunder steven adams apologizes for monkeys comment . . .\\n',\n",
              " 'kunshan . saina nehwal guided the indian women to dominating nnbrr nnbrr win over germany to stay on course for knockout berth in . sports kunshan . saina nehwal guided the indian women to dominating nnbrr nnbrr win over germany to stay on course for knockout berth in . sports .\\n',\n",
              " 'should he play or not the rooney conundrum\\n',\n",
              " ' . rooney . england . euronnbrr . football . premierleague . . waynerooney should he play or not the rooney conundrum\\n',\n",
              " ' . rooney . england . euronnbrr . football . premierleague . . waynerooney .\\n',\n",
              " 'specialized red . mens cycling shoes size eu nnbrr . us nnbrr . via ebay cycling . mountainbike . . deals specialized red . mens cycling shoes size eu nnbrr . us nnbrr . via ebay cycling . mountainbike . . deals .\\n',\n",
              " 'sports nike air jordan retro iv nnbrr white cement grey black size nnbrr . shoes . sports nike air jordan retro iv nnbrr white cement grey black size nnbrr . shoes . .\\n',\n",
              " 'sports deals nike air jordan nnbrr retro low georgetown mens nnbrr brand new ds . . sports deals nike air jordan nnbrr retro low georgetown mens nnbrr brand new ds . . .\\n',\n",
              " '. headin to darrell royal texas memorial stadium . go for free . lyft . mnnbrr lyft ride credit . use code jox stadium . . uber . lyft . . headin to darrell royal texas memorial stadium . go for free . lyft . mnnbrr lyft ride credit . use code jox stadium . . uber . lyft . .\\n',\n",
              " 'costa left out by spain . chelsea striker diego costa has been left out of spain provisional squad . . sports costa left out by spain . chelsea striker diego costa has been left out of spain provisional squad . . sports .\\n',\n",
              " 'costa left out by spain . chelsea striker diego costa has been left out of spain provisional squad . . sports costa left out by spain . chelsea striker diego costa has been left out of spain provisional squad . . sports .\\n',\n",
              " 'let entice more women into sports . sports women insport fitness . cycling . let entice more women into sports . sports women insport fitness . cycling . .\\n',\n",
              " 'sports . superbowl jason kidd plaque phoenix suns basketball nba . nba . nfl . sports . superbowl jason kidd plaque phoenix suns basketball nba . nba . nfl .\\n',\n",
              " 'climbing by adam adventure photos photography sports . climbing by adam adventure photos photography sports . .\\n',\n",
              " 'vintage car by livioleoni photography sports . vintage car by livioleoni photography sports . .\\n',\n",
              " 'hockey chicago blackhawks nnbrr united center replica stadium sga nnbrr . hawks . sports . hockey chicago blackhawks nnbrr united center replica stadium sga nnbrr . hawks . sports . .\\n',\n",
              " 'sports adidas yeezy nnbrr boost turtle dove size nnbrr . . sports adidas yeezy nnbrr boost turtle dove size nnbrr . . .\\n',\n",
              " 'top yeezy boost pirate black size nnbrr . sports . top yeezy boost pirate black size nnbrr . sports . .\\n',\n",
              " 'sports yeezy nnbrr boost in moonrock . . sports yeezy nnbrr boost in moonrock . . .\\n',\n",
              " 'shoes yeezy boost nnbrr size nnbrr turtle dove aqnnbrr . sports . shoes yeezy boost nnbrr size nnbrr turtle dove aqnnbrr . sports . .\\n',\n",
              " 'novak djokovic news nnbrr us open subway poster novak djokovic rare . tennis sports novak djokovic news nnbrr us open subway poster novak djokovic rare . tennis sports .\\n',\n",
              " '. sports . diego costa left out of spain provisional euro nnbrr squad as fernando torres and juan mata also . . . sports . diego costa left out of spain provisional euro nnbrr squad as fernando torres and juan mata also . . .\\n',\n",
              " 'good luck team gb . olympics nnbrr team gb rio olympicsnnbrr brazil . sports athletics nnbrr . status . good luck team gb . olympics nnbrr team gb rio olympicsnnbrr brazil . sports athletics nnbrr . status . nnbrr sleeps to go until rio nnbrr . \\n',\n",
              " 'have you sent your message of support . . . nnbrr sleeps to go until rio nnbrr . \\n',\n",
              " 'have you sent your message of support . . . .\\n',\n",
              " 'ennis hill to make injury return . news sports ennis hill to make injury return . news sports .\\n',\n",
              " 'drinkwater unsure on england euros spot . news sports drinkwater unsure on england euros spot . news sports .\\n',\n",
              " 'join our community of passion trades culture adventure sports lifestyle people around the world\\n',\n",
              " 'a join our community of passion trades culture adventure sports lifestyle people around the world\\n',\n",
              " 'a .\\n',\n",
              " 'between nufc pens need year worth of valium\\n',\n",
              " ' . between nufc pens need year worth of valium\\n',\n",
              " ' . .\\n',\n",
              " 'jet added to irish nnbrr field . jet setting has been supplemented for the tattersalls irish nnbrr . . sports . news jet added to irish nnbrr field . jet setting has been supplemented for the tattersalls irish nnbrr . . sports . news .\\n',\n",
              " 'sports goods chicago white sox new era nnbrrfifty mlb fitted cap . size . onsale . sports goods chicago white sox new era nnbrrfifty mlb fitted cap . size . onsale . .\\n',\n",
              " 'survive and advance espn films . nnbrr for nnbrr . sports . sports . . survive and advance espn films . nnbrr for nnbrr . sports . sports . . .\\n',\n",
              " 'sports nike air jordan nnbrr xi low retro tuxedo white black size nnbrr shoes news . . sports nike air jordan nnbrr xi low retro tuxedo white black size nnbrr shoes news . . .\\n',\n",
              " 'nba player in biggie song finally gets revealed . sports nba player in biggie song finally gets revealed . sports .\\n',\n",
              " '. willie monroe jr vs john thompson set for june nnbrr on sho extreme . . boxing news sports . willie monroe jr vs john thompson set for june nnbrr on sho extreme . . boxing news sports .\\n',\n",
              " 'basketball super cool sport design throw pillow . sport . . interiordesign . edchat . highschool basketball super cool sport design throw pillow . sport . . interiordesign . edchat . highschool .\\n',\n",
              " 'political economy complex of japan is using olympics as pretext to waste immense tax . sports fukushima nucleardisaster anonymous rwb political economy complex of japan is using olympics as pretext to waste immense tax . sports fukushima nucleardisaster anonymous rwb .\\n',\n",
              " 'follow follow back footy football keyrings sports avfc mufc afc cfc mcfc chelsea villa man man city arsenal pls rt . follow follow back footy football keyrings sports avfc mufc afc cfc mcfc chelsea villa man man city arsenal pls rt . .\\n',\n",
              " 'sks official sports hospitality . . rugby fnnbrr . tennis polo football sksnnbrr . sks official sports hospitality . . rugby fnnbrr . tennis polo football sksnnbrr . .\\n',\n",
              " 'sks official sports hospitality . . rugby fnnbrr . tennis polo football sksnnbrr . sks official sports hospitality . . rugby fnnbrr . tennis polo football sksnnbrr . .\\n',\n",
              " 'sks official sports hospitality . . rugby fnnbrr . tennis polo football sksnnbrr . retweet sks official sports hospitality . . rugby fnnbrr . tennis polo football sksnnbrr . retweet .\\n',\n",
              " 'sks official sports hospitality . . rugby fnnbrr . tennis polo football sksnnbrr . rt sks official sports hospitality . . rugby fnnbrr . tennis polo football sksnnbrr . rt .\\n',\n",
              " 'sks official sports hospitality . . rugby fnnbrr . tennis polo football sksnnbrr . sks official sports hospitality . . rugby fnnbrr . tennis polo football sksnnbrr . .\\n',\n",
              " '. sports . ousmane dembele reveals he always wanted dortmund despite barcelona and arsenal interest . ousmane . . . sports . ousmane dembele reveals he always wanted dortmund despite barcelona and arsenal interest . ousmane . . .\\n',\n",
              " 'why emre can vs . ever banega will be key liverpool vs . sevilla battle sports . why emre can vs . ever banega will be key liverpool vs . sevilla battle sports . .\\n',\n",
              " 'sports buzz minnesota twins number nnbrr shirt majestic baseball mlb . forsale . sports buzz minnesota twins number nnbrr shirt majestic baseball mlb . forsale . .\\n',\n",
              " '. sweatproof . in ear earbud . headset for skateboarding amazon . . sweatproof . in ear earbud . headset for skateboarding amazon . .\\n',\n",
              " 'sports update pete carroll . we need to help players find purpose after football . sports update pete carroll . we need to help players find purpose after football . .\\n',\n",
              " 'sports stop playing stupid it time to ban kickers from fantasy football . jake ciely . allinkid . is mad . sports stop playing stupid it time to ban kickers from fantasy football . jake ciely . allinkid . is mad . .\\n',\n",
              " 'the future of . espn is definitely not global . . . via . qz the future of . espn is definitely not global . . . via . qz .\\n',\n",
              " 'bryce harper cheated at catchphrase on the tonight show . thebiglead sports bryce harper cheated at catchphrase on the tonight show . thebiglead sports .\\n',\n",
              " 'ioc says dozens test positive from nnbrr samples wxyz . ioc says dozens test positive from nnbrr samples wxyz . .\\n',\n",
              " 'trying to stay healthy . let us know of any sports groups in romford . romford discuss sports . trying to stay healthy . let us know of any sports groups in romford . romford discuss sports . .\\n',\n",
              " 'ryder cup captain clarke seeks insight from klopp . . ryder cup captain clarke seeks insight from klopp . . .\\n',\n",
              " '. sports . sevilla are aiming for their third europa league win in row but who will liverpool have to watch . . . sports . sevilla are aiming for their third europa league win in row but who will liverpool have to watch . . .\\n',\n",
              " 'personalized bowling coach mug . bowling . coach . . gift . personalized bowling coach mug . bowling . coach . . gift . .\\n',\n",
              " 'so walked by some guy earlier at work and said hi and kept moving . coworkers just told me it was mariano riveria . whoops . sports so walked by some guy earlier at work and said hi and kept moving . coworkers just told me it was mariano riveria . whoops . sports .\\n',\n",
              " 'us reaches quarterfinals at worlds despite loss to slovakia . sports us reaches quarterfinals at worlds despite loss to slovakia . sports .\\n',\n",
              " 'nnbrrnovices . belinda bencic pulls out of french open may nnbrr . nnbrr at nnbrr . nnbrram . news hyderabad online media sports nnbrrnovices . belinda bencic pulls out of french open may nnbrr . nnbrr at nnbrr . nnbrram . news hyderabad online media sports .\\n',\n",
              " 'sports yeezy boost men size nnbrr pink . . sports yeezy boost men size nnbrr pink . . .\\n',\n",
              " 'sports dwyane wade nnbrr card lot miami heat . cards share sports dwyane wade nnbrr card lot miami heat . cards share .\\n',\n",
              " 'shoes adidas yeezy boost nnbrr size nnbrr nnbrr . sports . shoes adidas yeezy boost nnbrr size nnbrr nnbrr . sports . .\\n',\n",
              " 'watch sky sports nnbrr live . . . livetv . freetv . tv . watch sky sports nnbrr live . . . livetv . freetv . tv . .\\n',\n",
              " '. sports . zika worrying but rio should host games via theprowifennbrr . . . sports . zika worrying but rio should host games via theprowifennbrr . . .\\n',\n",
              " 'uk sports news real madrid convinced they will sign manchester united keeper david de gea daily mail gb . uk sports news real madrid convinced they will sign manchester united keeper david de gea daily mail gb . .\\n',\n",
              " 'how capitalism took over . movies . how capitalism took over . movies . .\\n',\n",
              " 'thunder vs warriors game nnbrr recap and the . travel . . nbap layoffs nba okc vsgsw sports . blog . blogger sbs thunder vs warriors game nnbrr recap and the . travel . . nbap layoffs nba okc vsgsw sports . blog . blogger sbs .\\n',\n",
              " 'alabama cam robinson . hootie jones arrested on gun . narcotic charges . . . alabama cam robinson . hootie jones arrested on gun . narcotic charges . . . .\\n',\n",
              " 'kevin harvick move to hendrick motorsports makes perfect sense . sports . kevin harvick move to hendrick motorsports makes perfect sense . sports . .\\n',\n",
              " 'like us on facebook . . injuryprevention . like us on facebook . . injuryprevention . .\\n',\n",
              " '. please retweet . ioc . nnbrr test positive for doping in retests of nnbrr beijing . sports . . please retweet . ioc . nnbrr test positive for doping in retests of nnbrr beijing . sports . .\\n',\n",
              " 'miami dolphins owner talks about bullying issue and draft of laremy tunsil . sports prsummit . miami dolphins owner talks about bullying issue and draft of laremy tunsil . sports prsummit . .',\n",
              " 'apple garageband picks up traditional chinese sounds and instruments in new update music . . apple garageband picks up traditional chinese sounds and instruments in new update music . . .\\n',\n",
              " 'now playing . dej loaf . desire dirty . rap . music . now playing . dej loaf . desire dirty . rap . music . .\\n',\n",
              " 'we ve still few tables left for our live . music this evening . give us tinkle . . we ve still few tables left for our live . music this evening . give us tinkle . . .\\n',\n",
              " 'cozy environment for . lovers . \\n',\n",
              " 'design fmstudio arch\\n',\n",
              " ' penthouse . moscow . . cozy environment for . lovers . \\n',\n",
              " 'design fmstudio arch\\n',\n",
              " ' penthouse . moscow . . .\\n',\n",
              " 'foals this orient listen . . music . vibes foals this orient listen . . music . vibes .\\n',\n",
              " 'kiss rock im revier nnbrr\\n',\n",
              " ' kiss . rirnnbrr . rockimrevier . concertphotography . ndphotography . . . kiss rock im revier nnbrr\\n',\n",
              " ' kiss . rirnnbrr . rockimrevier . concertphotography . ndphotography . . . .\\n',\n",
              " '. . rahman kt tunstall we could be kings . million dollar arm . . via youtube rt music soundtrack ace disney . . rahman kt tunstall we could be kings . million dollar arm . . via youtube rt music soundtrack ace disney .\\n',\n",
              " '. ella eyre together nowplaying . . house . edm . radio . futurerabbit . soundcloud . dance . follow . ella eyre together nowplaying . . house . edm . radio . futurerabbit . soundcloud . dance . follow .\\n',\n",
              " 'art is pigment of your imagination . art . decor . photo . . love . art is pigment of your imagination . art . decor . photo . . love . .\\n',\n",
              " 'radio nnbrrs . juice now playing music john miles apps apple . . radio nnbrrs . juice now playing music john miles apps apple . . .\\n',\n",
              " 'listen to . from ferrariforbes danpantzig seraphimmi sptt cemeteryhigh bdmmetal unsigned hour listen to . from ferrariforbes danpantzig seraphimmi sptt cemeteryhigh bdmmetal unsigned hour .\\n',\n",
              " 'hold you gyptian pal mundo rotterdam recap . music rotterdam ahoy . hold you gyptian pal mundo rotterdam recap . music rotterdam ahoy . .\\n',\n",
              " 'have you heard next to the nightingale by shakteem on sound cloud . np . indie . alt . . shakteem . . have you heard next to the nightingale by shakteem on sound cloud . np . indie . alt . . shakteem . . .\\n',\n",
              " 'dinnington social club gig with acoustic magic samlgibson steve wilkinson . joseph devitt and curtis music . dinnington social club gig with acoustic magic samlgibson steve wilkinson . joseph devitt and curtis music . .\\n',\n",
              " 'new remix of jack by me and onlyone . free download . . chill . trap new remix of jack by me and onlyone . free download . . chill . trap .\\n',\n",
              " 'krista does silo sound check at smallpondarts . photo by countytshirts pec concertina . music . krista does silo sound check at smallpondarts . photo by countytshirts pec concertina . music . .\\n',\n",
              " 'pop . . rock . dance . hits . radio . np now playing newsboys . shine . pop . . rock . dance . hits . radio . np now playing newsboys . shine . .\\n',\n",
              " 'music to the eyes . . . music to the eyes . . . follow me this friday night\\n',\n",
              " ' camgirl . porno asian hot girls nnbrr boogie nnbrr jopowernnbrr . follow me this friday night\\n',\n",
              " ' camgirl . porno asian hot girls nnbrr boogie nnbrr jopowernnbrr . .\\n',\n",
              " 'this is the best rock . music . radio now playing brantleygilbert one hell of an amen on . this is the best rock . music . radio now playing brantleygilbert one hell of an amen on . .\\n',\n",
              " 'foxnews business . nnbrr tech stocks to buy in may . . music . hcpnnbrr foxnews business . nnbrr tech stocks to buy in may . . music . hcpnnbrr .\\n',\n",
              " 'foxnews business . nnbrr tech stocks to buy in may . . music . hcpnnbrr foxnews business . nnbrr tech stocks to buy in may . . music . hcpnnbrr .\\n',\n",
              " 'foxnews business . nnbrr tech stocks to buy in may . . music . hcpnnbrr foxnews business . nnbrr tech stocks to buy in may . . music . hcpnnbrr .\\n',\n",
              " 'june nnbrr . nnbrr . nnbrr . nnbrrpm nnbrr . nnbrrpm chairlift free redhookpark music . chairlift brooklyn . . june nnbrr . nnbrr . nnbrr . nnbrrpm nnbrr . nnbrrpm chairlift free redhookpark music . chairlift brooklyn . . .\\n',\n",
              " 'raise hell bruh ft skslumzy scodaillest floo eks villnz villnz militia wdaa dmv hip hop music . . raise hell bruh ft skslumzy scodaillest floo eks villnz villnz militia wdaa dmv hip hop music . . .\\n',\n",
              " 'mp nnbrr music download you took my future teddy thompson and kelly jones . format . mpnnbrr music from the . cheaptweet mp nnbrr music download you took my future teddy thompson and kelly jones . format . mpnnbrr music from the . cheaptweet .\\n',\n",
              " 'new single out now from alyssasequoia free tofly only at . . . new single out now from alyssasequoia free tofly only at . . . .\\n',\n",
              " 'this is the best rock . . radio now playing all american rejects beekeeper daughter on . this is the best rock . . radio now playing all american rejects beekeeper daughter on . .\\n',\n",
              " 'quick . record an entire song guitar parts . session before work . whee . songwriting . music . musicislife quick . record an entire song guitar parts . session before work . whee . songwriting . music . musicislife .\\n',\n",
              " 'super heru vibes no matter the weather we shine dope . . producer . wavegod . wavegods . super heru vibes no matter the weather we shine dope . . producer . wavegod . wavegods . .\\n',\n",
              " 'lov nnbrrrz magazine april ft danielle nnbrr all about lov nnbrr peace positive music . . lov nnbrrrz magazine april ft danielle nnbrr all about lov nnbrr peace positive music . . .\\n',\n",
              " 'threw it all away scottish widows . radio . artist . topnnbrr . nowplaying . music . . threw it all away scottish widows . radio . artist . topnnbrr . nowplaying . music . . .\\n',\n",
              " 'we re hiring . read about our latest job opening here . software engineer . fort wayne . in music we re hiring . read about our latest job opening here . software engineer . fort wayne . in music .\\n',\n",
              " 'suff daddy lovin you listen . . music . vibes suff daddy lovin you listen . . music . vibes .\\n',\n",
              " 'dry those traces of tears bridear is live at explosiv graz . austria\\n',\n",
              " ' . metal . heavymetal . jrock . music dry those traces of tears bridear is live at explosiv graz . austria\\n',\n",
              " ' . metal . heavymetal . jrock . music .\\n',\n",
              " 'music song mandy moore crush cd . deal . music song mandy moore crush cd . deal . .\\n',\n",
              " 'music collectible lmc vs unnbrr take me to the clouds above cd video . forsale . music collectible lmc vs unnbrr take me to the clouds above cd video . forsale . .\\n',\n",
              " 'rod stewart music rod stewart rocks cd single part nnbrr . shopping . rod stewart music rod stewart rocks cd single part nnbrr . shopping . .\\n',\n",
              " 'nicki minaj music madonna feat . nicki minaj bitch madonna nnbrr . top seller . nicki minaj music madonna feat . nicki minaj bitch madonna nnbrr . top seller . .\\n',\n",
              " 'nnbrr pop cd . meghan trainor thank you . deluxe edition . . nnbrr . . music . nnbrr pop cd . meghan trainor thank you . deluxe edition . . nnbrr . . music . .\\n',\n",
              " 'jake the half conched band shot of mexico . nowplaying . troprpock . music jake the half conched band shot of mexico . nowplaying . troprpock . music .\\n',\n",
              " 'twist online featured . interview with danielle morgan . singer . songwriter . ian . . . twist online featured . interview with danielle morgan . singer . songwriter . ian . . . .\\n',\n",
              " 'trivia . help . was the first beatles song not about love . beatles . rock . . trivia . help . was the first beatles song not about love . beatles . rock . . .\\n',\n",
              " 'twist online featured . interview with danielle morgan . singer . songwriter . musician . music . twist online featured . interview with danielle morgan . singer . songwriter . musician . music . .\\n',\n",
              " 'cool bank vault headphones . . . nowplaying . np . fashion . cool bank vault headphones . . . nowplaying . np . fashion . .\\n',\n",
              " 'george mccrae don you feel my love . on diva radio disco . nowplaying disco radio music george mccrae don you feel my love . on diva radio disco . nowplaying disco radio music .\\n',\n",
              " 'follow my lifes soundtrack on instagram . film . art . music kanye empire . dreams . acting . movies . follow my lifes soundtrack on instagram . film . art . music kanye empire . dreams . acting . movies . .\\n',\n",
              " 'daughter doing the right thing . music musicians gear . from the archive . daughter doing the right thing . music musicians gear . from the archive . .\\n',\n",
              " 'juvenile sets it off at waffle house . rap . hiphop . news . . hiphophead juvenile sets it off at waffle house . rap . hiphop . news . . hiphophead .\\n',\n",
              " 'piano . pianist . bluethner . art . music . leipzig . icon . interiordesign . lifestyle . beautypiano . piano . pianist . bluethner . art . music . leipzig . icon . interiordesign . lifestyle . beautypiano . .\\n',\n",
              " 'another hour . it may nnbrr . nnbrr at nnbrr . nnbrram here red rover timebender nnbrr . . art . news . rock . rockband . . another hour . it may nnbrr . nnbrr at nnbrr . nnbrram here red rover timebender nnbrr . . art . news . rock . rockband . . .\\n',\n",
              " 'celine dion falling into you cd musics music . . . celine dion falling into you cd musics music . . . .\\n',\n",
              " 'let talk about love by celine dion . cd . nov nnbrr . nnbrr music . . musics music let talk about love by celine dion . cd . nov nnbrr . nnbrr music . . musics music .\\n',\n",
              " 'check out youtube page for full videos . . drake . drizzy . . hiphop . check out youtube page for full videos . . drake . drizzy . . hiphop . .\\n',\n",
              " 'can music change cultural attitudes . fascinating research from wadham fellow eric clarke . . can music change cultural attitudes . fascinating research from wadham fellow eric clarke . . .\\n',\n",
              " 'art will never be able to exist without nature . art . decor . photo . music . love . art will never be able to exist without nature . art . decor . photo . music . love . .\\n',\n",
              " 'another beat maschine maschine studio music macbook pro tunes . another beat maschine maschine studio music macbook pro tunes . .\\n',\n",
              " 'vip video playlist \\n',\n",
              " 'and they stare by natalieshay \\n',\n",
              " 'via rtnnbrreat radiodiego music news london nyc . . kuunnbrr . list . plmnnbrrqnrhjwnnbrroq nnbrrpckjnnbrrbpblpxbkpicdh vip video playlist \\n',\n",
              " 'and they stare by natalieshay \\n',\n",
              " 'via rtnnbrreat radiodiego music news london nyc . . kuunnbrr . list . plmnnbrrqnrhjwnnbrroq nnbrrpckjnnbrrbpblpxbkpicdh .\\n',\n",
              " 'listen to kung fu by ash from the album nnbrr . amwriting . music . . listen to kung fu by ash from the album nnbrr . amwriting . music . . .\\n',\n",
              " 'find yours floo eks shot by dubrc villnz villnz militia wdaa dmv hip hop music . . find yours floo eks shot by dubrc villnz villnz militia wdaa dmv hip hop music . . .\\n',\n",
              " 'now playing on . jnugthebossnnbrr ft jn rain new . siriusxm . killjoyradioxm . all . prnnbrrpromo . . now playing on . jnugthebossnnbrr ft jn rain new . siriusxm . killjoyradioxm . all . prnnbrrpromo . . .\\n',\n",
              " 'we launched the uk nnbrrst digital arts channel thespacearts featuring david bowie . art . culture . music . fashion we launched the uk nnbrrst digital arts channel thespacearts featuring david bowie . art . culture . music . fashion .\\n',\n",
              " 'we launched the uk nnbrrst digital arts channel thespacearts featuring david bowie . art . culture . . fashion we launched the uk nnbrrst digital arts channel thespacearts featuring david bowie . art . culture . . fashion .\\n',\n",
              " 'watch . justin timberlake gets his groove on in can stop the feeling music video . the . . watch . justin timberlake gets his groove on in can stop the feeling music video . the . . .\\n',\n",
              " 'exhibit one featuring malik scratch scratchnnbrr . hiphop . music . exhibit one featuring malik scratch scratchnnbrr . hiphop . music . .\\n',\n",
              " 'lov nnbrrrz magazine may features karmachrist livin forthelord . clean positive hip hop music . lov nnbrrrz magazine may features karmachrist livin forthelord . clean positive hip hop music . .\\n',\n",
              " 'get twitter promo for your music page click . . get twitter promo for your music page click . . .\\n',\n",
              " 'magic working on some feelingfunky new track coming to you soon . summer . . party clubmix festival . magic working on some feelingfunky new track coming to you soon . summer . . party clubmix festival .\\n',\n",
              " 'rick james super freak . hiphop . music verified edm rick james super freak . hiphop . music verified edm .\\n',\n",
              " 'unknown artist notorious big back to cali . yinyues remix . listen . . . vibes unknown artist notorious big back to cali . yinyues remix . listen . . . vibes .\\n',\n",
              " 'nnbrr . von party dreems wet raga . . top nnbrr you tube electronic tech house psy funk psy house experimental nnbrr . von party dreems wet raga . . top nnbrr you tube electronic tech house psy funk psy house experimental .\\n',\n",
              " 'now playing . snarky puppy beep box from culcha vulcha . jazz now playing . snarky puppy beep box from culcha vulcha . jazz .\\n',\n",
              " 'diana ross if we hold on together . kozos nnbrr music diana ross if we hold on together . kozos nnbrr music .\\n',\n",
              " 'over head headphones are actually the best when yu are cramped workin all day along sennheiser yu have designed it beautifully . music over head headphones are actually the best when yu are cramped workin all day along sennheiser yu have designed it beautifully . music .\\n',\n",
              " 'my article . dnce joe jonas swaay new music toothbrush toothbrush video dnce . status . my article . dnce joe jonas swaay new music toothbrush toothbrush video dnce . status . dnce tease toothbrush video . . dnce tease toothbrush video . . .\\n',\n",
              " 'thanks to everyone who showed up saturday for our . love . cursusfest . . dorsethour . . love see you at rustic stomp this wkd thanks to everyone who showed up saturday for our . love . cursusfest . . dorsethour . . love see you at rustic stomp this wkd .\\n',\n",
              " 'accept fast as shark np on . music heavy metal accept fast as shark np on . music heavy metal .\\n',\n",
              " 'nob this is song for you . nowplaying . music nob this is song for you . nowplaying . music .\\n',\n",
              " 'gym time . . of choice bluemangroup rodsandcones . catvideo . gym time . . of choice bluemangroup rodsandcones . catvideo .\\n',\n",
              " 'the kawai gl nnbrr baby grand piano could be the most advan . . music . piano . kawai . the kawai gl nnbrr baby grand piano could be the most advan . . music . piano . kawai . .\\n',\n",
              " 'listen to vic music on soundcloud . . rock . . song . writer . artist . songwriter . electronic . singersongwriter listen to vic music on soundcloud . . rock . . song . writer . artist . songwriter . electronic . singersongwriter .\\n',\n",
              " 'now playing . frank zappa blessed relief from the grand wazoo . rock now playing . frank zappa blessed relief from the grand wazoo . rock .\\n',\n",
              " 'listen to freeminded fm on tunein . . tune in android apple radio edm music . listen to freeminded fm on tunein . . tune in android apple radio edm music . .\\n',\n",
              " '. lost boy . by itsruthb cover the rodrigueztwins ruth cover . . lostboy ruth bc . . vine by sergiomdd . . lost boy . by itsruthb cover the rodrigueztwins ruth cover . . lostboy ruth bc . . vine by sergiomdd . .\\n',\n",
              " 'please consider . liking . my music fb page at . . please consider . liking . my music fb page at . . .\\n',\n",
              " 'now playing on . through the light . extended mix . by dillytek hardstyle . rawstyle . nonstop . music . radio now playing on . through the light . extended mix . by dillytek hardstyle . rawstyle . nonstop . music . radio .\\n',\n",
              " 'listennnbrr mosquaw must apologize . electropop berlin artists . . voting . startup . listennnbrr mosquaw must apologize . electropop berlin artists . . voting . startup . .',\n",
              " 'eight things you probably didn know you could stream on spotify . tech eight things you probably didn know you could stream on spotify . tech .\\n',\n",
              " 'technology amazon restaurant deliveries come to manhattan . dallas cnet . technology amazon restaurant deliveries come to manhattan . dallas cnet . .\\n',\n",
              " 'exercise your brain . tuesday motivation summerreading . . spiritual energy writers kindle free . . exercise your brain . tuesday motivation summerreading . . spiritual energy writers kindle free . . .\\n',\n",
              " 'crowd control . part nnbrr . mom not dead . she just in another universe cnet . technology news crowd control . part nnbrr . mom not dead . she just in another universe cnet . technology news .\\n',\n",
              " 'cnet tech . crowd control . part nnbrr . mom not dead . she just in another universe . . . ig namuhstradamus cnet tech . crowd control . part nnbrr . mom not dead . she just in another universe . . . ig namuhstradamus .\\n',\n",
              " 'panasonic new hand lacquered fans are gorgeous . and expensive . cnet . technology news panasonic new hand lacquered fans are gorgeous . and expensive . cnet . technology news .\\n',\n",
              " 'snips is personal assistant that combines all your data in one app . technews . technology . snips is personal assistant that combines all your data in one app . technews . technology . .\\n',\n",
              " 'read our ebook written exclusively for eventprofs . eventsforce events . eventsmanager . . . read our ebook written exclusively for eventprofs . eventsforce events . eventsmanager . . . .\\n',\n",
              " 'cnet tech news . crowd control . part nnbrr . mom not dead . she just in another univ . . . updates . hcpnnbrr cnet tech news . crowd control . part nnbrr . mom not dead . she just in another univ . . . updates . hcpnnbrr .\\n',\n",
              " 'magic mushrooms lift severe depression in clinical trial . science . . magic mushrooms lift severe depression in clinical trial . science . . .\\n',\n",
              " 'cnet tech news . crowd control . part nnbrr . mom not dead . she just in another univ . . . updates . hcpnnbrr cnet tech news . crowd control . part nnbrr . mom not dead . she just in another univ . . . updates . hcpnnbrr .\\n',\n",
              " 'good morning . twitter . here is little technology humor to start you off . . good morning . twitter . here is little technology humor to start you off . . .\\n',\n",
              " 'cnet tech news . crowd control . part nnbrr . mom not dead . she just in another univ . . . updates . hcpnnbrr cnet tech news . crowd control . part nnbrr . mom not dead . she just in another univ . . . updates . hcpnnbrr .\\n',\n",
              " 'crowd control . part nnbrr . mom not dead . she just in another universe cnet . in this installment . . tech crowd control . part nnbrr . mom not dead . she just in another universe cnet . in this installment . . tech .\\n',\n",
              " 'snips is personal assistant that combines all your data in one app startups . tech . snips is personal assistant that combines all your data in one app startups . tech . .\\n',\n",
              " 'the apple ii had hard drive of only nnbrr megabytes when it was launched . technology . fact the apple ii had hard drive of only nnbrr megabytes when it was launched . technology . fact .\\n',\n",
              " 'this is your last chance to apply to the techcrunch pitch off in stockholm startups . tech . this is your last chance to apply to the techcrunch pitch off in stockholm startups . tech . .\\n',\n",
              " 'ucwr adio snips is personal assistant that combines all your data in one app . technology ucwr adio snips is personal assistant that combines all your data in one app . technology .\\n',\n",
              " 'tech remember ello . you abandoned it . but artists didn . source . tech remember ello . you abandoned it . but artists didn . source . .\\n',\n",
              " 'tech dreamy photos that will put your instagram filters to shame . source . . tech dreamy photos that will put your instagram filters to shame . source . . .\\n',\n",
              " 'parrot zik touch control wireless headphone ncix tech tips tech news . . . parrot zik touch control wireless headphone ncix tech tips tech news . . . .\\n',\n",
              " 'sony xa ultra takes nnbrr megapixel stabilized selfies . . . . . news . photography . sony xa ultra takes nnbrr megapixel stabilized selfies . . . . . news . photography . .\\n',\n",
              " 'walleskannbrrsantos academic ebooks . . tech technology health fitness fit . book . books kindle reading walleskannbrrsantos academic ebooks . . tech technology health fitness fit . book . books kindle reading .\\n',\n",
              " 'business . . amazon restaurant delivery service lands in dallas and new york . launches . . entrepreneurship . business . . amazon restaurant delivery service lands in dallas and new york . launches . . entrepreneurship .\\n',\n",
              " '. scientificamerican . city parks may mend the mind . science education . scientificamerican . city parks may mend the mind . science education .\\n',\n",
              " 'garmin adds gps to an activity tracker with the vivosmart hr . tech . news . mo . garmin adds gps to an activity tracker with the vivosmart hr . tech . news . mo . .\\n',\n",
              " '. how intel missed the iphone revolution . by jonstnnbrrkes . . startups . news . how intel missed the iphone revolution . by jonstnnbrrkes . . startups . news .\\n',\n",
              " 'the struggle is real . . the meddler . writer . lorene scaf . . business . news . . . the struggle is real . . the meddler . writer . lorene scaf . . business . news . . . .\\n',\n",
              " 'the facebook effect . bbc cuts food site . local news and more factual content . will save nnbrrm\\n',\n",
              " ' technology securit . the facebook effect . bbc cuts food site . local news and more factual content . will save nnbrrm\\n',\n",
              " ' technology securit . .\\n',\n",
              " 'how intel missed the iphone revolution\\n',\n",
              " ' technology security news . how intel missed the iphone revolution\\n',\n",
              " ' technology security news . .\\n',\n",
              " 'motorola just announced two new moto gs . tech . motorola just announced two new moto gs . tech . .\\n',\n",
              " 'the facebook effect . bbc cuts food site . local news and more factual content . will save nnbrrm . tech . technology the facebook effect . bbc cuts food site . local news and more factual content . will save nnbrrm . tech . technology .\\n',\n",
              " 'first click . microsoft needs to fix skype . news . . first click . microsoft needs to fix skype . news . . .\\n',\n",
              " 'garmin adds gps to an activity tracker with the vivosmart hr . . business . . garmin adds gps to an activity tracker with the vivosmart hr . . business . . .\\n',\n",
              " 'the surprising source of most of your problems . . business . . the surprising source of most of your problems . . business . . .\\n',\n",
              " 'ucwr adio sketchfab now supports all vr headsets for its nnbrrd model sharing platform . technology ucwr adio sketchfab now supports all vr headsets for its nnbrrd model sharing platform . technology .\\n',\n",
              " 'hackers find security flaws in mr . robot website cnet . . feedly hackers find security flaws in mr . robot website cnet . . feedly .\\n',\n",
              " 'sketchfab now supports all vr headsets for its nnbrrd model sharing platform . sitesetup . tech . news sketchfab now supports all vr headsets for its nnbrrd model sharing platform . sitesetup . tech . news .\\n',\n",
              " 'line has launched delivery service app in thailand . tech line has launched delivery service app in thailand . tech .\\n',\n",
              " 'nnbrr ideas to keep small business marketing and social media going . \\n',\n",
              " 'resources and time are . . socialmedia . tech nnbrr ideas to keep small business marketing and social media going . \\n',\n",
              " 'resources and time are . . socialmedia . tech .\\n',\n",
              " 'the state of wearable technology and the innovations it brings . stuff . via stufftv mobile . tech . innovation the state of wearable technology and the innovations it brings . stuff . via stufftv mobile . tech . innovation .\\n',\n",
              " 'removing tartar usually required visit to your dentist . . . . howto . . . removing tartar usually required visit to your dentist . . . . howto . . . .\\n',\n",
              " 'is whatsapp poised to launch video calling feature . . . . is whatsapp poised to launch video calling feature . . . . .\\n',\n",
              " 'warren buffett berkshire hathaway bets mnnbrr billion on apple . info . tech warren buffett berkshire hathaway bets mnnbrr billion on apple . info . tech .\\n',\n",
              " 'the blisk browser is web developer dream come true\\n',\n",
              " ' . webdev . . . the blisk browser is web developer dream come true\\n',\n",
              " ' . webdev . . . .\\n',\n",
              " 'rntatannbrr backs medical response startup murgencynetwork\\n',\n",
              " ' . ndtv\\n',\n",
              " ' ratantata . app . growth . business rntatannbrr backs medical response startup murgencynetwork\\n',\n",
              " ' . ndtv\\n',\n",
              " ' ratantata . app . growth . business .\\n',\n",
              " 'twitter only had nnbrr employees in january nnbrr . twitter socialmedia . . internet . business . twitter only had nnbrr employees in january nnbrr . twitter socialmedia . . internet . business . .\\n',\n",
              " 'frugal business technology business blog posts . . business tech silicon valley . frugal business technology business blog posts . . business tech silicon valley . .\\n',\n",
              " 'morning . nnbrr collaboration on tech . dev . smm . education . entrepreneur and social good . obsessed . helping others . morning . nnbrr collaboration on tech . dev . smm . education . entrepreneur and social good . obsessed . helping others . .\\n',\n",
              " 'more children accidently poisoned by essential oils . health medical science poison research more children accidently poisoned by essential oils . health medical science poison research .\\n',\n",
              " 'tablets out . imagination in . the schools that shun technology . education . technology it school . hitech tablets out . imagination in . the schools that shun technology . education . technology it school . hitech .\\n',\n",
              " 'data breaches chip away at it pros confidence in security news . . . data breaches chip away at it pros confidence in security news . . . .\\n',\n",
              " '. microsoft and sap love grows stronger in the cloud . . . . microsoft and sap love grows stronger in the cloud . . . .\\n',\n",
              " 'teamviewer nnbrr . nnbrr . tech teamviewer nnbrr . nnbrr . tech .\\n',\n",
              " 'what is edgar . from their website . edgar is social . . news . . . . what is edgar . from their website . edgar is social . . news . . . . .\\n',\n",
              " 'citrus valley robotics students earn spot in skillsusa national competition redlands daily facts . robotics . . citrus valley robotics students earn spot in skillsusa national competition redlands daily facts . robotics . . .\\n',\n",
              " 'state of the art . analysing where art meets technology using socialnetwork data . via nesta uk state of the art . analysing where art meets technology using socialnetwork data . via nesta uk .\\n',\n",
              " 'globally . glacier melt is without precedent . see the evidence . . climatechange . science . photography globally . glacier melt is without precedent . see the evidence . . climatechange . science . photography .\\n',\n",
              " 'xiaomi will feature at google . nnbrr . teaser hints at possible andr . . tech technews xiaomi will feature at google . nnbrr . teaser hints at possible andr . . tech technews .\\n',\n",
              " 'capsule launches to reinvent the pharmacy . complete with med delivery . startups . . . capsule launches to reinvent the pharmacy . complete with med delivery . startups . . . .\\n',\n",
              " '. video . tech innovation with side of barbecue is kansas city the next startup hub . . . . video . tech innovation with side of barbecue is kansas city the next startup hub . . . .\\n',\n",
              " '. video . tech innovation with side of barbecue is kansas city the next startup hub . . . . video . tech innovation with side of barbecue is kansas city the next startup hub . . . .\\n',\n",
              " 'interesting news coming from xiaomi for google io nnbrr let see what it will be tech . technews . . . status . interesting news coming from xiaomi for google io nnbrr let see what it will be tech . technews . . . status . xiaomi will play an exciting part at google . apparently . . xiaomi will play an exciting part at google . apparently . . .\\n',\n",
              " 'apple watch os nnbrr . nnbrr . tech apple watch os nnbrr . nnbrr . tech .\\n',\n",
              " 'netflix ceo is skeptical of vr because you can binge watch the verge . newflix . vod . news . . tv . televi netflix ceo is skeptical of vr because you can binge watch the verge . newflix . vod . news . . tv . televi .\\n',\n",
              " '. brief mls consortium plans to bid for osram licht lighting assets . . news tec . brief mls consortium plans to bid for osram licht lighting assets . . news tec .\\n',\n",
              " 'capsule launches to reinvent the pharmacy . complete with med delivery . technology . apps capsule launches to reinvent the pharmacy . complete with med delivery . technology . apps .\\n',\n",
              " '. video . tech innovation with side of barbecue is kansas city the next startup hub . . . . video . tech innovation with side of barbecue is kansas city the next startup hub . . . .\\n',\n",
              " 'confirmation bias . . can be seen as tunnel vision . psychology . mentalhealth . science confirmation bias . . can be seen as tunnel vision . psychology . mentalhealth . science .\\n',\n",
              " 'embracing through human centric innovation drives business transformation . . embracing through human centric innovation drives business transformation . . .\\n',\n",
              " '. oneplus nnbrr uk launch . specs . features . and design that looks exactly like the htc mnnbrr . high resolution . . . oneplus nnbrr uk launch . specs . features . and design that looks exactly like the htc mnnbrr . high resolution . . .\\n',\n",
              " 'in ad tech news . instagram is making some big changes in the branding space . in ad tech news . instagram is making some big changes in the branding space . .\\n',\n",
              " 'excited to be going to icimh nnbrr conference in lv to share our oiccsupport myccnmresearch myccnm research . . excited to be going to icimh nnbrr conference in lv to share our oiccsupport myccnmresearch myccnm research . . .\\n',\n",
              " 'science feeling stressed . do some gardening . anti stress bug found in soil could help us cope with pressure an . . science feeling stressed . do some gardening . anti stress bug found in soil could help us cope with pressure an . . .\\n',\n",
              " 'nnbrr tech tools to help you relax tech tools . via wonderof nnbrr tech tools to help you relax tech tools . via wonderof .\\n',\n",
              " 'allurion offers gastric bypass surgery in pill . . allurion offers gastric bypass surgery in pill . . .\\n',\n",
              " 'guy brings cat to prom and gets the best photoshop battle . \\n',\n",
              " 'it was inevitable . really . \\n',\n",
              " 'the inter . . . news guy brings cat to prom and gets the best photoshop battle . \\n',\n",
              " 'it was inevitable . really . \\n',\n",
              " 'the inter . . . news .\\n',\n",
              " 'insurance company invests in internet of things device . could there be implications for workplacesafety too . tech . insurance company invests in internet of things device . could there be implications for workplacesafety too . tech . we ve been approaching the internet of things all wrong . we ve been approaching the internet of things all wrong . .\\n',\n",
              " 'from mobilecrunch . google image search will now include shopping ads . as more of today . . mobile . tech . apps from mobilecrunch . google image search will now include shopping ads . as more of today . . mobile . tech . apps .\\n',\n",
              " 'the case of sepsis and the swarming staph . from our blogs . under the microscope . . . news the case of sepsis and the swarming staph . from our blogs . under the microscope . . . news .\\n',\n",
              " 'learning as much as you can . . . business . investing . success . learning as much as you can . . . business . investing . success . .\\n',\n",
              " 'science earth was hit by massive asteroid more than nnbrr billion years ago that could have wiped out humanity . th . . science earth was hit by massive asteroid more than nnbrr billion years ago that could have wiped out humanity . th . . .\\n',\n",
              " 'are we all women in tech . . business . . are we all women in tech . . business . . .\\n',\n",
              " 'world smallest porpoise . the vaquita . may be extinct by nnbrr . . news technology world smallest porpoise . the vaquita . may be extinct by nnbrr . . news technology .']"
            ]
          },
          "metadata": {
            "tags": []
          },
          "execution_count": 33
        }
      ]
    },
    {
      "cell_type": "code",
      "metadata": {
        "id": "KgjxSaem4Jkh",
        "colab_type": "code",
        "colab": {
          "base_uri": "https://localhost:8080/",
          "height": 72
        },
        "outputId": "a9dc0609-0655-48c3-b55b-674c7ab982b6"
      },
      "source": [
        "ls"
      ],
      "execution_count": 34,
      "outputs": [
        {
          "output_type": "stream",
          "text": [
            "\u001b[0m\u001b[01;34mdatasets\u001b[0m/           README.md                   topic_categorization.py\n",
            "movie_review.ipynb  \u001b[01;34mss3_models\u001b[0m/\n",
            "movie_review.py     topic_categorization.ipynb\n"
          ],
          "name": "stdout"
        }
      ]
    },
    {
      "cell_type": "code",
      "metadata": {
        "id": "to6_Ldkk4P4y",
        "colab_type": "code",
        "colab": {
          "base_uri": "https://localhost:8080/",
          "height": 135
        },
        "outputId": "979b17aa-7ae8-430e-e372-ed9ad158c6da"
      },
      "source": [
        "cd.."
      ],
      "execution_count": 35,
      "outputs": [
        {
          "output_type": "error",
          "ename": "SyntaxError",
          "evalue": "ignored",
          "traceback": [
            "\u001b[0;36m  File \u001b[0;32m\"<ipython-input-35-d6c65a1e1ff4>\"\u001b[0;36m, line \u001b[0;32m1\u001b[0m\n\u001b[0;31m    cd..\u001b[0m\n\u001b[0m       ^\u001b[0m\n\u001b[0;31mSyntaxError\u001b[0m\u001b[0;31m:\u001b[0m invalid syntax\n"
          ]
        }
      ]
    },
    {
      "cell_type": "code",
      "metadata": {
        "id": "xrupjihf4TiR",
        "colab_type": "code",
        "colab": {
          "base_uri": "https://localhost:8080/",
          "height": 35
        },
        "outputId": "64af1ab5-ef58-4db8-f4fa-757332e3d3cf"
      },
      "source": [
        "cd .."
      ],
      "execution_count": 36,
      "outputs": [
        {
          "output_type": "stream",
          "text": [
            "/content/pyss3\n"
          ],
          "name": "stdout"
        }
      ]
    },
    {
      "cell_type": "code",
      "metadata": {
        "id": "8y9N48cw4WgQ",
        "colab_type": "code",
        "colab": {
          "base_uri": "https://localhost:8080/",
          "height": 72
        },
        "outputId": "f39828f1-e212-4cad-b17d-0635ce8e5d6a"
      },
      "source": [
        "ls"
      ],
      "execution_count": 37,
      "outputs": [
        {
          "output_type": "stream",
          "text": [
            "CHANGELOG.md        \u001b[0m\u001b[01;34mdocs\u001b[0m/        \u001b[01;34mpyss3\u001b[0m/                requirements.txt  \u001b[01;34mtests\u001b[0m/\n",
            "CODE_OF_CONDUCT.md  \u001b[01;34mexamples\u001b[0m/    README.md             setup.cfg\n",
            "CONTRIBUTING.md     LICENSE.txt  requirements-dev.txt  setup.py\n"
          ],
          "name": "stdout"
        }
      ]
    },
    {
      "cell_type": "code",
      "metadata": {
        "id": "kD-bp9Fj445Y",
        "colab_type": "code",
        "colab": {
          "base_uri": "https://localhost:8080/",
          "height": 35
        },
        "outputId": "329492b0-7d34-470c-fde2-14115f67dbf7"
      },
      "source": [
        "cd pyss3"
      ],
      "execution_count": 38,
      "outputs": [
        {
          "output_type": "stream",
          "text": [
            "/content/pyss3/pyss3\n"
          ],
          "name": "stdout"
        }
      ]
    },
    {
      "cell_type": "code",
      "metadata": {
        "id": "chjOGfw449fw",
        "colab_type": "code",
        "colab": {
          "base_uri": "https://localhost:8080/",
          "height": 35
        },
        "outputId": "0a9d4188-729b-41fe-9eb5-29f35bcfe595"
      },
      "source": [
        "ls"
      ],
      "execution_count": 39,
      "outputs": [
        {
          "output_type": "stream",
          "text": [
            "cmd_line.py  __init__.py  \u001b[0m\u001b[01;34mresources\u001b[0m/  server.py  util.py\n"
          ],
          "name": "stdout"
        }
      ]
    },
    {
      "cell_type": "code",
      "metadata": {
        "id": "5huZYAqO5Ap4",
        "colab_type": "code",
        "colab": {
          "base_uri": "https://localhost:8080/",
          "height": 171
        },
        "outputId": "c14b9b80-f3c9-468e-868d-27ad18b639b7"
      },
      "source": [
        "cmd_line.py"
      ],
      "execution_count": 41,
      "outputs": [
        {
          "output_type": "error",
          "ename": "NameError",
          "evalue": "ignored",
          "traceback": [
            "\u001b[0;31m---------------------------------------------------------------------------\u001b[0m",
            "\u001b[0;31mNameError\u001b[0m                                 Traceback (most recent call last)",
            "\u001b[0;32m<ipython-input-41-617b8613ef25>\u001b[0m in \u001b[0;36m<module>\u001b[0;34m()\u001b[0m\n\u001b[0;32m----> 1\u001b[0;31m \u001b[0mcmd_line\u001b[0m\u001b[0;34m.\u001b[0m\u001b[0mpy\u001b[0m\u001b[0;34m\u001b[0m\u001b[0;34m\u001b[0m\u001b[0m\n\u001b[0m",
            "\u001b[0;31mNameError\u001b[0m: name 'cmd_line' is not defined"
          ]
        }
      ]
    },
    {
      "cell_type": "code",
      "metadata": {
        "id": "1PCM23cn5KCY",
        "colab_type": "code",
        "colab": {}
      },
      "source": [
        ""
      ],
      "execution_count": 0,
      "outputs": []
    }
  ]
}